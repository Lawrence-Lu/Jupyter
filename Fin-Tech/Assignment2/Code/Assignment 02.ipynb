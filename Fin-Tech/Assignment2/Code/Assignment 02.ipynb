{
 "cells": [
  {
   "cell_type": "markdown",
   "id": "ea95f474",
   "metadata": {},
   "source": [
    "# Fintech Assignment 02\n",
    "**\\*\\*\\*Lu Youcong\\*\\*\\***  \n",
    "**MDS 2021 Term 01**  \n",
    "**2021/09/27**  \n",
    "  \n",
    "\n",
    "## Content <a id=\"0.1\"></a>\n",
    "* [1. Renrendai loans](#1)\n",
    "   * [1.1 Data Summary](#1.1)\n",
    "   * [1.2 Feature cleanning and engeenering](#1.2)\n",
    "       * [1.2.1 On Default regression](#1.2.1)\n",
    "       * [1.2.2 On Bids regression](#1.2.2)\n",
    "   * [1.3 Logit regression](#1.3)\n",
    "       * [1.3.1 Logit regression Model selection](#1.3.1)\n",
    "       * [1.3.2 Logit regression Conlusion](#1.3.2) \n",
    "       * [1.3.3 Further study a comparison between logit regression and random forest](#1.3.3)\n",
    "   * [1.4 Ols Regression](#1.4)\n",
    "* [2. P2P lending platform](#2)\n",
    "   * [2.1 Datasummary](#2.1)\n",
    "   * [2.2 Cox Model](#2.2)  \n",
    "     \n",
    "  Notebook and related Resource:   \n",
    "  <u>https://github.com/Lawrence-Lu/Jupyter_git.git</u>"
   ]
  },
  {
   "cell_type": "markdown",
   "id": "904eb0d8",
   "metadata": {},
   "source": [
    "<a id=\"1\"></a>\n",
    "## 1.Renrendai loans"
   ]
  },
  {
   "cell_type": "markdown",
   "id": "f8530b71",
   "metadata": {},
   "source": [
    "<a id=\"1.1\"></a>\n",
    "##  1.1 Data Summary\n",
    "\n",
    "In this part we overlook all the data in \"Renrendai\". And I will look at the whole picture of the data. Lately in 1.2 I will \n",
    "kick start some detailed feature engeneering based on the problem we are facing\n",
    "\n",
    "**(1) Data Description**  \n",
    "We found there are total 10k records X 25 features.  \n",
    "Most of the features contained clean data except serval features contain incomplete data  \n",
    " (\n",
    "    EDUCATION    9996 non-null   float64  \n",
    "    WORKTIME     9994 non-null   float64  \n",
    "    INCOME       9998 non-null   float64  \n",
    "    IND          9318 non-null   object  \n",
    "    CITY         9857 non-null   object   \n",
    "    PURPOSE  9994 non -null       object\n",
    " )  \n",
    " \n",
    " \n",
    " **(2)Feature transforming**   \n",
    " There are 10 features are objects including: STATUS, IND-Industry, City, Purpose, Marry, Open time, Readytime, Title  \n",
    " Description, nickname. I transform theses two types of data since it may be useful   \n",
    " 2.1) I transform time value from time to integer for further study,only keeping duration(Ready time -Open time)  \n",
    " 2.2) Create dummy variables for Lable feature with few types including: Marry, Purpose, IND\n",
    "   \n",
    " [Back to content](#0.1)"
   ]
  },
  {
   "cell_type": "code",
   "execution_count": 16,
   "id": "496a9e6c",
   "metadata": {},
   "outputs": [],
   "source": [
    "import pandas as pd\n",
    "import numpy as np\n",
    "import math\n",
    "import matplotlib.pyplot as plt\n",
    "import seaborn as sns\n",
    "from sklearn.model_selection import train_test_split\n",
    "from sklearn.linear_model import LogisticRegression\n",
    "from sklearn.linear_model import LinearRegression\n",
    "from sklearn.ensemble import RandomForestClassifier\n",
    "from sklearn.preprocessing import PolynomialFeatures\n",
    "from sklearn.pipeline import Pipeline\n",
    "import statsmodels.api as sm\n",
    "import statsmodels.formula.api as smf\n",
    "from IPython.core.interactiveshell import InteractiveShell\n",
    "InteractiveShell.ast_node_interactivity = \"all\""
   ]
  },
  {
   "cell_type": "code",
   "execution_count": 17,
   "id": "128fcc17",
   "metadata": {},
   "outputs": [
    {
     "data": {
      "text/html": [
       "<div>\n",
       "<style scoped>\n",
       "    .dataframe tbody tr th:only-of-type {\n",
       "        vertical-align: middle;\n",
       "    }\n",
       "\n",
       "    .dataframe tbody tr th {\n",
       "        vertical-align: top;\n",
       "    }\n",
       "\n",
       "    .dataframe thead th {\n",
       "        text-align: right;\n",
       "    }\n",
       "</style>\n",
       "<table border=\"1\" class=\"dataframe\">\n",
       "  <thead>\n",
       "    <tr style=\"text-align: right;\">\n",
       "      <th></th>\n",
       "      <th>loanId</th>\n",
       "      <th>STATUS</th>\n",
       "      <th>BIDS</th>\n",
       "      <th>DEFAULT</th>\n",
       "      <th>AMOUNT</th>\n",
       "      <th>INTEREST</th>\n",
       "      <th>MONTHS</th>\n",
       "      <th>CREDIT</th>\n",
       "      <th>HOUSE</th>\n",
       "      <th>CAR</th>\n",
       "      <th>...</th>\n",
       "      <th>IND</th>\n",
       "      <th>CITY</th>\n",
       "      <th>PURPOSE</th>\n",
       "      <th>MARRY</th>\n",
       "      <th>AGE</th>\n",
       "      <th>opentime</th>\n",
       "      <th>readytime</th>\n",
       "      <th>title</th>\n",
       "      <th>description</th>\n",
       "      <th>nickName</th>\n",
       "    </tr>\n",
       "  </thead>\n",
       "  <tbody>\n",
       "    <tr>\n",
       "      <th>0</th>\n",
       "      <td>2</td>\n",
       "      <td>CLOSED</td>\n",
       "      <td>9</td>\n",
       "      <td>0</td>\n",
       "      <td>3000</td>\n",
       "      <td>5.0</td>\n",
       "      <td>6</td>\n",
       "      <td>7</td>\n",
       "      <td>1</td>\n",
       "      <td>1</td>\n",
       "      <td>...</td>\n",
       "      <td>IT</td>\n",
       "      <td>北京</td>\n",
       "      <td>其他借款</td>\n",
       "      <td>未婚</td>\n",
       "      <td>33</td>\n",
       "      <td>2010/10/12 17:17</td>\n",
       "      <td>2010/10/15 11:00</td>\n",
       "      <td>庆祝上线</td>\n",
       "      <td>看着人人贷经过精心的筹备,和长时间的内测,终于正式和大家见面了.特地来发个标, 希望大家多多...</td>\n",
       "      <td>一夫</td>\n",
       "    </tr>\n",
       "    <tr>\n",
       "      <th>1</th>\n",
       "      <td>11</td>\n",
       "      <td>CLOSED</td>\n",
       "      <td>8</td>\n",
       "      <td>0</td>\n",
       "      <td>3000</td>\n",
       "      <td>18.0</td>\n",
       "      <td>3</td>\n",
       "      <td>3</td>\n",
       "      <td>0</td>\n",
       "      <td>0</td>\n",
       "      <td>...</td>\n",
       "      <td>教育/培训</td>\n",
       "      <td>北京</td>\n",
       "      <td>其他借款</td>\n",
       "      <td>未婚</td>\n",
       "      <td>37</td>\n",
       "      <td>2010/10/18 16:40</td>\n",
       "      <td>2010/10/21 17:07</td>\n",
       "      <td>增加信用，重新发布借款</td>\n",
       "      <td>第一次借款不幸失败，这次特意做了收入审核。希望之前支持的朋友继续支持我，新朋友也可以看看我做...</td>\n",
       "      <td>郭遐</td>\n",
       "    </tr>\n",
       "    <tr>\n",
       "      <th>2</th>\n",
       "      <td>16</td>\n",
       "      <td>CLOSED</td>\n",
       "      <td>8</td>\n",
       "      <td>0</td>\n",
       "      <td>3000</td>\n",
       "      <td>12.0</td>\n",
       "      <td>12</td>\n",
       "      <td>3</td>\n",
       "      <td>0</td>\n",
       "      <td>0</td>\n",
       "      <td>...</td>\n",
       "      <td>教育/培训</td>\n",
       "      <td>北京</td>\n",
       "      <td>其他借款</td>\n",
       "      <td>未婚</td>\n",
       "      <td>37</td>\n",
       "      <td>2010/10/21 17:26</td>\n",
       "      <td>2010/10/28 14:35</td>\n",
       "      <td>积累信用，继续发标</td>\n",
       "      <td>做过收入认证果然不一样，第一次发标失败了，第二次做了收入认证很快就满标了。 这次降低一点利率...</td>\n",
       "      <td>郭遐</td>\n",
       "    </tr>\n",
       "    <tr>\n",
       "      <th>3</th>\n",
       "      <td>19</td>\n",
       "      <td>CLOSED</td>\n",
       "      <td>11</td>\n",
       "      <td>0</td>\n",
       "      <td>3000</td>\n",
       "      <td>8.8</td>\n",
       "      <td>12</td>\n",
       "      <td>7</td>\n",
       "      <td>1</td>\n",
       "      <td>1</td>\n",
       "      <td>...</td>\n",
       "      <td>IT</td>\n",
       "      <td>北京</td>\n",
       "      <td>其他借款</td>\n",
       "      <td>未婚</td>\n",
       "      <td>33</td>\n",
       "      <td>2010/10/25 17:19</td>\n",
       "      <td>2010/10/28 20:58</td>\n",
       "      <td>信用与人人贷一起进步</td>\n",
       "      <td>刚才提前还清了第一笔借款，以证明自己的信用。再次发标只为继续积累信用和人气。希望朋友们投标。...</td>\n",
       "      <td>一夫</td>\n",
       "    </tr>\n",
       "    <tr>\n",
       "      <th>4</th>\n",
       "      <td>20</td>\n",
       "      <td>CLOSED</td>\n",
       "      <td>15</td>\n",
       "      <td>0</td>\n",
       "      <td>5000</td>\n",
       "      <td>15.0</td>\n",
       "      <td>12</td>\n",
       "      <td>7</td>\n",
       "      <td>0</td>\n",
       "      <td>1</td>\n",
       "      <td>...</td>\n",
       "      <td>其它</td>\n",
       "      <td>北京</td>\n",
       "      <td>个人消费</td>\n",
       "      <td>未婚</td>\n",
       "      <td>33</td>\n",
       "      <td>2010/10/26 14:29</td>\n",
       "      <td>2010/10/28 14:34</td>\n",
       "      <td>刚刚搬出来自己住，借钱添置些东西</td>\n",
       "      <td>工作也有两年多了，打算自己搬出来住了. 房子已经租好了，跟一个朋友合住，我一个月出1200....</td>\n",
       "      <td>小猫Mia</td>\n",
       "    </tr>\n",
       "  </tbody>\n",
       "</table>\n",
       "<p>5 rows × 25 columns</p>\n",
       "</div>"
      ],
      "text/plain": [
       "   loanId  STATUS  BIDS  DEFAULT  AMOUNT  INTEREST  MONTHS  CREDIT  HOUSE  \\\n",
       "0       2  CLOSED     9        0    3000       5.0       6       7      1   \n",
       "1      11  CLOSED     8        0    3000      18.0       3       3      0   \n",
       "2      16  CLOSED     8        0    3000      12.0      12       3      0   \n",
       "3      19  CLOSED    11        0    3000       8.8      12       7      1   \n",
       "4      20  CLOSED    15        0    5000      15.0      12       7      0   \n",
       "\n",
       "   CAR  ...    IND  CITY  PURPOSE  MARRY  AGE          opentime  \\\n",
       "0    1  ...     IT    北京     其他借款     未婚   33  2010/10/12 17:17   \n",
       "1    0  ...  教育/培训    北京     其他借款     未婚   37  2010/10/18 16:40   \n",
       "2    0  ...  教育/培训    北京     其他借款     未婚   37  2010/10/21 17:26   \n",
       "3    1  ...     IT    北京     其他借款     未婚   33  2010/10/25 17:19   \n",
       "4    1  ...     其它    北京     个人消费     未婚   33  2010/10/26 14:29   \n",
       "\n",
       "          readytime             title  \\\n",
       "0  2010/10/15 11:00              庆祝上线   \n",
       "1  2010/10/21 17:07       增加信用，重新发布借款   \n",
       "2  2010/10/28 14:35         积累信用，继续发标   \n",
       "3  2010/10/28 20:58        信用与人人贷一起进步   \n",
       "4  2010/10/28 14:34  刚刚搬出来自己住，借钱添置些东西   \n",
       "\n",
       "                                         description  nickName  \n",
       "0  看着人人贷经过精心的筹备,和长时间的内测,终于正式和大家见面了.特地来发个标, 希望大家多多...        一夫  \n",
       "1  第一次借款不幸失败，这次特意做了收入审核。希望之前支持的朋友继续支持我，新朋友也可以看看我做...        郭遐  \n",
       "2  做过收入认证果然不一样，第一次发标失败了，第二次做了收入认证很快就满标了。 这次降低一点利率...        郭遐  \n",
       "3  刚才提前还清了第一笔借款，以证明自己的信用。再次发标只为继续积累信用和人气。希望朋友们投标。...        一夫  \n",
       "4  工作也有两年多了，打算自己搬出来住了. 房子已经租好了，跟一个朋友合住，我一个月出1200....     小猫Mia  \n",
       "\n",
       "[5 rows x 25 columns]"
      ]
     },
     "execution_count": 17,
     "metadata": {},
     "output_type": "execute_result"
    }
   ],
   "source": [
    "data = pd.read_csv(r\"..\\Week 2 Assignment\\loanraw.csv\",encoding=\"gbk\")\n",
    "data.head()"
   ]
  },
  {
   "cell_type": "code",
   "execution_count": 18,
   "id": "1f420fe4",
   "metadata": {},
   "outputs": [
    {
     "data": {
      "text/plain": [
       "(10000, 25)"
      ]
     },
     "execution_count": 18,
     "metadata": {},
     "output_type": "execute_result"
    }
   ],
   "source": [
    "data.shape"
   ]
  },
  {
   "cell_type": "code",
   "execution_count": 19,
   "id": "e1f26b6a",
   "metadata": {},
   "outputs": [
    {
     "name": "stdout",
     "output_type": "stream",
     "text": [
      "<class 'pandas.core.frame.DataFrame'>\n",
      "RangeIndex: 10000 entries, 0 to 9999\n",
      "Data columns (total 25 columns):\n",
      " #   Column       Non-Null Count  Dtype  \n",
      "---  ------       --------------  -----  \n",
      " 0   loanId       10000 non-null  int64  \n",
      " 1   STATUS       10000 non-null  object \n",
      " 2   BIDS         10000 non-null  int64  \n",
      " 3   DEFAULT      10000 non-null  int64  \n",
      " 4   AMOUNT       10000 non-null  int64  \n",
      " 5   INTEREST     10000 non-null  float64\n",
      " 6   MONTHS       10000 non-null  int64  \n",
      " 7   CREDIT       10000 non-null  int64  \n",
      " 8   HOUSE        10000 non-null  int64  \n",
      " 9   CAR          10000 non-null  int64  \n",
      " 10  HOUSE_L      10000 non-null  int64  \n",
      " 11  CAR_L        10000 non-null  int64  \n",
      " 12  EDUCATION    9996 non-null   float64\n",
      " 13  WORKTIME     9994 non-null   float64\n",
      " 14  INCOME       9998 non-null   float64\n",
      " 15  IND          9318 non-null   object \n",
      " 16  CITY         9857 non-null   object \n",
      " 17  PURPOSE      9994 non-null   object \n",
      " 18  MARRY        10000 non-null  object \n",
      " 19  AGE          10000 non-null  int64  \n",
      " 20  opentime     10000 non-null  object \n",
      " 21  readytime    10000 non-null  object \n",
      " 22  title        10000 non-null  object \n",
      " 23  description  10000 non-null  object \n",
      " 24  nickName     10000 non-null  object \n",
      "dtypes: float64(4), int64(11), object(10)\n",
      "memory usage: 1.9+ MB\n"
     ]
    }
   ],
   "source": [
    "data.info()"
   ]
  },
  {
   "cell_type": "markdown",
   "id": "817cd834",
   "metadata": {},
   "source": [
    "***Construct new feature \"duration\"***  \n",
    "based on the gap between \"readytime\" and \"opentime\" (accurate to hour), using day as unit"
   ]
  },
  {
   "cell_type": "code",
   "execution_count": 20,
   "id": "2dbe5dab",
   "metadata": {},
   "outputs": [
    {
     "data": {
      "text/plain": [
       "count    10000.000000\n",
       "mean         3.769125\n",
       "std          4.548706\n",
       "min         -0.500000\n",
       "25%          0.000000\n",
       "50%          2.625000\n",
       "75%          5.708333\n",
       "max         37.375000\n",
       "Name: duration, dtype: float64"
      ]
     },
     "execution_count": 20,
     "metadata": {},
     "output_type": "execute_result"
    }
   ],
   "source": [
    "data['duration'] = (pd.to_datetime(data[\"readytime\"]) - pd.to_datetime(data[\"opentime\"])).astype('timedelta64[h]').astype(float)/24\n",
    "data.describe()['duration']"
   ]
  },
  {
   "cell_type": "markdown",
   "id": "457049b4",
   "metadata": {},
   "source": [
    "***Construct new dummy variables for label features***  \n",
    "MARRY: 4 possible status\n",
    "PURPOSE: 10 possible status\n",
    "IND : 20 possible status"
   ]
  },
  {
   "cell_type": "code",
   "execution_count": 21,
   "id": "a1cc6f59",
   "metadata": {},
   "outputs": [],
   "source": [
    "data_2 = pd.get_dummies(data,columns=[\"MARRY\",\"PURPOSE\",\"IND\"])"
   ]
  },
  {
   "cell_type": "code",
   "execution_count": 22,
   "id": "ad95ea52",
   "metadata": {},
   "outputs": [
    {
     "data": {
      "text/plain": [
       "Index(['loanId', 'STATUS', 'BIDS', 'DEFAULT', 'AMOUNT', 'INTEREST', 'MONTHS',\n",
       "       'CREDIT', 'HOUSE', 'CAR', 'HOUSE_L', 'CAR_L', 'EDUCATION', 'WORKTIME',\n",
       "       'INCOME', 'CITY', 'AGE', 'opentime', 'readytime', 'title',\n",
       "       'description', 'nickName', 'duration', 'MARRY_丧偶', 'MARRY_已婚',\n",
       "       'MARRY_未婚', 'MARRY_离异', 'PURPOSE_个人消费', 'PURPOSE_其他借款', 'PURPOSE_医疗支出',\n",
       "       'PURPOSE_婚礼筹备', 'PURPOSE_投资创业', 'PURPOSE_教育培训', 'PURPOSE_短期周转',\n",
       "       'PURPOSE_装修借款', 'PURPOSE_购房借款', 'PURPOSE_购车借款', 'IND_IT', 'IND_交通运输业',\n",
       "       'IND_体育/艺术', 'IND_公共事业', 'IND_公益组织', 'IND_其它', 'IND_农业', 'IND_制造业',\n",
       "       'IND_医疗/卫生/保健', 'IND_娱乐服务业', 'IND_媒体/广告', 'IND_建筑工程', 'IND_房地产业',\n",
       "       'IND_政府机关', 'IND_教育/培训', 'IND_能源业', 'IND_计算机系统', 'IND_金融/法律',\n",
       "       'IND_零售/批发', 'IND_餐饮/旅馆业'],\n",
       "      dtype='object')"
      ]
     },
     "execution_count": 22,
     "metadata": {},
     "output_type": "execute_result"
    }
   ],
   "source": [
    "data_2.columns"
   ]
  },
  {
   "cell_type": "markdown",
   "id": "9309dde2",
   "metadata": {},
   "source": [
    "***Data summary based on experience***  \n",
    "Bowrrer characteristics: Credit, car, house, education, worktime, Income   \n",
    "Loan characteristics: Amount, interest,MONTHS, duration"
   ]
  },
  {
   "cell_type": "code",
   "execution_count": 23,
   "id": "0ce0f4d0",
   "metadata": {},
   "outputs": [
    {
     "data": {
      "text/html": [
       "<div>\n",
       "<style scoped>\n",
       "    .dataframe tbody tr th:only-of-type {\n",
       "        vertical-align: middle;\n",
       "    }\n",
       "\n",
       "    .dataframe tbody tr th {\n",
       "        vertical-align: top;\n",
       "    }\n",
       "\n",
       "    .dataframe thead th {\n",
       "        text-align: right;\n",
       "    }\n",
       "</style>\n",
       "<table border=\"1\" class=\"dataframe\">\n",
       "  <thead>\n",
       "    <tr style=\"text-align: right;\">\n",
       "      <th></th>\n",
       "      <th>CREDIT</th>\n",
       "      <th>CAR</th>\n",
       "      <th>HOUSE</th>\n",
       "      <th>EDUCATION</th>\n",
       "      <th>INCOME</th>\n",
       "      <th>WORKTIME</th>\n",
       "    </tr>\n",
       "  </thead>\n",
       "  <tbody>\n",
       "    <tr>\n",
       "      <th>count</th>\n",
       "      <td>10000.00000</td>\n",
       "      <td>10000.000000</td>\n",
       "      <td>10000.000000</td>\n",
       "      <td>9996.000000</td>\n",
       "      <td>9998.000000</td>\n",
       "      <td>9994.000000</td>\n",
       "    </tr>\n",
       "    <tr>\n",
       "      <th>mean</th>\n",
       "      <td>2.14630</td>\n",
       "      <td>0.391700</td>\n",
       "      <td>0.564500</td>\n",
       "      <td>2.165966</td>\n",
       "      <td>4.309162</td>\n",
       "      <td>2.838003</td>\n",
       "    </tr>\n",
       "    <tr>\n",
       "      <th>std</th>\n",
       "      <td>1.53099</td>\n",
       "      <td>0.488155</td>\n",
       "      <td>0.495847</td>\n",
       "      <td>0.818108</td>\n",
       "      <td>1.335842</td>\n",
       "      <td>0.992755</td>\n",
       "    </tr>\n",
       "    <tr>\n",
       "      <th>min</th>\n",
       "      <td>1.00000</td>\n",
       "      <td>0.000000</td>\n",
       "      <td>0.000000</td>\n",
       "      <td>1.000000</td>\n",
       "      <td>1.000000</td>\n",
       "      <td>1.000000</td>\n",
       "    </tr>\n",
       "    <tr>\n",
       "      <th>25%</th>\n",
       "      <td>1.00000</td>\n",
       "      <td>0.000000</td>\n",
       "      <td>0.000000</td>\n",
       "      <td>2.000000</td>\n",
       "      <td>3.000000</td>\n",
       "      <td>2.000000</td>\n",
       "    </tr>\n",
       "    <tr>\n",
       "      <th>50%</th>\n",
       "      <td>2.00000</td>\n",
       "      <td>0.000000</td>\n",
       "      <td>1.000000</td>\n",
       "      <td>2.000000</td>\n",
       "      <td>4.000000</td>\n",
       "      <td>3.000000</td>\n",
       "    </tr>\n",
       "    <tr>\n",
       "      <th>75%</th>\n",
       "      <td>3.00000</td>\n",
       "      <td>1.000000</td>\n",
       "      <td>1.000000</td>\n",
       "      <td>3.000000</td>\n",
       "      <td>5.000000</td>\n",
       "      <td>4.000000</td>\n",
       "    </tr>\n",
       "    <tr>\n",
       "      <th>max</th>\n",
       "      <td>7.00000</td>\n",
       "      <td>1.000000</td>\n",
       "      <td>1.000000</td>\n",
       "      <td>4.000000</td>\n",
       "      <td>7.000000</td>\n",
       "      <td>4.000000</td>\n",
       "    </tr>\n",
       "  </tbody>\n",
       "</table>\n",
       "</div>"
      ],
      "text/plain": [
       "            CREDIT           CAR         HOUSE    EDUCATION       INCOME  \\\n",
       "count  10000.00000  10000.000000  10000.000000  9996.000000  9998.000000   \n",
       "mean       2.14630      0.391700      0.564500     2.165966     4.309162   \n",
       "std        1.53099      0.488155      0.495847     0.818108     1.335842   \n",
       "min        1.00000      0.000000      0.000000     1.000000     1.000000   \n",
       "25%        1.00000      0.000000      0.000000     2.000000     3.000000   \n",
       "50%        2.00000      0.000000      1.000000     2.000000     4.000000   \n",
       "75%        3.00000      1.000000      1.000000     3.000000     5.000000   \n",
       "max        7.00000      1.000000      1.000000     4.000000     7.000000   \n",
       "\n",
       "          WORKTIME  \n",
       "count  9994.000000  \n",
       "mean      2.838003  \n",
       "std       0.992755  \n",
       "min       1.000000  \n",
       "25%       2.000000  \n",
       "50%       3.000000  \n",
       "75%       4.000000  \n",
       "max       4.000000  "
      ]
     },
     "execution_count": 23,
     "metadata": {},
     "output_type": "execute_result"
    }
   ],
   "source": [
    "data_2.describe()[[\"CREDIT\",\"CAR\",\"HOUSE\",\"EDUCATION\",\"INCOME\",\"WORKTIME\"]]"
   ]
  },
  {
   "cell_type": "code",
   "execution_count": 24,
   "id": "d4be305e",
   "metadata": {},
   "outputs": [
    {
     "data": {
      "text/html": [
       "<div>\n",
       "<style scoped>\n",
       "    .dataframe tbody tr th:only-of-type {\n",
       "        vertical-align: middle;\n",
       "    }\n",
       "\n",
       "    .dataframe tbody tr th {\n",
       "        vertical-align: top;\n",
       "    }\n",
       "\n",
       "    .dataframe thead th {\n",
       "        text-align: right;\n",
       "    }\n",
       "</style>\n",
       "<table border=\"1\" class=\"dataframe\">\n",
       "  <thead>\n",
       "    <tr style=\"text-align: right;\">\n",
       "      <th></th>\n",
       "      <th>AMOUNT</th>\n",
       "      <th>INTEREST</th>\n",
       "      <th>MONTHS</th>\n",
       "      <th>duration</th>\n",
       "    </tr>\n",
       "  </thead>\n",
       "  <tbody>\n",
       "    <tr>\n",
       "      <th>count</th>\n",
       "      <td>10000.000000</td>\n",
       "      <td>10000.000000</td>\n",
       "      <td>10000.00000</td>\n",
       "      <td>10000.000000</td>\n",
       "    </tr>\n",
       "    <tr>\n",
       "      <th>mean</th>\n",
       "      <td>24545.835000</td>\n",
       "      <td>12.621900</td>\n",
       "      <td>12.23730</td>\n",
       "      <td>3.769125</td>\n",
       "    </tr>\n",
       "    <tr>\n",
       "      <th>std</th>\n",
       "      <td>38280.756524</td>\n",
       "      <td>2.273689</td>\n",
       "      <td>8.09109</td>\n",
       "      <td>4.548706</td>\n",
       "    </tr>\n",
       "    <tr>\n",
       "      <th>min</th>\n",
       "      <td>3000.000000</td>\n",
       "      <td>5.000000</td>\n",
       "      <td>3.00000</td>\n",
       "      <td>-0.500000</td>\n",
       "    </tr>\n",
       "    <tr>\n",
       "      <th>25%</th>\n",
       "      <td>8000.000000</td>\n",
       "      <td>11.000000</td>\n",
       "      <td>6.00000</td>\n",
       "      <td>0.000000</td>\n",
       "    </tr>\n",
       "    <tr>\n",
       "      <th>50%</th>\n",
       "      <td>14400.000000</td>\n",
       "      <td>12.000000</td>\n",
       "      <td>12.00000</td>\n",
       "      <td>2.625000</td>\n",
       "    </tr>\n",
       "    <tr>\n",
       "      <th>75%</th>\n",
       "      <td>26000.000000</td>\n",
       "      <td>13.000000</td>\n",
       "      <td>12.00000</td>\n",
       "      <td>5.708333</td>\n",
       "    </tr>\n",
       "    <tr>\n",
       "      <th>max</th>\n",
       "      <td>500000.000000</td>\n",
       "      <td>24.400000</td>\n",
       "      <td>36.00000</td>\n",
       "      <td>37.375000</td>\n",
       "    </tr>\n",
       "  </tbody>\n",
       "</table>\n",
       "</div>"
      ],
      "text/plain": [
       "              AMOUNT      INTEREST       MONTHS      duration\n",
       "count   10000.000000  10000.000000  10000.00000  10000.000000\n",
       "mean    24545.835000     12.621900     12.23730      3.769125\n",
       "std     38280.756524      2.273689      8.09109      4.548706\n",
       "min      3000.000000      5.000000      3.00000     -0.500000\n",
       "25%      8000.000000     11.000000      6.00000      0.000000\n",
       "50%     14400.000000     12.000000     12.00000      2.625000\n",
       "75%     26000.000000     13.000000     12.00000      5.708333\n",
       "max    500000.000000     24.400000     36.00000     37.375000"
      ]
     },
     "execution_count": 24,
     "metadata": {},
     "output_type": "execute_result"
    }
   ],
   "source": [
    "data_2.describe()[[\"AMOUNT\",\"INTEREST\",\"MONTHS\",\"duration\"]]"
   ]
  },
  {
   "cell_type": "markdown",
   "id": "a4db700b",
   "metadata": {},
   "source": [
    "<a id=\"1.2\"></a>\n",
    "## 1.2 Feature cleaning and engineering\n",
    "   * [1.2.1 On Default regression](#1.2.1)\n",
    "   * [1.2.2 On Bids regression](#1.2.2)"
   ]
  },
  {
   "cell_type": "markdown",
   "id": "3e235456",
   "metadata": {},
   "source": [
    "<a id=\"1.2.1\"></a>\n",
    "### 1.2.1 On Default regression\n",
    "**(1) correlation test**   \n",
    " Based on the correlation result, I just take the four features ahead of loanId for two reasons.  \n",
    " a) loanId is not supposed to related to the likelihood of default based on basic bussiness logic. So I only take features defeat loanId  \n",
    " b) Based on my own experience, usually, features show a rate above 0.1 are likely to have a good performance in models\n",
    " \n",
    "**(2) Data Cleaning**    \n",
    "EDUCATION feature needs to be clean up: Because the number of missing records is small it belongs to discrete feature. I simply use median to fill the null value\n",
    "\n",
    " [Back to content](#0.1)"
   ]
  },
  {
   "cell_type": "markdown",
   "id": "8dde95fe",
   "metadata": {},
   "source": [
    "There are no missing records in BIDS"
   ]
  },
  {
   "cell_type": "code",
   "execution_count": 25,
   "id": "d87bf97e",
   "metadata": {},
   "outputs": [
    {
     "data": {
      "text/plain": [
       "0    8487\n",
       "1    1513\n",
       "Name: DEFAULT, dtype: int64"
      ]
     },
     "execution_count": 25,
     "metadata": {},
     "output_type": "execute_result"
    }
   ],
   "source": [
    "data_2[\"DEFAULT\"].value_counts()"
   ]
  },
  {
   "cell_type": "markdown",
   "id": "54ba477e",
   "metadata": {},
   "source": [
    "**Correlatin test**  \n",
    "Based on the result, I pick top 10 for further discussion"
   ]
  },
  {
   "cell_type": "code",
   "execution_count": 26,
   "id": "1724dc14",
   "metadata": {
    "scrolled": false
   },
   "outputs": [
    {
     "data": {
      "text/plain": [
       "DEFAULT         1.000000\n",
       "CREDIT          0.292815\n",
       "MONTHS          0.274555\n",
       "EDUCATION       0.154944\n",
       "CAR             0.095841\n",
       "loanId          0.094200\n",
       "INTEREST        0.082417\n",
       "MARRY_离异        0.080191\n",
       "PURPOSE_装修借款    0.072103\n",
       "HOUSE_L         0.070177\n",
       "PURPOSE_购车借款    0.059450\n",
       "PURPOSE_短期周转    0.054436\n",
       "IND_IT          0.053042\n",
       "duration        0.047243\n",
       "PURPOSE_个人消费    0.044998\n",
       "HOUSE           0.036634\n",
       "IND_交通运输业       0.033180\n",
       "IND_零售/批发       0.032275\n",
       "AGE             0.026891\n",
       "PURPOSE_投资创业    0.026225\n",
       "IND_金融/法律       0.026032\n",
       "CAR_L           0.024758\n",
       "WORKTIME        0.023593\n",
       "IND_制造业         0.022934\n",
       "IND_农业          0.020576\n",
       "PURPOSE_教育培训    0.020135\n",
       "PURPOSE_其他借款    0.020104\n",
       "IND_政府机关        0.018748\n",
       "MARRY_未婚        0.017888\n",
       "IND_能源业         0.016393\n",
       "BIDS            0.015241\n",
       "IND_其它          0.014405\n",
       "IND_体育/艺术       0.014041\n",
       "IND_建筑工程        0.013458\n",
       "MARRY_已婚        0.013389\n",
       "IND_教育/培训       0.011902\n",
       "IND_餐饮/旅馆业      0.010136\n",
       "IND_医疗/卫生/保健    0.009476\n",
       "PURPOSE_购房借款    0.009074\n",
       "IND_公益组织        0.007794\n",
       "INCOME          0.007781\n",
       "Name: DEFAULT, dtype: float64"
      ]
     },
     "execution_count": 26,
     "metadata": {},
     "output_type": "execute_result"
    }
   ],
   "source": [
    "abs(data_2.corr()[\"DEFAULT\"]).sort_values(ascending=False)[0:41]"
   ]
  },
  {
   "cell_type": "code",
   "execution_count": 27,
   "id": "12f56f76",
   "metadata": {},
   "outputs": [
    {
     "data": {
      "text/plain": [
       "DEFAULT         1.000000\n",
       "CREDIT          0.292815\n",
       "MONTHS          0.274555\n",
       "EDUCATION       0.154944\n",
       "CAR             0.095841\n",
       "loanId          0.094200\n",
       "INTEREST        0.082417\n",
       "MARRY_离异        0.080191\n",
       "PURPOSE_装修借款    0.072103\n",
       "HOUSE_L         0.070177\n",
       "PURPOSE_购车借款    0.059450\n",
       "Name: DEFAULT, dtype: float64"
      ]
     },
     "execution_count": 27,
     "metadata": {},
     "output_type": "execute_result"
    }
   ],
   "source": [
    "abs(data_2.corr()[\"DEFAULT\"]).sort_values(ascending=False)[0:11]\n",
    "index = abs(data_2.corr()[\"DEFAULT\"]).sort_values(ascending=False)[1:11].index"
   ]
  },
  {
   "cell_type": "code",
   "execution_count": 38,
   "id": "15f0295e",
   "metadata": {
    "scrolled": false
   },
   "outputs": [
    {
     "data": {
      "text/plain": [
       "<AxesSubplot:>"
      ]
     },
     "execution_count": 38,
     "metadata": {},
     "output_type": "execute_result"
    },
    {
     "data": {
      "image/png": "[encoded data removed]",
      "text/plain": [
       "<Figure size 576x576 with 2 Axes>"
      ]
     },
     "metadata": {
      "needs_background": "light"
     },
     "output_type": "display_data"
    }
   ],
   "source": [
    "fig, ax = plt.subplots(figsize = (8,8))\n",
    "sns.heatmap(data_2[index].corr(),annot=True, vmax=1, vmin=-1,square=True,cmap=\"YlGnBu\")"
   ]
  },
  {
   "cell_type": "markdown",
   "id": "07d06895",
   "metadata": {},
   "source": [
    "**Heatmap for rank 10 features**\n",
    "In these 10 features, they are not highly related to each other, So I do not drop a feature"
   ]
  },
  {
   "cell_type": "code",
   "execution_count": 29,
   "id": "6eb65928",
   "metadata": {},
   "outputs": [
    {
     "data": {
      "text/plain": [
       "<AxesSubplot:>"
      ]
     },
     "execution_count": 29,
     "metadata": {},
     "output_type": "execute_result"
    },
    {
     "data": {
      "image/png": "[encoded data removed]",
      "text/plain": [
       "<Figure size 648x648 with 2 Axes>"
      ]
     },
     "metadata": {
      "needs_background": "light"
     },
     "output_type": "display_data"
    }
   ],
   "source": [
    "fig, ax = plt.subplots(figsize = (9,9))\n",
    "sns.heatmap(data_2[[\"CREDIT\",\"MONTHS\",\"EDUCATION\",\"CAR\"]].corr(),annot=True, vmax=1, vmin=-1,square=True,cmap=\"YlGnBu\")"
   ]
  },
  {
   "cell_type": "markdown",
   "id": "9db129b9",
   "metadata": {},
   "source": [
    "**Heatmap for rank 4 features (features beat loan id)**   \n",
    "To show the data better I draw a heatmap only for 4 high ranked features.  \n",
    "In these four features, they are not highly related to each other, So I do not drop a feature"
   ]
  },
  {
   "cell_type": "code",
   "execution_count": 30,
   "id": "8a594c98",
   "metadata": {},
   "outputs": [
    {
     "data": {
      "text/html": [
       "<div>\n",
       "<style scoped>\n",
       "    .dataframe tbody tr th:only-of-type {\n",
       "        vertical-align: middle;\n",
       "    }\n",
       "\n",
       "    .dataframe tbody tr th {\n",
       "        vertical-align: top;\n",
       "    }\n",
       "\n",
       "    .dataframe thead th {\n",
       "        text-align: right;\n",
       "    }\n",
       "</style>\n",
       "<table border=\"1\" class=\"dataframe\">\n",
       "  <thead>\n",
       "    <tr style=\"text-align: right;\">\n",
       "      <th></th>\n",
       "      <th>CREDIT</th>\n",
       "      <th>MONTHS</th>\n",
       "      <th>EDUCATION</th>\n",
       "      <th>CAR</th>\n",
       "    </tr>\n",
       "  </thead>\n",
       "  <tbody>\n",
       "    <tr>\n",
       "      <th>count</th>\n",
       "      <td>10000.00000</td>\n",
       "      <td>10000.00000</td>\n",
       "      <td>9996.000000</td>\n",
       "      <td>10000.000000</td>\n",
       "    </tr>\n",
       "    <tr>\n",
       "      <th>mean</th>\n",
       "      <td>2.14630</td>\n",
       "      <td>12.23730</td>\n",
       "      <td>2.165966</td>\n",
       "      <td>0.391700</td>\n",
       "    </tr>\n",
       "    <tr>\n",
       "      <th>std</th>\n",
       "      <td>1.53099</td>\n",
       "      <td>8.09109</td>\n",
       "      <td>0.818108</td>\n",
       "      <td>0.488155</td>\n",
       "    </tr>\n",
       "    <tr>\n",
       "      <th>min</th>\n",
       "      <td>1.00000</td>\n",
       "      <td>3.00000</td>\n",
       "      <td>1.000000</td>\n",
       "      <td>0.000000</td>\n",
       "    </tr>\n",
       "    <tr>\n",
       "      <th>25%</th>\n",
       "      <td>1.00000</td>\n",
       "      <td>6.00000</td>\n",
       "      <td>2.000000</td>\n",
       "      <td>0.000000</td>\n",
       "    </tr>\n",
       "    <tr>\n",
       "      <th>50%</th>\n",
       "      <td>2.00000</td>\n",
       "      <td>12.00000</td>\n",
       "      <td>2.000000</td>\n",
       "      <td>0.000000</td>\n",
       "    </tr>\n",
       "    <tr>\n",
       "      <th>75%</th>\n",
       "      <td>3.00000</td>\n",
       "      <td>12.00000</td>\n",
       "      <td>3.000000</td>\n",
       "      <td>1.000000</td>\n",
       "    </tr>\n",
       "    <tr>\n",
       "      <th>max</th>\n",
       "      <td>7.00000</td>\n",
       "      <td>36.00000</td>\n",
       "      <td>4.000000</td>\n",
       "      <td>1.000000</td>\n",
       "    </tr>\n",
       "  </tbody>\n",
       "</table>\n",
       "</div>"
      ],
      "text/plain": [
       "            CREDIT       MONTHS    EDUCATION           CAR\n",
       "count  10000.00000  10000.00000  9996.000000  10000.000000\n",
       "mean       2.14630     12.23730     2.165966      0.391700\n",
       "std        1.53099      8.09109     0.818108      0.488155\n",
       "min        1.00000      3.00000     1.000000      0.000000\n",
       "25%        1.00000      6.00000     2.000000      0.000000\n",
       "50%        2.00000     12.00000     2.000000      0.000000\n",
       "75%        3.00000     12.00000     3.000000      1.000000\n",
       "max        7.00000     36.00000     4.000000      1.000000"
      ]
     },
     "execution_count": 30,
     "metadata": {},
     "output_type": "execute_result"
    }
   ],
   "source": [
    "data_2.describe()[[\"CREDIT\",\"MONTHS\",\"EDUCATION\",\"CAR\"]]"
   ]
  },
  {
   "cell_type": "markdown",
   "id": "04b932fc",
   "metadata": {},
   "source": [
    "**Filling null value in EDUCATION feature**"
   ]
  },
  {
   "cell_type": "code",
   "execution_count": 31,
   "id": "16950e85",
   "metadata": {},
   "outputs": [
    {
     "name": "stderr",
     "output_type": "stream",
     "text": [
      "<ipython-input-31-2bafad20e43f>:1: SettingWithCopyWarning: \n",
      "A value is trying to be set on a copy of a slice from a DataFrame\n",
      "\n",
      "See the caveats in the documentation: https://pandas.pydata.org/pandas-docs/stable/user_guide/indexing.html#returning-a-view-versus-a-copy\n",
      "  data_2[\"EDUCATION\"][data_2[\"EDUCATION\"].isnull()] = data_2[\"EDUCATION\"].median()\n"
     ]
    }
   ],
   "source": [
    "data_2[\"EDUCATION\"][data_2[\"EDUCATION\"].isnull()] = data_2[\"EDUCATION\"].median()"
   ]
  },
  {
   "cell_type": "code",
   "execution_count": 32,
   "id": "189071ac",
   "metadata": {},
   "outputs": [
    {
     "data": {
      "text/html": [
       "<div>\n",
       "<style scoped>\n",
       "    .dataframe tbody tr th:only-of-type {\n",
       "        vertical-align: middle;\n",
       "    }\n",
       "\n",
       "    .dataframe tbody tr th {\n",
       "        vertical-align: top;\n",
       "    }\n",
       "\n",
       "    .dataframe thead th {\n",
       "        text-align: right;\n",
       "    }\n",
       "</style>\n",
       "<table border=\"1\" class=\"dataframe\">\n",
       "  <thead>\n",
       "    <tr style=\"text-align: right;\">\n",
       "      <th></th>\n",
       "      <th>CREDIT</th>\n",
       "      <th>MONTHS</th>\n",
       "      <th>EDUCATION</th>\n",
       "      <th>CAR</th>\n",
       "    </tr>\n",
       "  </thead>\n",
       "  <tbody>\n",
       "    <tr>\n",
       "      <th>count</th>\n",
       "      <td>10000.00000</td>\n",
       "      <td>10000.00000</td>\n",
       "      <td>10000.000000</td>\n",
       "      <td>10000.000000</td>\n",
       "    </tr>\n",
       "    <tr>\n",
       "      <th>mean</th>\n",
       "      <td>2.14630</td>\n",
       "      <td>12.23730</td>\n",
       "      <td>2.165900</td>\n",
       "      <td>0.391700</td>\n",
       "    </tr>\n",
       "    <tr>\n",
       "      <th>std</th>\n",
       "      <td>1.53099</td>\n",
       "      <td>8.09109</td>\n",
       "      <td>0.817951</td>\n",
       "      <td>0.488155</td>\n",
       "    </tr>\n",
       "    <tr>\n",
       "      <th>min</th>\n",
       "      <td>1.00000</td>\n",
       "      <td>3.00000</td>\n",
       "      <td>1.000000</td>\n",
       "      <td>0.000000</td>\n",
       "    </tr>\n",
       "    <tr>\n",
       "      <th>25%</th>\n",
       "      <td>1.00000</td>\n",
       "      <td>6.00000</td>\n",
       "      <td>2.000000</td>\n",
       "      <td>0.000000</td>\n",
       "    </tr>\n",
       "    <tr>\n",
       "      <th>50%</th>\n",
       "      <td>2.00000</td>\n",
       "      <td>12.00000</td>\n",
       "      <td>2.000000</td>\n",
       "      <td>0.000000</td>\n",
       "    </tr>\n",
       "    <tr>\n",
       "      <th>75%</th>\n",
       "      <td>3.00000</td>\n",
       "      <td>12.00000</td>\n",
       "      <td>3.000000</td>\n",
       "      <td>1.000000</td>\n",
       "    </tr>\n",
       "    <tr>\n",
       "      <th>max</th>\n",
       "      <td>7.00000</td>\n",
       "      <td>36.00000</td>\n",
       "      <td>4.000000</td>\n",
       "      <td>1.000000</td>\n",
       "    </tr>\n",
       "  </tbody>\n",
       "</table>\n",
       "</div>"
      ],
      "text/plain": [
       "            CREDIT       MONTHS     EDUCATION           CAR\n",
       "count  10000.00000  10000.00000  10000.000000  10000.000000\n",
       "mean       2.14630     12.23730      2.165900      0.391700\n",
       "std        1.53099      8.09109      0.817951      0.488155\n",
       "min        1.00000      3.00000      1.000000      0.000000\n",
       "25%        1.00000      6.00000      2.000000      0.000000\n",
       "50%        2.00000     12.00000      2.000000      0.000000\n",
       "75%        3.00000     12.00000      3.000000      1.000000\n",
       "max        7.00000     36.00000      4.000000      1.000000"
      ]
     },
     "execution_count": 32,
     "metadata": {},
     "output_type": "execute_result"
    }
   ],
   "source": [
    "data_2.describe()[[\"CREDIT\",\"MONTHS\",\"EDUCATION\",\"CAR\"]]"
   ]
  },
  {
   "cell_type": "markdown",
   "id": "23aaa4d0",
   "metadata": {},
   "source": [
    "<a id=\"1.2.2\"></a>\n",
    "### 1.2.2 On Bids regression\n",
    "**(1) correlation test**   \n",
    "I found there are far more features are highly relevant to BIDS  \n",
    "I select features ranking high from highest AMOUNT to INTEREST。\n",
    "Then I also create a heat map to filter the features again inorder to avoid multicollinearity\n",
    "\n",
    "**(2) Filling missing records**  \n",
    "There are few missing records in INCOME and WORKTIME. Since they are label features.  \n",
    "Similar to CAR, I simply use median value to fill the records.    \n",
    "\n",
    "**(3) Feature visualization**  \n",
    "Because I am about to conduct an OLS regression on the data samle, before that I draw a line based on the top there related features to illustrate how it affects BIDS. However, since it is not a one to one mapping, the line could be messy. Therefore I conduct the **<u>portfolio approach</u>** to illustrate the result.  \n",
    "Based on the graphs bids increase as long as amount and age increases while income shows a rebound relationship with bids.\n",
    "\n",
    " [Back to content](#0.1)"
   ]
  },
  {
   "cell_type": "markdown",
   "id": "32e17ccf",
   "metadata": {},
   "source": [
    "There are no missing records in BIDS"
   ]
  },
  {
   "cell_type": "code",
   "execution_count": 33,
   "id": "c10d19b3",
   "metadata": {},
   "outputs": [
    {
     "data": {
      "text/plain": [
       "count    10000.000000\n",
       "mean        24.150600\n",
       "std         41.342608\n",
       "min          1.000000\n",
       "25%          9.000000\n",
       "50%         15.000000\n",
       "75%         24.000000\n",
       "max        592.000000\n",
       "Name: BIDS, dtype: float64"
      ]
     },
     "execution_count": 33,
     "metadata": {},
     "output_type": "execute_result"
    }
   ],
   "source": [
    "data_2.describe()['BIDS']"
   ]
  },
  {
   "cell_type": "code",
   "execution_count": 34,
   "id": "034a7dc0",
   "metadata": {},
   "outputs": [
    {
     "data": {
      "text/plain": [
       "AMOUNT          0.809234\n",
       "INCOME          0.357055\n",
       "AGE             0.257725\n",
       "IND_制造业         0.188173\n",
       "CAR             0.183072\n",
       "loanId          0.159011\n",
       "WORKTIME        0.139645\n",
       "CREDIT          0.122454\n",
       "MARRY_已婚        0.122299\n",
       "MARRY_未婚        0.117044\n",
       "PURPOSE_其他借款    0.105537\n",
       "INTEREST        0.097306\n",
       "Name: BIDS, dtype: float64"
      ]
     },
     "execution_count": 34,
     "metadata": {},
     "output_type": "execute_result"
    }
   ],
   "source": [
    "abs(data_2.corr()[\"BIDS\"]).sort_values(ascending=False)[1:13]\n",
    "bidsIndex_0 = abs(data_2.corr()[\"BIDS\"]).sort_values(ascending=False)[1:13].index"
   ]
  },
  {
   "cell_type": "markdown",
   "id": "d4ce7d2b",
   "metadata": {},
   "source": [
    "**According to the heatmap**  \n",
    "I found two status of marriage is highly related, So I drop the dismarriaged feature"
   ]
  },
  {
   "cell_type": "code",
   "execution_count": 36,
   "id": "0974226a",
   "metadata": {
    "scrolled": false
   },
   "outputs": [
    {
     "data": {
      "text/plain": [
       "<AxesSubplot:>"
      ]
     },
     "execution_count": 36,
     "metadata": {},
     "output_type": "execute_result"
    },
    {
     "data": {
      "image/png": "[encoded data removed]",
      "text/plain": [
       "<Figure size 648x648 with 2 Axes>"
      ]
     },
     "metadata": {
      "needs_background": "light"
     },
     "output_type": "display_data"
    }
   ],
   "source": [
    "fig, ax = plt.subplots(figsize = (9,9))\n",
    "sns.heatmap(data_2[bidsIndex_0].corr(),annot=True, vmax=1, vmin=-1,square=True,cmap=\"YlGnBu\")"
   ]
  },
  {
   "cell_type": "code",
   "execution_count": 21,
   "id": "4e1fa454",
   "metadata": {},
   "outputs": [
    {
     "data": {
      "text/plain": [
       "Index(['AMOUNT', 'INCOME', 'AGE', 'IND_制造业', 'CAR', 'loanId', 'WORKTIME',\n",
       "       'CREDIT', 'MARRY_已婚', 'PURPOSE_其他借款', 'INTEREST'],\n",
       "      dtype='object')"
      ]
     },
     "execution_count": 21,
     "metadata": {},
     "output_type": "execute_result"
    }
   ],
   "source": [
    "bidsIndex_0 = bidsIndex_0.drop(\"MARRY_未婚\")\n",
    "bidsIndex_0"
   ]
  },
  {
   "cell_type": "code",
   "execution_count": 22,
   "id": "4efd1d52",
   "metadata": {},
   "outputs": [
    {
     "data": {
      "text/html": [
       "<div>\n",
       "<style scoped>\n",
       "    .dataframe tbody tr th:only-of-type {\n",
       "        vertical-align: middle;\n",
       "    }\n",
       "\n",
       "    .dataframe tbody tr th {\n",
       "        vertical-align: top;\n",
       "    }\n",
       "\n",
       "    .dataframe thead th {\n",
       "        text-align: right;\n",
       "    }\n",
       "</style>\n",
       "<table border=\"1\" class=\"dataframe\">\n",
       "  <thead>\n",
       "    <tr style=\"text-align: right;\">\n",
       "      <th></th>\n",
       "      <th>AMOUNT</th>\n",
       "      <th>INCOME</th>\n",
       "      <th>AGE</th>\n",
       "      <th>IND_制造业</th>\n",
       "      <th>CAR</th>\n",
       "      <th>loanId</th>\n",
       "      <th>WORKTIME</th>\n",
       "      <th>CREDIT</th>\n",
       "      <th>MARRY_已婚</th>\n",
       "      <th>PURPOSE_其他借款</th>\n",
       "      <th>INTEREST</th>\n",
       "    </tr>\n",
       "  </thead>\n",
       "  <tbody>\n",
       "    <tr>\n",
       "      <th>count</th>\n",
       "      <td>10000.000000</td>\n",
       "      <td>9998.000000</td>\n",
       "      <td>10000.000000</td>\n",
       "      <td>10000.000000</td>\n",
       "      <td>10000.000000</td>\n",
       "      <td>1.000000e+04</td>\n",
       "      <td>9994.000000</td>\n",
       "      <td>10000.00000</td>\n",
       "      <td>10000.000000</td>\n",
       "      <td>10000.000000</td>\n",
       "      <td>10000.000000</td>\n",
       "    </tr>\n",
       "    <tr>\n",
       "      <th>mean</th>\n",
       "      <td>24545.835000</td>\n",
       "      <td>4.309162</td>\n",
       "      <td>34.755500</td>\n",
       "      <td>0.199700</td>\n",
       "      <td>0.391700</td>\n",
       "      <td>4.188469e+05</td>\n",
       "      <td>2.838003</td>\n",
       "      <td>2.14630</td>\n",
       "      <td>0.638500</td>\n",
       "      <td>0.047100</td>\n",
       "      <td>12.621900</td>\n",
       "    </tr>\n",
       "    <tr>\n",
       "      <th>std</th>\n",
       "      <td>38280.756524</td>\n",
       "      <td>1.335842</td>\n",
       "      <td>6.682708</td>\n",
       "      <td>0.399795</td>\n",
       "      <td>0.488155</td>\n",
       "      <td>4.464326e+05</td>\n",
       "      <td>0.992755</td>\n",
       "      <td>1.53099</td>\n",
       "      <td>0.480459</td>\n",
       "      <td>0.211863</td>\n",
       "      <td>2.273689</td>\n",
       "    </tr>\n",
       "    <tr>\n",
       "      <th>min</th>\n",
       "      <td>3000.000000</td>\n",
       "      <td>1.000000</td>\n",
       "      <td>24.000000</td>\n",
       "      <td>0.000000</td>\n",
       "      <td>0.000000</td>\n",
       "      <td>2.000000e+00</td>\n",
       "      <td>1.000000</td>\n",
       "      <td>1.00000</td>\n",
       "      <td>0.000000</td>\n",
       "      <td>0.000000</td>\n",
       "      <td>5.000000</td>\n",
       "    </tr>\n",
       "    <tr>\n",
       "      <th>25%</th>\n",
       "      <td>8000.000000</td>\n",
       "      <td>3.000000</td>\n",
       "      <td>30.000000</td>\n",
       "      <td>0.000000</td>\n",
       "      <td>0.000000</td>\n",
       "      <td>8.463525e+04</td>\n",
       "      <td>2.000000</td>\n",
       "      <td>1.00000</td>\n",
       "      <td>0.000000</td>\n",
       "      <td>0.000000</td>\n",
       "      <td>11.000000</td>\n",
       "    </tr>\n",
       "    <tr>\n",
       "      <th>50%</th>\n",
       "      <td>14400.000000</td>\n",
       "      <td>4.000000</td>\n",
       "      <td>33.000000</td>\n",
       "      <td>0.000000</td>\n",
       "      <td>0.000000</td>\n",
       "      <td>3.219450e+05</td>\n",
       "      <td>3.000000</td>\n",
       "      <td>2.00000</td>\n",
       "      <td>1.000000</td>\n",
       "      <td>0.000000</td>\n",
       "      <td>12.000000</td>\n",
       "    </tr>\n",
       "    <tr>\n",
       "      <th>75%</th>\n",
       "      <td>26000.000000</td>\n",
       "      <td>5.000000</td>\n",
       "      <td>38.000000</td>\n",
       "      <td>0.000000</td>\n",
       "      <td>1.000000</td>\n",
       "      <td>5.829305e+05</td>\n",
       "      <td>4.000000</td>\n",
       "      <td>3.00000</td>\n",
       "      <td>1.000000</td>\n",
       "      <td>0.000000</td>\n",
       "      <td>13.000000</td>\n",
       "    </tr>\n",
       "    <tr>\n",
       "      <th>max</th>\n",
       "      <td>500000.000000</td>\n",
       "      <td>7.000000</td>\n",
       "      <td>53.000000</td>\n",
       "      <td>1.000000</td>\n",
       "      <td>1.000000</td>\n",
       "      <td>2.086049e+06</td>\n",
       "      <td>4.000000</td>\n",
       "      <td>7.00000</td>\n",
       "      <td>1.000000</td>\n",
       "      <td>1.000000</td>\n",
       "      <td>24.400000</td>\n",
       "    </tr>\n",
       "  </tbody>\n",
       "</table>\n",
       "</div>"
      ],
      "text/plain": [
       "              AMOUNT       INCOME           AGE       IND_制造业           CAR  \\\n",
       "count   10000.000000  9998.000000  10000.000000  10000.000000  10000.000000   \n",
       "mean    24545.835000     4.309162     34.755500      0.199700      0.391700   \n",
       "std     38280.756524     1.335842      6.682708      0.399795      0.488155   \n",
       "min      3000.000000     1.000000     24.000000      0.000000      0.000000   \n",
       "25%      8000.000000     3.000000     30.000000      0.000000      0.000000   \n",
       "50%     14400.000000     4.000000     33.000000      0.000000      0.000000   \n",
       "75%     26000.000000     5.000000     38.000000      0.000000      1.000000   \n",
       "max    500000.000000     7.000000     53.000000      1.000000      1.000000   \n",
       "\n",
       "             loanId     WORKTIME       CREDIT      MARRY_已婚  PURPOSE_其他借款  \\\n",
       "count  1.000000e+04  9994.000000  10000.00000  10000.000000  10000.000000   \n",
       "mean   4.188469e+05     2.838003      2.14630      0.638500      0.047100   \n",
       "std    4.464326e+05     0.992755      1.53099      0.480459      0.211863   \n",
       "min    2.000000e+00     1.000000      1.00000      0.000000      0.000000   \n",
       "25%    8.463525e+04     2.000000      1.00000      0.000000      0.000000   \n",
       "50%    3.219450e+05     3.000000      2.00000      1.000000      0.000000   \n",
       "75%    5.829305e+05     4.000000      3.00000      1.000000      0.000000   \n",
       "max    2.086049e+06     4.000000      7.00000      1.000000      1.000000   \n",
       "\n",
       "           INTEREST  \n",
       "count  10000.000000  \n",
       "mean      12.621900  \n",
       "std        2.273689  \n",
       "min        5.000000  \n",
       "25%       11.000000  \n",
       "50%       12.000000  \n",
       "75%       13.000000  \n",
       "max       24.400000  "
      ]
     },
     "execution_count": 22,
     "metadata": {},
     "output_type": "execute_result"
    }
   ],
   "source": [
    "data_2.describe()[bidsIndex_0]"
   ]
  },
  {
   "cell_type": "markdown",
   "id": "f26b427a",
   "metadata": {},
   "source": [
    "**Filling missing records for INCOME and WORKTIME**"
   ]
  },
  {
   "cell_type": "code",
   "execution_count": 23,
   "id": "fededfa1",
   "metadata": {
    "scrolled": true
   },
   "outputs": [
    {
     "name": "stderr",
     "output_type": "stream",
     "text": [
      "<ipython-input-23-7b60960dbc47>:1: SettingWithCopyWarning: \n",
      "A value is trying to be set on a copy of a slice from a DataFrame\n",
      "\n",
      "See the caveats in the documentation: https://pandas.pydata.org/pandas-docs/stable/user_guide/indexing.html#returning-a-view-versus-a-copy\n",
      "  data_2[\"INCOME\"][data_2[\"INCOME\"].isnull()] = data_2[\"INCOME\"].median()\n",
      "<ipython-input-23-7b60960dbc47>:2: SettingWithCopyWarning: \n",
      "A value is trying to be set on a copy of a slice from a DataFrame\n",
      "\n",
      "See the caveats in the documentation: https://pandas.pydata.org/pandas-docs/stable/user_guide/indexing.html#returning-a-view-versus-a-copy\n",
      "  data_2[\"WORKTIME\"][data_2[\"WORKTIME\"].isnull()] = data_2[\"WORKTIME\"].median()\n"
     ]
    },
    {
     "data": {
      "text/html": [
       "<div>\n",
       "<style scoped>\n",
       "    .dataframe tbody tr th:only-of-type {\n",
       "        vertical-align: middle;\n",
       "    }\n",
       "\n",
       "    .dataframe tbody tr th {\n",
       "        vertical-align: top;\n",
       "    }\n",
       "\n",
       "    .dataframe thead th {\n",
       "        text-align: right;\n",
       "    }\n",
       "</style>\n",
       "<table border=\"1\" class=\"dataframe\">\n",
       "  <thead>\n",
       "    <tr style=\"text-align: right;\">\n",
       "      <th></th>\n",
       "      <th>AMOUNT</th>\n",
       "      <th>INCOME</th>\n",
       "      <th>AGE</th>\n",
       "      <th>IND_制造业</th>\n",
       "      <th>CAR</th>\n",
       "      <th>loanId</th>\n",
       "      <th>WORKTIME</th>\n",
       "      <th>CREDIT</th>\n",
       "      <th>MARRY_已婚</th>\n",
       "      <th>PURPOSE_其他借款</th>\n",
       "      <th>INTEREST</th>\n",
       "    </tr>\n",
       "  </thead>\n",
       "  <tbody>\n",
       "    <tr>\n",
       "      <th>count</th>\n",
       "      <td>10000.000000</td>\n",
       "      <td>10000.000000</td>\n",
       "      <td>10000.000000</td>\n",
       "      <td>10000.000000</td>\n",
       "      <td>10000.000000</td>\n",
       "      <td>1.000000e+04</td>\n",
       "      <td>10000.000000</td>\n",
       "      <td>10000.00000</td>\n",
       "      <td>10000.000000</td>\n",
       "      <td>10000.000000</td>\n",
       "      <td>10000.000000</td>\n",
       "    </tr>\n",
       "    <tr>\n",
       "      <th>mean</th>\n",
       "      <td>24545.835000</td>\n",
       "      <td>4.309100</td>\n",
       "      <td>34.755500</td>\n",
       "      <td>0.199700</td>\n",
       "      <td>0.391700</td>\n",
       "      <td>4.188469e+05</td>\n",
       "      <td>2.838100</td>\n",
       "      <td>2.14630</td>\n",
       "      <td>0.638500</td>\n",
       "      <td>0.047100</td>\n",
       "      <td>12.621900</td>\n",
       "    </tr>\n",
       "    <tr>\n",
       "      <th>std</th>\n",
       "      <td>38280.756524</td>\n",
       "      <td>1.335715</td>\n",
       "      <td>6.682708</td>\n",
       "      <td>0.399795</td>\n",
       "      <td>0.488155</td>\n",
       "      <td>4.464326e+05</td>\n",
       "      <td>0.992465</td>\n",
       "      <td>1.53099</td>\n",
       "      <td>0.480459</td>\n",
       "      <td>0.211863</td>\n",
       "      <td>2.273689</td>\n",
       "    </tr>\n",
       "    <tr>\n",
       "      <th>min</th>\n",
       "      <td>3000.000000</td>\n",
       "      <td>1.000000</td>\n",
       "      <td>24.000000</td>\n",
       "      <td>0.000000</td>\n",
       "      <td>0.000000</td>\n",
       "      <td>2.000000e+00</td>\n",
       "      <td>1.000000</td>\n",
       "      <td>1.00000</td>\n",
       "      <td>0.000000</td>\n",
       "      <td>0.000000</td>\n",
       "      <td>5.000000</td>\n",
       "    </tr>\n",
       "    <tr>\n",
       "      <th>25%</th>\n",
       "      <td>8000.000000</td>\n",
       "      <td>3.000000</td>\n",
       "      <td>30.000000</td>\n",
       "      <td>0.000000</td>\n",
       "      <td>0.000000</td>\n",
       "      <td>8.463525e+04</td>\n",
       "      <td>2.000000</td>\n",
       "      <td>1.00000</td>\n",
       "      <td>0.000000</td>\n",
       "      <td>0.000000</td>\n",
       "      <td>11.000000</td>\n",
       "    </tr>\n",
       "    <tr>\n",
       "      <th>50%</th>\n",
       "      <td>14400.000000</td>\n",
       "      <td>4.000000</td>\n",
       "      <td>33.000000</td>\n",
       "      <td>0.000000</td>\n",
       "      <td>0.000000</td>\n",
       "      <td>3.219450e+05</td>\n",
       "      <td>3.000000</td>\n",
       "      <td>2.00000</td>\n",
       "      <td>1.000000</td>\n",
       "      <td>0.000000</td>\n",
       "      <td>12.000000</td>\n",
       "    </tr>\n",
       "    <tr>\n",
       "      <th>75%</th>\n",
       "      <td>26000.000000</td>\n",
       "      <td>5.000000</td>\n",
       "      <td>38.000000</td>\n",
       "      <td>0.000000</td>\n",
       "      <td>1.000000</td>\n",
       "      <td>5.829305e+05</td>\n",
       "      <td>4.000000</td>\n",
       "      <td>3.00000</td>\n",
       "      <td>1.000000</td>\n",
       "      <td>0.000000</td>\n",
       "      <td>13.000000</td>\n",
       "    </tr>\n",
       "    <tr>\n",
       "      <th>max</th>\n",
       "      <td>500000.000000</td>\n",
       "      <td>7.000000</td>\n",
       "      <td>53.000000</td>\n",
       "      <td>1.000000</td>\n",
       "      <td>1.000000</td>\n",
       "      <td>2.086049e+06</td>\n",
       "      <td>4.000000</td>\n",
       "      <td>7.00000</td>\n",
       "      <td>1.000000</td>\n",
       "      <td>1.000000</td>\n",
       "      <td>24.400000</td>\n",
       "    </tr>\n",
       "  </tbody>\n",
       "</table>\n",
       "</div>"
      ],
      "text/plain": [
       "              AMOUNT        INCOME           AGE       IND_制造业           CAR  \\\n",
       "count   10000.000000  10000.000000  10000.000000  10000.000000  10000.000000   \n",
       "mean    24545.835000      4.309100     34.755500      0.199700      0.391700   \n",
       "std     38280.756524      1.335715      6.682708      0.399795      0.488155   \n",
       "min      3000.000000      1.000000     24.000000      0.000000      0.000000   \n",
       "25%      8000.000000      3.000000     30.000000      0.000000      0.000000   \n",
       "50%     14400.000000      4.000000     33.000000      0.000000      0.000000   \n",
       "75%     26000.000000      5.000000     38.000000      0.000000      1.000000   \n",
       "max    500000.000000      7.000000     53.000000      1.000000      1.000000   \n",
       "\n",
       "             loanId      WORKTIME       CREDIT      MARRY_已婚  PURPOSE_其他借款  \\\n",
       "count  1.000000e+04  10000.000000  10000.00000  10000.000000  10000.000000   \n",
       "mean   4.188469e+05      2.838100      2.14630      0.638500      0.047100   \n",
       "std    4.464326e+05      0.992465      1.53099      0.480459      0.211863   \n",
       "min    2.000000e+00      1.000000      1.00000      0.000000      0.000000   \n",
       "25%    8.463525e+04      2.000000      1.00000      0.000000      0.000000   \n",
       "50%    3.219450e+05      3.000000      2.00000      1.000000      0.000000   \n",
       "75%    5.829305e+05      4.000000      3.00000      1.000000      0.000000   \n",
       "max    2.086049e+06      4.000000      7.00000      1.000000      1.000000   \n",
       "\n",
       "           INTEREST  \n",
       "count  10000.000000  \n",
       "mean      12.621900  \n",
       "std        2.273689  \n",
       "min        5.000000  \n",
       "25%       11.000000  \n",
       "50%       12.000000  \n",
       "75%       13.000000  \n",
       "max       24.400000  "
      ]
     },
     "execution_count": 23,
     "metadata": {},
     "output_type": "execute_result"
    }
   ],
   "source": [
    "data_2[\"INCOME\"][data_2[\"INCOME\"].isnull()] = data_2[\"INCOME\"].median()\n",
    "data_2[\"WORKTIME\"][data_2[\"WORKTIME\"].isnull()] = data_2[\"WORKTIME\"].median()\n",
    "data_2.describe()[bidsIndex_0]"
   ]
  },
  {
   "cell_type": "markdown",
   "id": "3c85073b",
   "metadata": {},
   "source": [
    "### To illustrate the relationship better we plot the figure\n",
    "Relationship between BIDS and threee most significant features using portfolio approach"
   ]
  },
  {
   "cell_type": "markdown",
   "id": "c5477a41",
   "metadata": {},
   "source": [
    "Cutting data "
   ]
  },
  {
   "cell_type": "code",
   "execution_count": 24,
   "id": "64c57a0d",
   "metadata": {},
   "outputs": [],
   "source": [
    "data_2.loc[:,\"AMOUNTLABEL\"] = pd.cut(data[\"AMOUNT\"],5)\n",
    "data_2.loc[:,\"AGELABEL\"] = pd.cut(data[\"AGE\"],3)"
   ]
  },
  {
   "cell_type": "code",
   "execution_count": 25,
   "id": "2f299d27",
   "metadata": {},
   "outputs": [
    {
     "data": {
      "text/plain": [
       "(2503.0, 102400.0]      9732\n",
       "(102400.0, 201800.0]     186\n",
       "(201800.0, 301200.0]      63\n",
       "(400600.0, 500000.0]      11\n",
       "(301200.0, 400600.0]       8\n",
       "Name: AMOUNTLABEL, dtype: int64"
      ]
     },
     "execution_count": 25,
     "metadata": {},
     "output_type": "execute_result"
    },
    {
     "data": {
      "text/plain": [
       "(23.971, 33.667]    5053\n",
       "(33.667, 43.333]    3702\n",
       "(43.333, 53.0]      1245\n",
       "Name: AGELABEL, dtype: int64"
      ]
     },
     "execution_count": 25,
     "metadata": {},
     "output_type": "execute_result"
    }
   ],
   "source": [
    "data_2[\"AMOUNTLABEL\"].value_counts()\n",
    "data_2[\"AGELABEL\"].value_counts()"
   ]
  },
  {
   "cell_type": "code",
   "execution_count": 26,
   "id": "0de7a0f7",
   "metadata": {},
   "outputs": [],
   "source": [
    "amountLabels = []\n",
    "for label in data_2[\"AMOUNTLABEL\"].value_counts().index:\n",
    "    amountLabels.append(str(label))\n",
    "\n",
    "incomeLabels = [1,2,3,4,5,6,7]\n",
    "ageLabels = [\"23-33\",\"33-43\",\"43-53\"]\n"
   ]
  },
  {
   "cell_type": "markdown",
   "id": "5add6512",
   "metadata": {},
   "source": [
    "**Feature visualization**  \n",
    "Because I am about to conduct an OLS regression on the data samle, before that I draw a line based on the top there related features to illustrate how it affects BIDS. However, since it is not a one to one mapping, the line could be messy. Therefore I conduct the **<u>portfolio approach</u>** to illustrate the result.  \n",
    "Based on the graphs bids increase as long as amount and age increases while income shows a rebound relationship with bids."
   ]
  },
  {
   "cell_type": "code",
   "execution_count": 27,
   "id": "3f2efb46",
   "metadata": {},
   "outputs": [
    {
     "data": {
      "text/plain": [
       "<Figure size 1008x576 with 0 Axes>"
      ]
     },
     "execution_count": 27,
     "metadata": {},
     "output_type": "execute_result"
    },
    {
     "data": {
      "text/plain": [
       "<AxesSubplot:>"
      ]
     },
     "execution_count": 27,
     "metadata": {},
     "output_type": "execute_result"
    },
    {
     "data": {
      "text/plain": [
       "[<matplotlib.lines.Line2D at 0x22753dcaa90>]"
      ]
     },
     "execution_count": 27,
     "metadata": {},
     "output_type": "execute_result"
    },
    {
     "data": {
      "text/plain": [
       "Text(0.5, 0, 'AMOUNT')"
      ]
     },
     "execution_count": 27,
     "metadata": {},
     "output_type": "execute_result"
    },
    {
     "data": {
      "text/plain": [
       "Text(0, 0.5, 'BIDS')"
      ]
     },
     "execution_count": 27,
     "metadata": {},
     "output_type": "execute_result"
    },
    {
     "data": {
      "text/plain": [
       "<AxesSubplot:>"
      ]
     },
     "execution_count": 27,
     "metadata": {},
     "output_type": "execute_result"
    },
    {
     "data": {
      "text/plain": [
       "[<matplotlib.lines.Line2D at 0x22753e08280>]"
      ]
     },
     "execution_count": 27,
     "metadata": {},
     "output_type": "execute_result"
    },
    {
     "data": {
      "text/plain": [
       "Text(0.5, 0, 'INCOME')"
      ]
     },
     "execution_count": 27,
     "metadata": {},
     "output_type": "execute_result"
    },
    {
     "data": {
      "text/plain": [
       "<AxesSubplot:>"
      ]
     },
     "execution_count": 27,
     "metadata": {},
     "output_type": "execute_result"
    },
    {
     "data": {
      "text/plain": [
       "[<matplotlib.lines.Line2D at 0x22753e2fc70>]"
      ]
     },
     "execution_count": 27,
     "metadata": {},
     "output_type": "execute_result"
    },
    {
     "data": {
      "text/plain": [
       "Text(0.5, 0, 'AGE')"
      ]
     },
     "execution_count": 27,
     "metadata": {},
     "output_type": "execute_result"
    },
    {
     "data": {
      "text/plain": [
       "<function matplotlib.pyplot.show(close=None, block=None)>"
      ]
     },
     "execution_count": 27,
     "metadata": {},
     "output_type": "execute_result"
    },
    {
     "data": {
      "image/png": "[encoded data removed]",
      "text/plain": [
       "<Figure size 1008x576 with 3 Axes>"
      ]
     },
     "metadata": {
      "needs_background": "light"
     },
     "output_type": "display_data"
    }
   ],
   "source": [
    "plt.figure(figsize=[14, 8])\n",
    "grid = plt.GridSpec(12, 8, wspace=0.5, hspace=0.5)\n",
    "plt.subplot(grid[0:6,0:5])\n",
    "\n",
    "plt.plot(amountLabels,data_2.groupby([\"AMOUNTLABEL\"])[\"BIDS\"].mean(),\"b--.\")\n",
    "\n",
    "plt.xlabel(\"AMOUNT\")\n",
    "plt.ylabel(\"BIDS\")\n",
    "\n",
    "plt.subplot(grid[7:12,0:5])\n",
    "\n",
    "plt.plot(incomeLabels,data_2.groupby([\"INCOME\"])[\"BIDS\"].mean(),\"r--*\")\n",
    "plt.xlabel(\"INCOME\")\n",
    "\n",
    "\n",
    "plt.subplot(grid[0:12,5:8])\n",
    "\n",
    "plt.plot(ageLabels,data_2.groupby([\"AGELABEL\"])[\"BIDS\"].mean(),\"g--*\")\n",
    "plt.xlabel(\"AGE\")\n",
    "plt.show"
   ]
  },
  {
   "cell_type": "markdown",
   "id": "784665b8",
   "metadata": {},
   "source": [
    "<a id=\"1.3\"></a>\n",
    "### 1.3 Logit Regression\n",
    "   * [1.3.1 Logit regression Model selection](#1.3.1)\n",
    "   * [1.3.2 Logit regression Conlusion](#1.3.2) "
   ]
  },
  {
   "cell_type": "markdown",
   "id": "a10acd67",
   "metadata": {},
   "source": [
    "<a id=\"1.3.1\"></a>\n",
    "### 1.3 .1Logit Regression Model Selecion\n",
    "In this part I fit the model with the features adpoted from the last step.  \n",
    "Then I select features and improve models based on each result namely, R-squared score , p-value of feature etc.\n",
    "\n",
    "1. The first model contains all the features, but several features in it is not significant such as CAR, two purpose and so on  \n",
    "2. The second model remove CAR feature\n",
    "3. The third model remove purpose-购车借款\n",
    "4. Remove loan id which is not relevant to the result based on life experience\n",
    "5. Remove interest because it is now insignificant. Now the fifth model seems perfect with no useless features and rather high\n",
    "R-square\n",
    "6. Remove the only remained not bowrrower characteristic feature-Months, find the result was badly infected.\n",
    "7. Therefore the fifth model is the final model we get.  \n",
    "  \n",
    "   \n",
    "  [Back to content](#0.1)"
   ]
  },
  {
   "cell_type": "markdown",
   "id": "779a55ff",
   "metadata": {},
   "source": [
    "Add Intercet into data"
   ]
  },
  {
   "cell_type": "code",
   "execution_count": 28,
   "id": "dcc6b5d2",
   "metadata": {},
   "outputs": [],
   "source": [
    "data_2[\"intercept\"] = 1.0"
   ]
  },
  {
   "cell_type": "code",
   "execution_count": 29,
   "id": "2fa01aec",
   "metadata": {},
   "outputs": [
    {
     "data": {
      "text/plain": [
       "['CREDIT',\n",
       " 'MONTHS',\n",
       " 'EDUCATION',\n",
       " 'CAR',\n",
       " 'loanId',\n",
       " 'INTEREST',\n",
       " 'MARRY_离异',\n",
       " 'PURPOSE_装修借款',\n",
       " 'HOUSE_L',\n",
       " 'PURPOSE_购车借款',\n",
       " 'intercept']"
      ]
     },
     "execution_count": 29,
     "metadata": {},
     "output_type": "execute_result"
    }
   ],
   "source": [
    "cols = []\n",
    "for x in index: cols.append(str(x))\n",
    "cols.append(\"intercept\")\n",
    "cols"
   ]
  },
  {
   "cell_type": "markdown",
   "id": "356f9398",
   "metadata": {},
   "source": [
    "#### Fit the first logit model with all variables"
   ]
  },
  {
   "cell_type": "code",
   "execution_count": 30,
   "id": "f076aaae",
   "metadata": {},
   "outputs": [
    {
     "name": "stdout",
     "output_type": "stream",
     "text": [
      "Optimization terminated successfully.\n",
      "         Current function value: 0.300684\n",
      "         Iterations 9\n"
     ]
    },
    {
     "data": {
      "text/html": [
       "<table class=\"simpletable\">\n",
       "<caption>Logit Regression Results</caption>\n",
       "<tr>\n",
       "  <th>Dep. Variable:</th>        <td>DEFAULT</td>     <th>  No. Observations:  </th>  <td> 10000</td> \n",
       "</tr>\n",
       "<tr>\n",
       "  <th>Model:</th>                 <td>Logit</td>      <th>  Df Residuals:      </th>  <td>  9989</td> \n",
       "</tr>\n",
       "<tr>\n",
       "  <th>Method:</th>                 <td>MLE</td>       <th>  Df Model:          </th>  <td>    10</td> \n",
       "</tr>\n",
       "<tr>\n",
       "  <th>Date:</th>            <td>Mon, 27 Sep 2021</td> <th>  Pseudo R-squ.:     </th>  <td>0.2924</td> \n",
       "</tr>\n",
       "<tr>\n",
       "  <th>Time:</th>                <td>16:43:37</td>     <th>  Log-Likelihood:    </th> <td> -3006.8</td>\n",
       "</tr>\n",
       "<tr>\n",
       "  <th>converged:</th>             <td>True</td>       <th>  LL-Null:           </th> <td> -4249.6</td>\n",
       "</tr>\n",
       "<tr>\n",
       "  <th>Covariance Type:</th>     <td>nonrobust</td>    <th>  LLR p-value:       </th>  <td> 0.000</td> \n",
       "</tr>\n",
       "</table>\n",
       "<table class=\"simpletable\">\n",
       "<tr>\n",
       "        <td></td>          <th>coef</th>     <th>std err</th>      <th>z</th>      <th>P>|z|</th>  <th>[0.025</th>    <th>0.975]</th>  \n",
       "</tr>\n",
       "<tr>\n",
       "  <th>CREDIT</th>       <td>   -1.9959</td> <td>    0.088</td> <td>  -22.628</td> <td> 0.000</td> <td>   -2.169</td> <td>   -1.823</td>\n",
       "</tr>\n",
       "<tr>\n",
       "  <th>MONTHS</th>       <td>    0.0739</td> <td>    0.004</td> <td>   19.270</td> <td> 0.000</td> <td>    0.066</td> <td>    0.081</td>\n",
       "</tr>\n",
       "<tr>\n",
       "  <th>EDUCATION</th>    <td>   -0.5459</td> <td>    0.043</td> <td>  -12.640</td> <td> 0.000</td> <td>   -0.631</td> <td>   -0.461</td>\n",
       "</tr>\n",
       "<tr>\n",
       "  <th>CAR</th>          <td>    0.0388</td> <td>    0.072</td> <td>    0.538</td> <td> 0.591</td> <td>   -0.103</td> <td>    0.180</td>\n",
       "</tr>\n",
       "<tr>\n",
       "  <th>loanId</th>       <td> 8.013e-07</td> <td> 7.72e-08</td> <td>   10.377</td> <td> 0.000</td> <td>  6.5e-07</td> <td> 9.53e-07</td>\n",
       "</tr>\n",
       "<tr>\n",
       "  <th>INTEREST</th>     <td>    0.0645</td> <td>    0.016</td> <td>    3.974</td> <td> 0.000</td> <td>    0.033</td> <td>    0.096</td>\n",
       "</tr>\n",
       "<tr>\n",
       "  <th>MARRY_离异</th>     <td>    0.8014</td> <td>    0.141</td> <td>    5.671</td> <td> 0.000</td> <td>    0.524</td> <td>    1.078</td>\n",
       "</tr>\n",
       "<tr>\n",
       "  <th>PURPOSE_装修借款</th> <td>    0.1959</td> <td>    0.082</td> <td>    2.404</td> <td> 0.016</td> <td>    0.036</td> <td>    0.356</td>\n",
       "</tr>\n",
       "<tr>\n",
       "  <th>HOUSE_L</th>      <td>   -0.3119</td> <td>    0.088</td> <td>   -3.560</td> <td> 0.000</td> <td>   -0.484</td> <td>   -0.140</td>\n",
       "</tr>\n",
       "<tr>\n",
       "  <th>PURPOSE_购车借款</th> <td>    0.2600</td> <td>    0.134</td> <td>    1.935</td> <td> 0.053</td> <td>   -0.003</td> <td>    0.523</td>\n",
       "</tr>\n",
       "<tr>\n",
       "  <th>intercept</th>    <td>   -0.1468</td> <td>    0.261</td> <td>   -0.563</td> <td> 0.573</td> <td>   -0.657</td> <td>    0.364</td>\n",
       "</tr>\n",
       "</table>"
      ],
      "text/plain": [
       "<class 'statsmodels.iolib.summary.Summary'>\n",
       "\"\"\"\n",
       "                           Logit Regression Results                           \n",
       "==============================================================================\n",
       "Dep. Variable:                DEFAULT   No. Observations:                10000\n",
       "Model:                          Logit   Df Residuals:                     9989\n",
       "Method:                           MLE   Df Model:                           10\n",
       "Date:                Mon, 27 Sep 2021   Pseudo R-squ.:                  0.2924\n",
       "Time:                        16:43:37   Log-Likelihood:                -3006.8\n",
       "converged:                       True   LL-Null:                       -4249.6\n",
       "Covariance Type:            nonrobust   LLR p-value:                     0.000\n",
       "================================================================================\n",
       "                   coef    std err          z      P>|z|      [0.025      0.975]\n",
       "--------------------------------------------------------------------------------\n",
       "CREDIT          -1.9959      0.088    -22.628      0.000      -2.169      -1.823\n",
       "MONTHS           0.0739      0.004     19.270      0.000       0.066       0.081\n",
       "EDUCATION       -0.5459      0.043    -12.640      0.000      -0.631      -0.461\n",
       "CAR              0.0388      0.072      0.538      0.591      -0.103       0.180\n",
       "loanId        8.013e-07   7.72e-08     10.377      0.000     6.5e-07    9.53e-07\n",
       "INTEREST         0.0645      0.016      3.974      0.000       0.033       0.096\n",
       "MARRY_离异         0.8014      0.141      5.671      0.000       0.524       1.078\n",
       "PURPOSE_装修借款     0.1959      0.082      2.404      0.016       0.036       0.356\n",
       "HOUSE_L         -0.3119      0.088     -3.560      0.000      -0.484      -0.140\n",
       "PURPOSE_购车借款     0.2600      0.134      1.935      0.053      -0.003       0.523\n",
       "intercept       -0.1468      0.261     -0.563      0.573      -0.657       0.364\n",
       "================================================================================\n",
       "\"\"\""
      ]
     },
     "execution_count": 30,
     "metadata": {},
     "output_type": "execute_result"
    }
   ],
   "source": [
    "model = sm.Logit(data_2['DEFAULT'],data_2[cols])\n",
    "result1 = model.fit()\n",
    "result1.summary()"
   ]
  },
  {
   "cell_type": "code",
   "execution_count": 31,
   "id": "3a29c513",
   "metadata": {},
   "outputs": [
    {
     "data": {
      "text/plain": [
       "'CAR'"
      ]
     },
     "execution_count": 31,
     "metadata": {},
     "output_type": "execute_result"
    },
    {
     "data": {
      "text/plain": [
       "['CREDIT',\n",
       " 'MONTHS',\n",
       " 'EDUCATION',\n",
       " 'loanId',\n",
       " 'INTEREST',\n",
       " 'MARRY_离异',\n",
       " 'PURPOSE_装修借款',\n",
       " 'HOUSE_L',\n",
       " 'PURPOSE_购车借款',\n",
       " 'intercept']"
      ]
     },
     "execution_count": 31,
     "metadata": {},
     "output_type": "execute_result"
    }
   ],
   "source": [
    "cols.pop(3)\n",
    "cols"
   ]
  },
  {
   "cell_type": "markdown",
   "id": "4064f574",
   "metadata": {},
   "source": [
    "**Fit the second model droping CAR**"
   ]
  },
  {
   "cell_type": "code",
   "execution_count": 32,
   "id": "248eee78",
   "metadata": {},
   "outputs": [
    {
     "name": "stdout",
     "output_type": "stream",
     "text": [
      "Optimization terminated successfully.\n",
      "         Current function value: 0.300698\n",
      "         Iterations 9\n"
     ]
    },
    {
     "data": {
      "text/html": [
       "<table class=\"simpletable\">\n",
       "<caption>Logit Regression Results</caption>\n",
       "<tr>\n",
       "  <th>Dep. Variable:</th>        <td>DEFAULT</td>     <th>  No. Observations:  </th>  <td> 10000</td> \n",
       "</tr>\n",
       "<tr>\n",
       "  <th>Model:</th>                 <td>Logit</td>      <th>  Df Residuals:      </th>  <td>  9990</td> \n",
       "</tr>\n",
       "<tr>\n",
       "  <th>Method:</th>                 <td>MLE</td>       <th>  Df Model:          </th>  <td>     9</td> \n",
       "</tr>\n",
       "<tr>\n",
       "  <th>Date:</th>            <td>Mon, 27 Sep 2021</td> <th>  Pseudo R-squ.:     </th>  <td>0.2924</td> \n",
       "</tr>\n",
       "<tr>\n",
       "  <th>Time:</th>                <td>16:43:37</td>     <th>  Log-Likelihood:    </th> <td> -3007.0</td>\n",
       "</tr>\n",
       "<tr>\n",
       "  <th>converged:</th>             <td>True</td>       <th>  LL-Null:           </th> <td> -4249.6</td>\n",
       "</tr>\n",
       "<tr>\n",
       "  <th>Covariance Type:</th>     <td>nonrobust</td>    <th>  LLR p-value:       </th>  <td> 0.000</td> \n",
       "</tr>\n",
       "</table>\n",
       "<table class=\"simpletable\">\n",
       "<tr>\n",
       "        <td></td>          <th>coef</th>     <th>std err</th>      <th>z</th>      <th>P>|z|</th>  <th>[0.025</th>    <th>0.975]</th>  \n",
       "</tr>\n",
       "<tr>\n",
       "  <th>CREDIT</th>       <td>   -1.9934</td> <td>    0.088</td> <td>  -22.635</td> <td> 0.000</td> <td>   -2.166</td> <td>   -1.821</td>\n",
       "</tr>\n",
       "<tr>\n",
       "  <th>MONTHS</th>       <td>    0.0737</td> <td>    0.004</td> <td>   19.300</td> <td> 0.000</td> <td>    0.066</td> <td>    0.081</td>\n",
       "</tr>\n",
       "<tr>\n",
       "  <th>EDUCATION</th>    <td>   -0.5457</td> <td>    0.043</td> <td>  -12.636</td> <td> 0.000</td> <td>   -0.630</td> <td>   -0.461</td>\n",
       "</tr>\n",
       "<tr>\n",
       "  <th>loanId</th>       <td> 7.994e-07</td> <td> 7.71e-08</td> <td>   10.362</td> <td> 0.000</td> <td> 6.48e-07</td> <td> 9.51e-07</td>\n",
       "</tr>\n",
       "<tr>\n",
       "  <th>INTEREST</th>     <td>    0.0641</td> <td>    0.016</td> <td>    3.956</td> <td> 0.000</td> <td>    0.032</td> <td>    0.096</td>\n",
       "</tr>\n",
       "<tr>\n",
       "  <th>MARRY_离异</th>     <td>    0.8016</td> <td>    0.141</td> <td>    5.672</td> <td> 0.000</td> <td>    0.525</td> <td>    1.079</td>\n",
       "</tr>\n",
       "<tr>\n",
       "  <th>PURPOSE_装修借款</th> <td>    0.1926</td> <td>    0.081</td> <td>    2.370</td> <td> 0.018</td> <td>    0.033</td> <td>    0.352</td>\n",
       "</tr>\n",
       "<tr>\n",
       "  <th>HOUSE_L</th>      <td>   -0.3059</td> <td>    0.087</td> <td>   -3.521</td> <td> 0.000</td> <td>   -0.476</td> <td>   -0.136</td>\n",
       "</tr>\n",
       "<tr>\n",
       "  <th>PURPOSE_购车借款</th> <td>    0.2533</td> <td>    0.134</td> <td>    1.893</td> <td> 0.058</td> <td>   -0.009</td> <td>    0.516</td>\n",
       "</tr>\n",
       "<tr>\n",
       "  <th>intercept</th>    <td>   -0.1299</td> <td>    0.259</td> <td>   -0.502</td> <td> 0.616</td> <td>   -0.637</td> <td>    0.377</td>\n",
       "</tr>\n",
       "</table>"
      ],
      "text/plain": [
       "<class 'statsmodels.iolib.summary.Summary'>\n",
       "\"\"\"\n",
       "                           Logit Regression Results                           \n",
       "==============================================================================\n",
       "Dep. Variable:                DEFAULT   No. Observations:                10000\n",
       "Model:                          Logit   Df Residuals:                     9990\n",
       "Method:                           MLE   Df Model:                            9\n",
       "Date:                Mon, 27 Sep 2021   Pseudo R-squ.:                  0.2924\n",
       "Time:                        16:43:37   Log-Likelihood:                -3007.0\n",
       "converged:                       True   LL-Null:                       -4249.6\n",
       "Covariance Type:            nonrobust   LLR p-value:                     0.000\n",
       "================================================================================\n",
       "                   coef    std err          z      P>|z|      [0.025      0.975]\n",
       "--------------------------------------------------------------------------------\n",
       "CREDIT          -1.9934      0.088    -22.635      0.000      -2.166      -1.821\n",
       "MONTHS           0.0737      0.004     19.300      0.000       0.066       0.081\n",
       "EDUCATION       -0.5457      0.043    -12.636      0.000      -0.630      -0.461\n",
       "loanId        7.994e-07   7.71e-08     10.362      0.000    6.48e-07    9.51e-07\n",
       "INTEREST         0.0641      0.016      3.956      0.000       0.032       0.096\n",
       "MARRY_离异         0.8016      0.141      5.672      0.000       0.525       1.079\n",
       "PURPOSE_装修借款     0.1926      0.081      2.370      0.018       0.033       0.352\n",
       "HOUSE_L         -0.3059      0.087     -3.521      0.000      -0.476      -0.136\n",
       "PURPOSE_购车借款     0.2533      0.134      1.893      0.058      -0.009       0.516\n",
       "intercept       -0.1299      0.259     -0.502      0.616      -0.637       0.377\n",
       "================================================================================\n",
       "\"\"\""
      ]
     },
     "execution_count": 32,
     "metadata": {},
     "output_type": "execute_result"
    }
   ],
   "source": [
    "\n",
    "model = sm.Logit(data_2['DEFAULT'],data_2[cols])\n",
    "result2 = model.fit()\n",
    "result2.summary()"
   ]
  },
  {
   "cell_type": "code",
   "execution_count": 33,
   "id": "21c95c5d",
   "metadata": {},
   "outputs": [
    {
     "data": {
      "text/plain": [
       "'PURPOSE_购车借款'"
      ]
     },
     "execution_count": 33,
     "metadata": {},
     "output_type": "execute_result"
    },
    {
     "data": {
      "text/plain": [
       "['CREDIT',\n",
       " 'MONTHS',\n",
       " 'EDUCATION',\n",
       " 'loanId',\n",
       " 'INTEREST',\n",
       " 'MARRY_离异',\n",
       " 'PURPOSE_装修借款',\n",
       " 'HOUSE_L',\n",
       " 'intercept']"
      ]
     },
     "execution_count": 33,
     "metadata": {},
     "output_type": "execute_result"
    }
   ],
   "source": [
    "cols.pop(8)\n",
    "cols"
   ]
  },
  {
   "cell_type": "markdown",
   "id": "a55e5742",
   "metadata": {},
   "source": [
    "**Fit the Third model droping PURPOSE_购车借款**"
   ]
  },
  {
   "cell_type": "code",
   "execution_count": 34,
   "id": "93af996a",
   "metadata": {},
   "outputs": [
    {
     "name": "stdout",
     "output_type": "stream",
     "text": [
      "Optimization terminated successfully.\n",
      "         Current function value: 0.300875\n",
      "         Iterations 9\n"
     ]
    },
    {
     "data": {
      "text/html": [
       "<table class=\"simpletable\">\n",
       "<caption>Logit Regression Results</caption>\n",
       "<tr>\n",
       "  <th>Dep. Variable:</th>        <td>DEFAULT</td>     <th>  No. Observations:  </th>  <td> 10000</td> \n",
       "</tr>\n",
       "<tr>\n",
       "  <th>Model:</th>                 <td>Logit</td>      <th>  Df Residuals:      </th>  <td>  9991</td> \n",
       "</tr>\n",
       "<tr>\n",
       "  <th>Method:</th>                 <td>MLE</td>       <th>  Df Model:          </th>  <td>     8</td> \n",
       "</tr>\n",
       "<tr>\n",
       "  <th>Date:</th>            <td>Mon, 27 Sep 2021</td> <th>  Pseudo R-squ.:     </th>  <td>0.2920</td> \n",
       "</tr>\n",
       "<tr>\n",
       "  <th>Time:</th>                <td>16:43:37</td>     <th>  Log-Likelihood:    </th> <td> -3008.7</td>\n",
       "</tr>\n",
       "<tr>\n",
       "  <th>converged:</th>             <td>True</td>       <th>  LL-Null:           </th> <td> -4249.6</td>\n",
       "</tr>\n",
       "<tr>\n",
       "  <th>Covariance Type:</th>     <td>nonrobust</td>    <th>  LLR p-value:       </th>  <td> 0.000</td> \n",
       "</tr>\n",
       "</table>\n",
       "<table class=\"simpletable\">\n",
       "<tr>\n",
       "        <td></td>          <th>coef</th>     <th>std err</th>      <th>z</th>      <th>P>|z|</th>  <th>[0.025</th>    <th>0.975]</th>  \n",
       "</tr>\n",
       "<tr>\n",
       "  <th>CREDIT</th>       <td>   -1.9960</td> <td>    0.088</td> <td>  -22.657</td> <td> 0.000</td> <td>   -2.169</td> <td>   -1.823</td>\n",
       "</tr>\n",
       "<tr>\n",
       "  <th>MONTHS</th>       <td>    0.0747</td> <td>    0.004</td> <td>   19.715</td> <td> 0.000</td> <td>    0.067</td> <td>    0.082</td>\n",
       "</tr>\n",
       "<tr>\n",
       "  <th>EDUCATION</th>    <td>   -0.5454</td> <td>    0.043</td> <td>  -12.634</td> <td> 0.000</td> <td>   -0.630</td> <td>   -0.461</td>\n",
       "</tr>\n",
       "<tr>\n",
       "  <th>loanId</th>       <td> 8.041e-07</td> <td> 7.71e-08</td> <td>   10.429</td> <td> 0.000</td> <td> 6.53e-07</td> <td> 9.55e-07</td>\n",
       "</tr>\n",
       "<tr>\n",
       "  <th>INTEREST</th>     <td>    0.0630</td> <td>    0.016</td> <td>    3.893</td> <td> 0.000</td> <td>    0.031</td> <td>    0.095</td>\n",
       "</tr>\n",
       "<tr>\n",
       "  <th>MARRY_离异</th>     <td>    0.8019</td> <td>    0.141</td> <td>    5.678</td> <td> 0.000</td> <td>    0.525</td> <td>    1.079</td>\n",
       "</tr>\n",
       "<tr>\n",
       "  <th>PURPOSE_装修借款</th> <td>    0.1684</td> <td>    0.080</td> <td>    2.098</td> <td> 0.036</td> <td>    0.011</td> <td>    0.326</td>\n",
       "</tr>\n",
       "<tr>\n",
       "  <th>HOUSE_L</th>      <td>   -0.3068</td> <td>    0.087</td> <td>   -3.530</td> <td> 0.000</td> <td>   -0.477</td> <td>   -0.136</td>\n",
       "</tr>\n",
       "<tr>\n",
       "  <th>intercept</th>    <td>   -0.1093</td> <td>    0.258</td> <td>   -0.423</td> <td> 0.672</td> <td>   -0.616</td> <td>    0.397</td>\n",
       "</tr>\n",
       "</table>"
      ],
      "text/plain": [
       "<class 'statsmodels.iolib.summary.Summary'>\n",
       "\"\"\"\n",
       "                           Logit Regression Results                           \n",
       "==============================================================================\n",
       "Dep. Variable:                DEFAULT   No. Observations:                10000\n",
       "Model:                          Logit   Df Residuals:                     9991\n",
       "Method:                           MLE   Df Model:                            8\n",
       "Date:                Mon, 27 Sep 2021   Pseudo R-squ.:                  0.2920\n",
       "Time:                        16:43:37   Log-Likelihood:                -3008.7\n",
       "converged:                       True   LL-Null:                       -4249.6\n",
       "Covariance Type:            nonrobust   LLR p-value:                     0.000\n",
       "================================================================================\n",
       "                   coef    std err          z      P>|z|      [0.025      0.975]\n",
       "--------------------------------------------------------------------------------\n",
       "CREDIT          -1.9960      0.088    -22.657      0.000      -2.169      -1.823\n",
       "MONTHS           0.0747      0.004     19.715      0.000       0.067       0.082\n",
       "EDUCATION       -0.5454      0.043    -12.634      0.000      -0.630      -0.461\n",
       "loanId        8.041e-07   7.71e-08     10.429      0.000    6.53e-07    9.55e-07\n",
       "INTEREST         0.0630      0.016      3.893      0.000       0.031       0.095\n",
       "MARRY_离异         0.8019      0.141      5.678      0.000       0.525       1.079\n",
       "PURPOSE_装修借款     0.1684      0.080      2.098      0.036       0.011       0.326\n",
       "HOUSE_L         -0.3068      0.087     -3.530      0.000      -0.477      -0.136\n",
       "intercept       -0.1093      0.258     -0.423      0.672      -0.616       0.397\n",
       "================================================================================\n",
       "\"\"\""
      ]
     },
     "execution_count": 34,
     "metadata": {},
     "output_type": "execute_result"
    }
   ],
   "source": [
    "\n",
    "model = sm.Logit(data_2['DEFAULT'],data_2[cols])\n",
    "result3 = model.fit()\n",
    "result3.summary()"
   ]
  },
  {
   "cell_type": "code",
   "execution_count": 35,
   "id": "6e113f76",
   "metadata": {},
   "outputs": [
    {
     "data": {
      "text/plain": [
       "'loanId'"
      ]
     },
     "execution_count": 35,
     "metadata": {},
     "output_type": "execute_result"
    },
    {
     "data": {
      "text/plain": [
       "['CREDIT',\n",
       " 'MONTHS',\n",
       " 'EDUCATION',\n",
       " 'INTEREST',\n",
       " 'MARRY_离异',\n",
       " 'PURPOSE_装修借款',\n",
       " 'HOUSE_L',\n",
       " 'intercept']"
      ]
     },
     "execution_count": 35,
     "metadata": {},
     "output_type": "execute_result"
    }
   ],
   "source": [
    "cols.pop(3)\n",
    "cols"
   ]
  },
  {
   "cell_type": "markdown",
   "id": "e8b7baea",
   "metadata": {},
   "source": [
    "**Fit the Fourth model droping loanId**"
   ]
  },
  {
   "cell_type": "code",
   "execution_count": 36,
   "id": "eb111789",
   "metadata": {},
   "outputs": [
    {
     "name": "stdout",
     "output_type": "stream",
     "text": [
      "Optimization terminated successfully.\n",
      "         Current function value: 0.306135\n",
      "         Iterations 9\n"
     ]
    },
    {
     "data": {
      "text/html": [
       "<table class=\"simpletable\">\n",
       "<caption>Logit Regression Results</caption>\n",
       "<tr>\n",
       "  <th>Dep. Variable:</th>        <td>DEFAULT</td>     <th>  No. Observations:  </th>  <td> 10000</td> \n",
       "</tr>\n",
       "<tr>\n",
       "  <th>Model:</th>                 <td>Logit</td>      <th>  Df Residuals:      </th>  <td>  9992</td> \n",
       "</tr>\n",
       "<tr>\n",
       "  <th>Method:</th>                 <td>MLE</td>       <th>  Df Model:          </th>  <td>     7</td> \n",
       "</tr>\n",
       "<tr>\n",
       "  <th>Date:</th>            <td>Mon, 27 Sep 2021</td> <th>  Pseudo R-squ.:     </th>  <td>0.2796</td> \n",
       "</tr>\n",
       "<tr>\n",
       "  <th>Time:</th>                <td>16:43:37</td>     <th>  Log-Likelihood:    </th> <td> -3061.4</td>\n",
       "</tr>\n",
       "<tr>\n",
       "  <th>converged:</th>             <td>True</td>       <th>  LL-Null:           </th> <td> -4249.6</td>\n",
       "</tr>\n",
       "<tr>\n",
       "  <th>Covariance Type:</th>     <td>nonrobust</td>    <th>  LLR p-value:       </th>  <td> 0.000</td> \n",
       "</tr>\n",
       "</table>\n",
       "<table class=\"simpletable\">\n",
       "<tr>\n",
       "        <td></td>          <th>coef</th>     <th>std err</th>      <th>z</th>      <th>P>|z|</th>  <th>[0.025</th>    <th>0.975]</th>  \n",
       "</tr>\n",
       "<tr>\n",
       "  <th>CREDIT</th>       <td>   -1.8746</td> <td>    0.084</td> <td>  -22.218</td> <td> 0.000</td> <td>   -2.040</td> <td>   -1.709</td>\n",
       "</tr>\n",
       "<tr>\n",
       "  <th>MONTHS</th>       <td>    0.0789</td> <td>    0.004</td> <td>   21.000</td> <td> 0.000</td> <td>    0.072</td> <td>    0.086</td>\n",
       "</tr>\n",
       "<tr>\n",
       "  <th>EDUCATION</th>    <td>   -0.5103</td> <td>    0.042</td> <td>  -12.042</td> <td> 0.000</td> <td>   -0.593</td> <td>   -0.427</td>\n",
       "</tr>\n",
       "<tr>\n",
       "  <th>INTEREST</th>     <td>    0.0099</td> <td>    0.016</td> <td>    0.639</td> <td> 0.523</td> <td>   -0.021</td> <td>    0.040</td>\n",
       "</tr>\n",
       "<tr>\n",
       "  <th>MARRY_离异</th>     <td>    0.8011</td> <td>    0.140</td> <td>    5.708</td> <td> 0.000</td> <td>    0.526</td> <td>    1.076</td>\n",
       "</tr>\n",
       "<tr>\n",
       "  <th>PURPOSE_装修借款</th> <td>    0.2557</td> <td>    0.079</td> <td>    3.223</td> <td> 0.001</td> <td>    0.100</td> <td>    0.411</td>\n",
       "</tr>\n",
       "<tr>\n",
       "  <th>HOUSE_L</th>      <td>   -0.3273</td> <td>    0.086</td> <td>   -3.788</td> <td> 0.000</td> <td>   -0.497</td> <td>   -0.158</td>\n",
       "</tr>\n",
       "<tr>\n",
       "  <th>intercept</th>    <td>    0.6634</td> <td>    0.248</td> <td>    2.680</td> <td> 0.007</td> <td>    0.178</td> <td>    1.149</td>\n",
       "</tr>\n",
       "</table>"
      ],
      "text/plain": [
       "<class 'statsmodels.iolib.summary.Summary'>\n",
       "\"\"\"\n",
       "                           Logit Regression Results                           \n",
       "==============================================================================\n",
       "Dep. Variable:                DEFAULT   No. Observations:                10000\n",
       "Model:                          Logit   Df Residuals:                     9992\n",
       "Method:                           MLE   Df Model:                            7\n",
       "Date:                Mon, 27 Sep 2021   Pseudo R-squ.:                  0.2796\n",
       "Time:                        16:43:37   Log-Likelihood:                -3061.4\n",
       "converged:                       True   LL-Null:                       -4249.6\n",
       "Covariance Type:            nonrobust   LLR p-value:                     0.000\n",
       "================================================================================\n",
       "                   coef    std err          z      P>|z|      [0.025      0.975]\n",
       "--------------------------------------------------------------------------------\n",
       "CREDIT          -1.8746      0.084    -22.218      0.000      -2.040      -1.709\n",
       "MONTHS           0.0789      0.004     21.000      0.000       0.072       0.086\n",
       "EDUCATION       -0.5103      0.042    -12.042      0.000      -0.593      -0.427\n",
       "INTEREST         0.0099      0.016      0.639      0.523      -0.021       0.040\n",
       "MARRY_离异         0.8011      0.140      5.708      0.000       0.526       1.076\n",
       "PURPOSE_装修借款     0.2557      0.079      3.223      0.001       0.100       0.411\n",
       "HOUSE_L         -0.3273      0.086     -3.788      0.000      -0.497      -0.158\n",
       "intercept        0.6634      0.248      2.680      0.007       0.178       1.149\n",
       "================================================================================\n",
       "\"\"\""
      ]
     },
     "execution_count": 36,
     "metadata": {},
     "output_type": "execute_result"
    }
   ],
   "source": [
    "\n",
    "model = sm.Logit(data_2['DEFAULT'],data_2[cols])\n",
    "result4 = model.fit()\n",
    "result4.summary()"
   ]
  },
  {
   "cell_type": "code",
   "execution_count": 37,
   "id": "0ac1a8b3",
   "metadata": {},
   "outputs": [
    {
     "data": {
      "text/plain": [
       "'INTEREST'"
      ]
     },
     "execution_count": 37,
     "metadata": {},
     "output_type": "execute_result"
    },
    {
     "data": {
      "text/plain": [
       "['CREDIT',\n",
       " 'MONTHS',\n",
       " 'EDUCATION',\n",
       " 'MARRY_离异',\n",
       " 'PURPOSE_装修借款',\n",
       " 'HOUSE_L',\n",
       " 'intercept']"
      ]
     },
     "execution_count": 37,
     "metadata": {},
     "output_type": "execute_result"
    }
   ],
   "source": [
    "cols.pop(3)\n",
    "cols"
   ]
  },
  {
   "cell_type": "markdown",
   "id": "4c493f6e",
   "metadata": {},
   "source": [
    "**Fit the Fifth model droping Interest**"
   ]
  },
  {
   "cell_type": "code",
   "execution_count": 38,
   "id": "d924c6d8",
   "metadata": {},
   "outputs": [
    {
     "name": "stdout",
     "output_type": "stream",
     "text": [
      "Optimization terminated successfully.\n",
      "         Current function value: 0.306155\n",
      "         Iterations 9\n"
     ]
    },
    {
     "data": {
      "text/html": [
       "<table class=\"simpletable\">\n",
       "<caption>Logit Regression Results</caption>\n",
       "<tr>\n",
       "  <th>Dep. Variable:</th>        <td>DEFAULT</td>     <th>  No. Observations:  </th>  <td> 10000</td> \n",
       "</tr>\n",
       "<tr>\n",
       "  <th>Model:</th>                 <td>Logit</td>      <th>  Df Residuals:      </th>  <td>  9993</td> \n",
       "</tr>\n",
       "<tr>\n",
       "  <th>Method:</th>                 <td>MLE</td>       <th>  Df Model:          </th>  <td>     6</td> \n",
       "</tr>\n",
       "<tr>\n",
       "  <th>Date:</th>            <td>Mon, 27 Sep 2021</td> <th>  Pseudo R-squ.:     </th>  <td>0.2796</td> \n",
       "</tr>\n",
       "<tr>\n",
       "  <th>Time:</th>                <td>16:43:38</td>     <th>  Log-Likelihood:    </th> <td> -3061.6</td>\n",
       "</tr>\n",
       "<tr>\n",
       "  <th>converged:</th>             <td>True</td>       <th>  LL-Null:           </th> <td> -4249.6</td>\n",
       "</tr>\n",
       "<tr>\n",
       "  <th>Covariance Type:</th>     <td>nonrobust</td>    <th>  LLR p-value:       </th>  <td> 0.000</td> \n",
       "</tr>\n",
       "</table>\n",
       "<table class=\"simpletable\">\n",
       "<tr>\n",
       "        <td></td>          <th>coef</th>     <th>std err</th>      <th>z</th>      <th>P>|z|</th>  <th>[0.025</th>    <th>0.975]</th>  \n",
       "</tr>\n",
       "<tr>\n",
       "  <th>CREDIT</th>       <td>   -1.8790</td> <td>    0.084</td> <td>  -22.319</td> <td> 0.000</td> <td>   -2.044</td> <td>   -1.714</td>\n",
       "</tr>\n",
       "<tr>\n",
       "  <th>MONTHS</th>       <td>    0.0793</td> <td>    0.004</td> <td>   21.346</td> <td> 0.000</td> <td>    0.072</td> <td>    0.087</td>\n",
       "</tr>\n",
       "<tr>\n",
       "  <th>EDUCATION</th>    <td>   -0.5124</td> <td>    0.042</td> <td>  -12.123</td> <td> 0.000</td> <td>   -0.595</td> <td>   -0.430</td>\n",
       "</tr>\n",
       "<tr>\n",
       "  <th>MARRY_离异</th>     <td>    0.7979</td> <td>    0.140</td> <td>    5.691</td> <td> 0.000</td> <td>    0.523</td> <td>    1.073</td>\n",
       "</tr>\n",
       "<tr>\n",
       "  <th>PURPOSE_装修借款</th> <td>    0.2514</td> <td>    0.079</td> <td>    3.182</td> <td> 0.001</td> <td>    0.097</td> <td>    0.406</td>\n",
       "</tr>\n",
       "<tr>\n",
       "  <th>HOUSE_L</th>      <td>   -0.3275</td> <td>    0.086</td> <td>   -3.791</td> <td> 0.000</td> <td>   -0.497</td> <td>   -0.158</td>\n",
       "</tr>\n",
       "<tr>\n",
       "  <th>intercept</th>    <td>    0.7967</td> <td>    0.133</td> <td>    5.981</td> <td> 0.000</td> <td>    0.536</td> <td>    1.058</td>\n",
       "</tr>\n",
       "</table>"
      ],
      "text/plain": [
       "<class 'statsmodels.iolib.summary.Summary'>\n",
       "\"\"\"\n",
       "                           Logit Regression Results                           \n",
       "==============================================================================\n",
       "Dep. Variable:                DEFAULT   No. Observations:                10000\n",
       "Model:                          Logit   Df Residuals:                     9993\n",
       "Method:                           MLE   Df Model:                            6\n",
       "Date:                Mon, 27 Sep 2021   Pseudo R-squ.:                  0.2796\n",
       "Time:                        16:43:38   Log-Likelihood:                -3061.6\n",
       "converged:                       True   LL-Null:                       -4249.6\n",
       "Covariance Type:            nonrobust   LLR p-value:                     0.000\n",
       "================================================================================\n",
       "                   coef    std err          z      P>|z|      [0.025      0.975]\n",
       "--------------------------------------------------------------------------------\n",
       "CREDIT          -1.8790      0.084    -22.319      0.000      -2.044      -1.714\n",
       "MONTHS           0.0793      0.004     21.346      0.000       0.072       0.087\n",
       "EDUCATION       -0.5124      0.042    -12.123      0.000      -0.595      -0.430\n",
       "MARRY_离异         0.7979      0.140      5.691      0.000       0.523       1.073\n",
       "PURPOSE_装修借款     0.2514      0.079      3.182      0.001       0.097       0.406\n",
       "HOUSE_L         -0.3275      0.086     -3.791      0.000      -0.497      -0.158\n",
       "intercept        0.7967      0.133      5.981      0.000       0.536       1.058\n",
       "================================================================================\n",
       "\"\"\""
      ]
     },
     "execution_count": 38,
     "metadata": {},
     "output_type": "execute_result"
    }
   ],
   "source": [
    "model = sm.Logit(data_2['DEFAULT'],data_2[cols])\n",
    "result5 = model.fit()\n",
    "result5.summary()"
   ]
  },
  {
   "cell_type": "code",
   "execution_count": 39,
   "id": "31f3400d",
   "metadata": {},
   "outputs": [
    {
     "data": {
      "text/plain": [
       "'MONTHS'"
      ]
     },
     "execution_count": 39,
     "metadata": {},
     "output_type": "execute_result"
    },
    {
     "data": {
      "text/plain": [
       "['CREDIT', 'EDUCATION', 'MARRY_离异', 'PURPOSE_装修借款', 'HOUSE_L', 'intercept']"
      ]
     },
     "execution_count": 39,
     "metadata": {},
     "output_type": "execute_result"
    }
   ],
   "source": [
    "cols.pop(1)\n",
    "cols"
   ]
  },
  {
   "cell_type": "markdown",
   "id": "3b4ede3d",
   "metadata": {},
   "source": [
    "**Fit the Sixth model droping MONTHS**"
   ]
  },
  {
   "cell_type": "code",
   "execution_count": 40,
   "id": "616c6f9f",
   "metadata": {},
   "outputs": [
    {
     "name": "stdout",
     "output_type": "stream",
     "text": [
      "Optimization terminated successfully.\n",
      "         Current function value: 0.330429\n",
      "         Iterations 9\n"
     ]
    },
    {
     "data": {
      "text/html": [
       "<table class=\"simpletable\">\n",
       "<caption>Logit Regression Results</caption>\n",
       "<tr>\n",
       "  <th>Dep. Variable:</th>        <td>DEFAULT</td>     <th>  No. Observations:  </th>  <td> 10000</td> \n",
       "</tr>\n",
       "<tr>\n",
       "  <th>Model:</th>                 <td>Logit</td>      <th>  Df Residuals:      </th>  <td>  9994</td> \n",
       "</tr>\n",
       "<tr>\n",
       "  <th>Method:</th>                 <td>MLE</td>       <th>  Df Model:          </th>  <td>     5</td> \n",
       "</tr>\n",
       "<tr>\n",
       "  <th>Date:</th>            <td>Mon, 27 Sep 2021</td> <th>  Pseudo R-squ.:     </th>  <td>0.2224</td> \n",
       "</tr>\n",
       "<tr>\n",
       "  <th>Time:</th>                <td>16:43:38</td>     <th>  Log-Likelihood:    </th> <td> -3304.3</td>\n",
       "</tr>\n",
       "<tr>\n",
       "  <th>converged:</th>             <td>True</td>       <th>  LL-Null:           </th> <td> -4249.6</td>\n",
       "</tr>\n",
       "<tr>\n",
       "  <th>Covariance Type:</th>     <td>nonrobust</td>    <th>  LLR p-value:       </th>  <td> 0.000</td> \n",
       "</tr>\n",
       "</table>\n",
       "<table class=\"simpletable\">\n",
       "<tr>\n",
       "        <td></td>          <th>coef</th>     <th>std err</th>      <th>z</th>      <th>P>|z|</th>  <th>[0.025</th>    <th>0.975]</th>  \n",
       "</tr>\n",
       "<tr>\n",
       "  <th>CREDIT</th>       <td>   -1.8938</td> <td>    0.083</td> <td>  -22.838</td> <td> 0.000</td> <td>   -2.056</td> <td>   -1.731</td>\n",
       "</tr>\n",
       "<tr>\n",
       "  <th>EDUCATION</th>    <td>   -0.4481</td> <td>    0.040</td> <td>  -11.238</td> <td> 0.000</td> <td>   -0.526</td> <td>   -0.370</td>\n",
       "</tr>\n",
       "<tr>\n",
       "  <th>MARRY_离异</th>     <td>    0.8082</td> <td>    0.133</td> <td>    6.059</td> <td> 0.000</td> <td>    0.547</td> <td>    1.070</td>\n",
       "</tr>\n",
       "<tr>\n",
       "  <th>PURPOSE_装修借款</th> <td>    0.4790</td> <td>    0.075</td> <td>    6.386</td> <td> 0.000</td> <td>    0.332</td> <td>    0.626</td>\n",
       "</tr>\n",
       "<tr>\n",
       "  <th>HOUSE_L</th>      <td>   -0.3142</td> <td>    0.083</td> <td>   -3.806</td> <td> 0.000</td> <td>   -0.476</td> <td>   -0.152</td>\n",
       "</tr>\n",
       "<tr>\n",
       "  <th>intercept</th>    <td>    1.7775</td> <td>    0.123</td> <td>   14.459</td> <td> 0.000</td> <td>    1.537</td> <td>    2.018</td>\n",
       "</tr>\n",
       "</table>"
      ],
      "text/plain": [
       "<class 'statsmodels.iolib.summary.Summary'>\n",
       "\"\"\"\n",
       "                           Logit Regression Results                           \n",
       "==============================================================================\n",
       "Dep. Variable:                DEFAULT   No. Observations:                10000\n",
       "Model:                          Logit   Df Residuals:                     9994\n",
       "Method:                           MLE   Df Model:                            5\n",
       "Date:                Mon, 27 Sep 2021   Pseudo R-squ.:                  0.2224\n",
       "Time:                        16:43:38   Log-Likelihood:                -3304.3\n",
       "converged:                       True   LL-Null:                       -4249.6\n",
       "Covariance Type:            nonrobust   LLR p-value:                     0.000\n",
       "================================================================================\n",
       "                   coef    std err          z      P>|z|      [0.025      0.975]\n",
       "--------------------------------------------------------------------------------\n",
       "CREDIT          -1.8938      0.083    -22.838      0.000      -2.056      -1.731\n",
       "EDUCATION       -0.4481      0.040    -11.238      0.000      -0.526      -0.370\n",
       "MARRY_离异         0.8082      0.133      6.059      0.000       0.547       1.070\n",
       "PURPOSE_装修借款     0.4790      0.075      6.386      0.000       0.332       0.626\n",
       "HOUSE_L         -0.3142      0.083     -3.806      0.000      -0.476      -0.152\n",
       "intercept        1.7775      0.123     14.459      0.000       1.537       2.018\n",
       "================================================================================\n",
       "\"\"\""
      ]
     },
     "execution_count": 40,
     "metadata": {},
     "output_type": "execute_result"
    }
   ],
   "source": [
    "model = sm.Logit(data_2['DEFAULT'],data_2[cols])\n",
    "result6 = model.fit()\n",
    "result6.summary()"
   ]
  },
  {
   "cell_type": "code",
   "execution_count": 41,
   "id": "dbf5f228",
   "metadata": {},
   "outputs": [],
   "source": [
    "final_cols = ['CREDIT', 'MONTHS','EDUCATION', 'MARRY_离异', 'PURPOSE_装修借款', 'HOUSE_L', 'intercept']"
   ]
  },
  {
   "cell_type": "code",
   "execution_count": 42,
   "id": "e4193955",
   "metadata": {},
   "outputs": [
    {
     "name": "stdout",
     "output_type": "stream",
     "text": [
      "Optimization terminated successfully.\n",
      "         Current function value: 0.306155\n",
      "         Iterations 9\n"
     ]
    },
    {
     "data": {
      "text/html": [
       "<table class=\"simpletable\">\n",
       "<caption>Logit Regression Results</caption>\n",
       "<tr>\n",
       "  <th>Dep. Variable:</th>        <td>DEFAULT</td>     <th>  No. Observations:  </th>  <td> 10000</td> \n",
       "</tr>\n",
       "<tr>\n",
       "  <th>Model:</th>                 <td>Logit</td>      <th>  Df Residuals:      </th>  <td>  9993</td> \n",
       "</tr>\n",
       "<tr>\n",
       "  <th>Method:</th>                 <td>MLE</td>       <th>  Df Model:          </th>  <td>     6</td> \n",
       "</tr>\n",
       "<tr>\n",
       "  <th>Date:</th>            <td>Mon, 27 Sep 2021</td> <th>  Pseudo R-squ.:     </th>  <td>0.2796</td> \n",
       "</tr>\n",
       "<tr>\n",
       "  <th>Time:</th>                <td>16:43:38</td>     <th>  Log-Likelihood:    </th> <td> -3061.6</td>\n",
       "</tr>\n",
       "<tr>\n",
       "  <th>converged:</th>             <td>True</td>       <th>  LL-Null:           </th> <td> -4249.6</td>\n",
       "</tr>\n",
       "<tr>\n",
       "  <th>Covariance Type:</th>     <td>nonrobust</td>    <th>  LLR p-value:       </th>  <td> 0.000</td> \n",
       "</tr>\n",
       "</table>\n",
       "<table class=\"simpletable\">\n",
       "<tr>\n",
       "        <td></td>          <th>coef</th>     <th>std err</th>      <th>z</th>      <th>P>|z|</th>  <th>[0.025</th>    <th>0.975]</th>  \n",
       "</tr>\n",
       "<tr>\n",
       "  <th>CREDIT</th>       <td>   -1.8790</td> <td>    0.084</td> <td>  -22.319</td> <td> 0.000</td> <td>   -2.044</td> <td>   -1.714</td>\n",
       "</tr>\n",
       "<tr>\n",
       "  <th>MONTHS</th>       <td>    0.0793</td> <td>    0.004</td> <td>   21.346</td> <td> 0.000</td> <td>    0.072</td> <td>    0.087</td>\n",
       "</tr>\n",
       "<tr>\n",
       "  <th>EDUCATION</th>    <td>   -0.5124</td> <td>    0.042</td> <td>  -12.123</td> <td> 0.000</td> <td>   -0.595</td> <td>   -0.430</td>\n",
       "</tr>\n",
       "<tr>\n",
       "  <th>MARRY_离异</th>     <td>    0.7979</td> <td>    0.140</td> <td>    5.691</td> <td> 0.000</td> <td>    0.523</td> <td>    1.073</td>\n",
       "</tr>\n",
       "<tr>\n",
       "  <th>PURPOSE_装修借款</th> <td>    0.2514</td> <td>    0.079</td> <td>    3.182</td> <td> 0.001</td> <td>    0.097</td> <td>    0.406</td>\n",
       "</tr>\n",
       "<tr>\n",
       "  <th>HOUSE_L</th>      <td>   -0.3275</td> <td>    0.086</td> <td>   -3.791</td> <td> 0.000</td> <td>   -0.497</td> <td>   -0.158</td>\n",
       "</tr>\n",
       "<tr>\n",
       "  <th>intercept</th>    <td>    0.7967</td> <td>    0.133</td> <td>    5.981</td> <td> 0.000</td> <td>    0.536</td> <td>    1.058</td>\n",
       "</tr>\n",
       "</table>"
      ],
      "text/plain": [
       "<class 'statsmodels.iolib.summary.Summary'>\n",
       "\"\"\"\n",
       "                           Logit Regression Results                           \n",
       "==============================================================================\n",
       "Dep. Variable:                DEFAULT   No. Observations:                10000\n",
       "Model:                          Logit   Df Residuals:                     9993\n",
       "Method:                           MLE   Df Model:                            6\n",
       "Date:                Mon, 27 Sep 2021   Pseudo R-squ.:                  0.2796\n",
       "Time:                        16:43:38   Log-Likelihood:                -3061.6\n",
       "converged:                       True   LL-Null:                       -4249.6\n",
       "Covariance Type:            nonrobust   LLR p-value:                     0.000\n",
       "================================================================================\n",
       "                   coef    std err          z      P>|z|      [0.025      0.975]\n",
       "--------------------------------------------------------------------------------\n",
       "CREDIT          -1.8790      0.084    -22.319      0.000      -2.044      -1.714\n",
       "MONTHS           0.0793      0.004     21.346      0.000       0.072       0.087\n",
       "EDUCATION       -0.5124      0.042    -12.123      0.000      -0.595      -0.430\n",
       "MARRY_离异         0.7979      0.140      5.691      0.000       0.523       1.073\n",
       "PURPOSE_装修借款     0.2514      0.079      3.182      0.001       0.097       0.406\n",
       "HOUSE_L         -0.3275      0.086     -3.791      0.000      -0.497      -0.158\n",
       "intercept        0.7967      0.133      5.981      0.000       0.536       1.058\n",
       "================================================================================\n",
       "\"\"\""
      ]
     },
     "execution_count": 42,
     "metadata": {},
     "output_type": "execute_result"
    }
   ],
   "source": [
    "model = sm.Logit(data_2['DEFAULT'],data_2[final_cols])\n",
    "result7 = model.fit()\n",
    "result7.summary()"
   ]
  },
  {
   "cell_type": "markdown",
   "id": "7633f52b",
   "metadata": {},
   "source": [
    "<a id=\"1.3.2\"></a>\n",
    "### 1.3.2 Logit model Sum up\n",
    "Finally, we get illustrate all the models in a table\n",
    "we can draw the conclusion.\n",
    "\n",
    "***(1)*** Compated to other model the senventh model is the final model. It contains no insignificant features and contains a rather \n",
    "satifactory score.\n",
    "\n",
    "Among all the features left, credit, education, house_L has negative effect on Default. It means if someone has higher credits, or better education background or house_L he is less likely to default.  \n",
    "Months,Marry_离异,Purpose_装修借款， has positive effect on Default likelihood.\n",
    "\n",
    "***(2)***  However, if we can only include bowrrowers' characteristic instead of features about the trade. We should use model 6.\n",
    "  \n",
    "   [Back to content](#0.1)\n"
   ]
  },
  {
   "cell_type": "code",
   "execution_count": 43,
   "id": "f4b110e8",
   "metadata": {},
   "outputs": [],
   "source": [
    "def sum_up(result_list):\n",
    "    for m in range(len(result_list)):\n",
    "        temp = []\n",
    "        result = result_list[m]\n",
    "        for i in range(len(result.params)):\n",
    "            text = str('{:.3e}'.format(result.params[i])) + \"   \" + \"( \" + result.pvalues[i].round(3).astype(\"str\") +\" )\"\n",
    "            temp.append(text)\n",
    "        if m==0:\n",
    "            df = pd.DataFrame({\"Model 1\" : temp},index = result.params.index)\n",
    "        else:\n",
    "            column = \"Model \" + str(m+1)\n",
    "            df = df.join(pd.DataFrame({column : temp},index = result.params.index))\n",
    "    return df\n",
    "    \n",
    "        \n",
    "            "
   ]
  },
  {
   "cell_type": "code",
   "execution_count": 44,
   "id": "553531c0",
   "metadata": {},
   "outputs": [
    {
     "data": {
      "text/html": [
       "<div>\n",
       "<style scoped>\n",
       "    .dataframe tbody tr th:only-of-type {\n",
       "        vertical-align: middle;\n",
       "    }\n",
       "\n",
       "    .dataframe tbody tr th {\n",
       "        vertical-align: top;\n",
       "    }\n",
       "\n",
       "    .dataframe thead th {\n",
       "        text-align: right;\n",
       "    }\n",
       "</style>\n",
       "<table border=\"1\" class=\"dataframe\">\n",
       "  <thead>\n",
       "    <tr style=\"text-align: right;\">\n",
       "      <th></th>\n",
       "      <th>Model 1</th>\n",
       "      <th>Model 2</th>\n",
       "      <th>Model 3</th>\n",
       "      <th>Model 4</th>\n",
       "      <th>Model 5</th>\n",
       "      <th>Model 6</th>\n",
       "      <th>Model 7</th>\n",
       "    </tr>\n",
       "  </thead>\n",
       "  <tbody>\n",
       "    <tr>\n",
       "      <th>CREDIT</th>\n",
       "      <td>-1.996e+00   ( 0.0 )</td>\n",
       "      <td>-1.993e+00   ( 0.0 )</td>\n",
       "      <td>-1.996e+00   ( 0.0 )</td>\n",
       "      <td>-1.875e+00   ( 0.0 )</td>\n",
       "      <td>-1.879e+00   ( 0.0 )</td>\n",
       "      <td>-1.894e+00   ( 0.0 )</td>\n",
       "      <td>-1.879e+00   ( 0.0 )</td>\n",
       "    </tr>\n",
       "    <tr>\n",
       "      <th>MONTHS</th>\n",
       "      <td>7.391e-02   ( 0.0 )</td>\n",
       "      <td>7.373e-02   ( 0.0 )</td>\n",
       "      <td>7.467e-02   ( 0.0 )</td>\n",
       "      <td>7.893e-02   ( 0.0 )</td>\n",
       "      <td>7.931e-02   ( 0.0 )</td>\n",
       "      <td>NaN</td>\n",
       "      <td>7.931e-02   ( 0.0 )</td>\n",
       "    </tr>\n",
       "    <tr>\n",
       "      <th>EDUCATION</th>\n",
       "      <td>-5.459e-01   ( 0.0 )</td>\n",
       "      <td>-5.457e-01   ( 0.0 )</td>\n",
       "      <td>-5.454e-01   ( 0.0 )</td>\n",
       "      <td>-5.103e-01   ( 0.0 )</td>\n",
       "      <td>-5.124e-01   ( 0.0 )</td>\n",
       "      <td>-4.481e-01   ( 0.0 )</td>\n",
       "      <td>-5.124e-01   ( 0.0 )</td>\n",
       "    </tr>\n",
       "    <tr>\n",
       "      <th>CAR</th>\n",
       "      <td>3.878e-02   ( 0.591 )</td>\n",
       "      <td>NaN</td>\n",
       "      <td>NaN</td>\n",
       "      <td>NaN</td>\n",
       "      <td>NaN</td>\n",
       "      <td>NaN</td>\n",
       "      <td>NaN</td>\n",
       "    </tr>\n",
       "    <tr>\n",
       "      <th>loanId</th>\n",
       "      <td>8.013e-07   ( 0.0 )</td>\n",
       "      <td>7.994e-07   ( 0.0 )</td>\n",
       "      <td>8.041e-07   ( 0.0 )</td>\n",
       "      <td>NaN</td>\n",
       "      <td>NaN</td>\n",
       "      <td>NaN</td>\n",
       "      <td>NaN</td>\n",
       "    </tr>\n",
       "    <tr>\n",
       "      <th>INTEREST</th>\n",
       "      <td>6.446e-02   ( 0.0 )</td>\n",
       "      <td>6.410e-02   ( 0.0 )</td>\n",
       "      <td>6.304e-02   ( 0.0 )</td>\n",
       "      <td>9.946e-03   ( 0.523 )</td>\n",
       "      <td>NaN</td>\n",
       "      <td>NaN</td>\n",
       "      <td>NaN</td>\n",
       "    </tr>\n",
       "    <tr>\n",
       "      <th>MARRY_离异</th>\n",
       "      <td>8.014e-01   ( 0.0 )</td>\n",
       "      <td>8.016e-01   ( 0.0 )</td>\n",
       "      <td>8.019e-01   ( 0.0 )</td>\n",
       "      <td>8.011e-01   ( 0.0 )</td>\n",
       "      <td>7.979e-01   ( 0.0 )</td>\n",
       "      <td>8.082e-01   ( 0.0 )</td>\n",
       "      <td>7.979e-01   ( 0.0 )</td>\n",
       "    </tr>\n",
       "    <tr>\n",
       "      <th>PURPOSE_装修借款</th>\n",
       "      <td>1.959e-01   ( 0.016 )</td>\n",
       "      <td>1.926e-01   ( 0.018 )</td>\n",
       "      <td>1.684e-01   ( 0.036 )</td>\n",
       "      <td>2.557e-01   ( 0.001 )</td>\n",
       "      <td>2.514e-01   ( 0.001 )</td>\n",
       "      <td>4.790e-01   ( 0.0 )</td>\n",
       "      <td>2.514e-01   ( 0.001 )</td>\n",
       "    </tr>\n",
       "    <tr>\n",
       "      <th>HOUSE_L</th>\n",
       "      <td>-3.119e-01   ( 0.0 )</td>\n",
       "      <td>-3.059e-01   ( 0.0 )</td>\n",
       "      <td>-3.068e-01   ( 0.0 )</td>\n",
       "      <td>-3.273e-01   ( 0.0 )</td>\n",
       "      <td>-3.275e-01   ( 0.0 )</td>\n",
       "      <td>-3.142e-01   ( 0.0 )</td>\n",
       "      <td>-3.275e-01   ( 0.0 )</td>\n",
       "    </tr>\n",
       "    <tr>\n",
       "      <th>PURPOSE_购车借款</th>\n",
       "      <td>2.600e-01   ( 0.053 )</td>\n",
       "      <td>2.533e-01   ( 0.058 )</td>\n",
       "      <td>NaN</td>\n",
       "      <td>NaN</td>\n",
       "      <td>NaN</td>\n",
       "      <td>NaN</td>\n",
       "      <td>NaN</td>\n",
       "    </tr>\n",
       "    <tr>\n",
       "      <th>intercept</th>\n",
       "      <td>-1.468e-01   ( 0.573 )</td>\n",
       "      <td>-1.299e-01   ( 0.616 )</td>\n",
       "      <td>-1.093e-01   ( 0.672 )</td>\n",
       "      <td>6.634e-01   ( 0.007 )</td>\n",
       "      <td>7.967e-01   ( 0.0 )</td>\n",
       "      <td>1.778e+00   ( 0.0 )</td>\n",
       "      <td>7.967e-01   ( 0.0 )</td>\n",
       "    </tr>\n",
       "    <tr>\n",
       "      <th>R-Square</th>\n",
       "      <td>0.2924</td>\n",
       "      <td>0.2924</td>\n",
       "      <td>0.2920</td>\n",
       "      <td>0.2796</td>\n",
       "      <td>0.2796</td>\n",
       "      <td>0.2224</td>\n",
       "      <td>0.2796</td>\n",
       "    </tr>\n",
       "  </tbody>\n",
       "</table>\n",
       "</div>"
      ],
      "text/plain": [
       "                             Model 1                 Model 2  \\\n",
       "CREDIT          -1.996e+00   ( 0.0 )    -1.993e+00   ( 0.0 )   \n",
       "MONTHS           7.391e-02   ( 0.0 )     7.373e-02   ( 0.0 )   \n",
       "EDUCATION       -5.459e-01   ( 0.0 )    -5.457e-01   ( 0.0 )   \n",
       "CAR            3.878e-02   ( 0.591 )                     NaN   \n",
       "loanId           8.013e-07   ( 0.0 )     7.994e-07   ( 0.0 )   \n",
       "INTEREST         6.446e-02   ( 0.0 )     6.410e-02   ( 0.0 )   \n",
       "MARRY_离异         8.014e-01   ( 0.0 )     8.016e-01   ( 0.0 )   \n",
       "PURPOSE_装修借款   1.959e-01   ( 0.016 )   1.926e-01   ( 0.018 )   \n",
       "HOUSE_L         -3.119e-01   ( 0.0 )    -3.059e-01   ( 0.0 )   \n",
       "PURPOSE_购车借款   2.600e-01   ( 0.053 )   2.533e-01   ( 0.058 )   \n",
       "intercept     -1.468e-01   ( 0.573 )  -1.299e-01   ( 0.616 )   \n",
       "R-Square                      0.2924                  0.2924   \n",
       "\n",
       "                             Model 3                Model 4  \\\n",
       "CREDIT          -1.996e+00   ( 0.0 )   -1.875e+00   ( 0.0 )   \n",
       "MONTHS           7.467e-02   ( 0.0 )    7.893e-02   ( 0.0 )   \n",
       "EDUCATION       -5.454e-01   ( 0.0 )   -5.103e-01   ( 0.0 )   \n",
       "CAR                              NaN                    NaN   \n",
       "loanId           8.041e-07   ( 0.0 )                    NaN   \n",
       "INTEREST         6.304e-02   ( 0.0 )  9.946e-03   ( 0.523 )   \n",
       "MARRY_离异         8.019e-01   ( 0.0 )    8.011e-01   ( 0.0 )   \n",
       "PURPOSE_装修借款   1.684e-01   ( 0.036 )  2.557e-01   ( 0.001 )   \n",
       "HOUSE_L         -3.068e-01   ( 0.0 )   -3.273e-01   ( 0.0 )   \n",
       "PURPOSE_购车借款                     NaN                    NaN   \n",
       "intercept     -1.093e-01   ( 0.672 )  6.634e-01   ( 0.007 )   \n",
       "R-Square                      0.2920                 0.2796   \n",
       "\n",
       "                            Model 5               Model 6  \\\n",
       "CREDIT         -1.879e+00   ( 0.0 )  -1.894e+00   ( 0.0 )   \n",
       "MONTHS          7.931e-02   ( 0.0 )                   NaN   \n",
       "EDUCATION      -5.124e-01   ( 0.0 )  -4.481e-01   ( 0.0 )   \n",
       "CAR                             NaN                   NaN   \n",
       "loanId                          NaN                   NaN   \n",
       "INTEREST                        NaN                   NaN   \n",
       "MARRY_离异        7.979e-01   ( 0.0 )   8.082e-01   ( 0.0 )   \n",
       "PURPOSE_装修借款  2.514e-01   ( 0.001 )   4.790e-01   ( 0.0 )   \n",
       "HOUSE_L        -3.275e-01   ( 0.0 )  -3.142e-01   ( 0.0 )   \n",
       "PURPOSE_购车借款                    NaN                   NaN   \n",
       "intercept       7.967e-01   ( 0.0 )   1.778e+00   ( 0.0 )   \n",
       "R-Square                     0.2796                0.2224   \n",
       "\n",
       "                            Model 7  \n",
       "CREDIT         -1.879e+00   ( 0.0 )  \n",
       "MONTHS          7.931e-02   ( 0.0 )  \n",
       "EDUCATION      -5.124e-01   ( 0.0 )  \n",
       "CAR                             NaN  \n",
       "loanId                          NaN  \n",
       "INTEREST                        NaN  \n",
       "MARRY_离异        7.979e-01   ( 0.0 )  \n",
       "PURPOSE_装修借款  2.514e-01   ( 0.001 )  \n",
       "HOUSE_L        -3.275e-01   ( 0.0 )  \n",
       "PURPOSE_购车借款                    NaN  \n",
       "intercept       7.967e-01   ( 0.0 )  \n",
       "R-Square                     0.2796  "
      ]
     },
     "execution_count": 44,
     "metadata": {},
     "output_type": "execute_result"
    }
   ],
   "source": [
    "\n",
    "result_list = [result1,result2,result3,result4,result5,result6,result7]\n",
    "df = sum_up(result_list)\n",
    "r_squares = []\n",
    "for result in result_list:\n",
    "    r_squares.append('{:.4f}'.format(result.prsquared))\n",
    "pd.concat([df,pd.DataFrame([r_squares],columns=[\"Model 1\",\"Model 2\",\"Model 3\",\"Model 4\",\"Model 5\",\"Model 6\",\"Model 7\"],index=[\"R-Square\"])])"
   ]
  },
  {
   "cell_type": "markdown",
   "id": "d887066c",
   "metadata": {},
   "source": [
    "<a id=\"1.3.3\"></a>\n",
    "### 1.3.3 Further study a comparison between logit regression and random forest\n",
    "**(1)** [Comparing logit models from machine learning angle](#1.3.3.1)  \n",
    "**(2)** [Tranning and adjusting the paramater of Randomforest](#1.3.3.2)  \n",
    "**(3)** [Comparing logit model and randomforest](#1.3.3.3) \n",
    "  \n",
    "[Back to content](#0.1)"
   ]
  },
  {
   "cell_type": "markdown",
   "id": "9acbb476",
   "metadata": {},
   "source": [
    "<a id=\"1.3.3.1\"></a>\n",
    "**<font size=4>(1) Comparing logit models from machine learning angle</font>**   \n",
    "As a result I found after model selection, with fewer features, the final model has better performance than the first model"
   ]
  },
  {
   "cell_type": "code",
   "execution_count": 66,
   "id": "1968d373",
   "metadata": {},
   "outputs": [],
   "source": [
    "Y =data_2[\"DEFAULT\"]\n",
    "X = data_2[['CREDIT',\n",
    " 'MONTHS',\n",
    " 'EDUCATION',\n",
    " 'CAR',\n",
    " 'loanId',\n",
    " 'INTEREST',\n",
    " 'MARRY_离异',\n",
    " 'PURPOSE_装修借款',\n",
    " 'HOUSE_L',\n",
    " 'PURPOSE_购车借款']]\n",
    "X_train,X_test,y_train,y_test= train_test_split(X,Y,test_size=0.25,random_state=0)"
   ]
  },
  {
   "cell_type": "code",
   "execution_count": 68,
   "id": "d8159eb5",
   "metadata": {},
   "outputs": [
    {
     "data": {
      "text/plain": [
       "LogisticRegression()"
      ]
     },
     "execution_count": 68,
     "metadata": {},
     "output_type": "execute_result"
    },
    {
     "data": {
      "text/plain": [
       "0.8492"
      ]
     },
     "execution_count": 68,
     "metadata": {},
     "output_type": "execute_result"
    },
    {
     "data": {
      "text/plain": [
       "0.8472"
      ]
     },
     "execution_count": 68,
     "metadata": {},
     "output_type": "execute_result"
    }
   ],
   "source": [
    "lg = LogisticRegression()\n",
    "lg.fit(X_train,y_train)\n",
    "lg.score(X_train,y_train)\n",
    "lg.score(X_test,y_test)"
   ]
  },
  {
   "cell_type": "code",
   "execution_count": 69,
   "id": "130cc47a",
   "metadata": {},
   "outputs": [
    {
     "data": {
      "text/plain": [
       "LogisticRegression()"
      ]
     },
     "execution_count": 69,
     "metadata": {},
     "output_type": "execute_result"
    },
    {
     "data": {
      "text/plain": [
       "0.8621333333333333"
      ]
     },
     "execution_count": 69,
     "metadata": {},
     "output_type": "execute_result"
    },
    {
     "data": {
      "text/plain": [
       "0.8568"
      ]
     },
     "execution_count": 69,
     "metadata": {},
     "output_type": "execute_result"
    }
   ],
   "source": [
    "Y = data_2[\"DEFAULT\"]\n",
    "X = data_2[final_cols]\n",
    "X_train,X_test,y_train,y_test= train_test_split(X,Y,test_size=0.25,random_state=0)\n",
    "lg = LogisticRegression()\n",
    "lg.fit(X_train,y_train)\n",
    "lg.score(X_train,y_train)\n",
    "lg.score(X_test,y_test)"
   ]
  },
  {
   "cell_type": "markdown",
   "id": "c8f9b72b",
   "metadata": {},
   "source": [
    "<a id=\"1.3.3.2\"></a>\n",
    "**<font size=4>(2) Randomforest Training</font>**  \n",
    "Since there are few features remained for randomforest,   \n",
    "I just drop the illogic feature-loanId, and fit the model with better parameter instead of further feature filtering  \n",
    "  \n",
    "**Without setting the parm, the score between train set and test set is much larger**  \n",
    " To fix the overfitting problem, adjust parm: \"max-depth\"  \n",
    "   \n",
    "**Draw the result at last socre-different max depth**  \n",
    "Come to a conclusion, max - depth =6 is the best parm.\n",
    "  \n",
    "   [Back to 1.3.3](#1.3.3)"
   ]
  },
  {
   "cell_type": "code",
   "execution_count": 86,
   "id": "d002c219",
   "metadata": {},
   "outputs": [],
   "source": [
    "score_train = []\n",
    "score_test = []"
   ]
  },
  {
   "cell_type": "code",
   "execution_count": 87,
   "id": "8ddd4893",
   "metadata": {},
   "outputs": [
    {
     "data": {
      "text/plain": [
       "RandomForestClassifier(random_state=0)"
      ]
     },
     "execution_count": 87,
     "metadata": {},
     "output_type": "execute_result"
    },
    {
     "data": {
      "text/plain": [
       "0.8906666666666667"
      ]
     },
     "execution_count": 87,
     "metadata": {},
     "output_type": "execute_result"
    },
    {
     "data": {
      "text/plain": [
       "0.8528"
      ]
     },
     "execution_count": 87,
     "metadata": {},
     "output_type": "execute_result"
    }
   ],
   "source": [
    "Y =data_2[\"DEFAULT\"]\n",
    "X = data_2[['CREDIT',\n",
    " 'MONTHS',\n",
    " 'EDUCATION',\n",
    " 'CAR',\n",
    " 'INTEREST',\n",
    " 'MARRY_离异',\n",
    " 'PURPOSE_装修借款',\n",
    " 'HOUSE_L',\n",
    " 'PURPOSE_购车借款']]\n",
    "X_train,X_test,y_train,y_test= train_test_split(X,Y,test_size=0.25,random_state=0)\n",
    "clf = RandomForestClassifier( random_state=0)\n",
    "clf.fit(X_train,y_train)\n",
    "clf.score(X_train,y_train)\n",
    "clf.score(X_test,y_test)\n",
    "score_train.append(clf.score(X_train,y_train))\n",
    "score_test.append(clf.score(X_test,y_test))"
   ]
  },
  {
   "cell_type": "code",
   "execution_count": 88,
   "id": "ef9cdc5e",
   "metadata": {},
   "outputs": [
    {
     "data": {
      "text/plain": [
       "RandomForestClassifier(max_depth=2, random_state=0)"
      ]
     },
     "execution_count": 88,
     "metadata": {},
     "output_type": "execute_result"
    },
    {
     "data": {
      "text/plain": [
       "0.8492"
      ]
     },
     "execution_count": 88,
     "metadata": {},
     "output_type": "execute_result"
    },
    {
     "data": {
      "text/plain": [
       "0.8472"
      ]
     },
     "execution_count": 88,
     "metadata": {},
     "output_type": "execute_result"
    }
   ],
   "source": [
    "Y =data_2[\"DEFAULT\"]\n",
    "X = data_2[['CREDIT',\n",
    " 'MONTHS',\n",
    " 'EDUCATION',\n",
    " 'CAR',\n",
    " 'INTEREST',\n",
    " 'MARRY_离异',\n",
    " 'PURPOSE_装修借款',\n",
    " 'HOUSE_L',\n",
    " 'PURPOSE_购车借款']]\n",
    "X_train,X_test,y_train,y_test= train_test_split(X,Y,test_size=0.25,random_state=0)\n",
    "clf = RandomForestClassifier( max_depth=2,random_state=0)\n",
    "clf.fit(X_train,y_train)\n",
    "clf.score(X_train,y_train)\n",
    "clf.score(X_test,y_test)\n",
    "score_train.append(clf.score(X_train,y_train))\n",
    "score_test.append(clf.score(X_test,y_test))"
   ]
  },
  {
   "cell_type": "code",
   "execution_count": 89,
   "id": "0e9279bf",
   "metadata": {},
   "outputs": [
    {
     "data": {
      "text/plain": [
       "RandomForestClassifier(max_depth=4, random_state=0)"
      ]
     },
     "execution_count": 89,
     "metadata": {},
     "output_type": "execute_result"
    },
    {
     "data": {
      "text/plain": [
       "0.8516"
      ]
     },
     "execution_count": 89,
     "metadata": {},
     "output_type": "execute_result"
    },
    {
     "data": {
      "text/plain": [
       "0.8476"
      ]
     },
     "execution_count": 89,
     "metadata": {},
     "output_type": "execute_result"
    }
   ],
   "source": [
    "Y =data_2[\"DEFAULT\"]\n",
    "X = data_2[['CREDIT',\n",
    " 'MONTHS',\n",
    " 'EDUCATION',\n",
    " 'CAR',\n",
    " 'INTEREST',\n",
    " 'MARRY_离异',\n",
    " 'PURPOSE_装修借款',\n",
    " 'HOUSE_L',\n",
    " 'PURPOSE_购车借款']]\n",
    "X_train,X_test,y_train,y_test= train_test_split(X,Y,test_size=0.25,random_state=0)\n",
    "clf = RandomForestClassifier( max_depth=4,random_state=0)\n",
    "clf.fit(X_train,y_train)\n",
    "clf.score(X_train,y_train)\n",
    "clf.score(X_test,y_test)\n",
    "score_train.append(clf.score(X_train,y_train))\n",
    "score_test.append(clf.score(X_test,y_test))"
   ]
  },
  {
   "cell_type": "code",
   "execution_count": 90,
   "id": "5344dfec",
   "metadata": {},
   "outputs": [
    {
     "data": {
      "text/plain": [
       "RandomForestClassifier(max_depth=6, random_state=0)"
      ]
     },
     "execution_count": 90,
     "metadata": {},
     "output_type": "execute_result"
    },
    {
     "data": {
      "text/plain": [
       "0.8668"
      ]
     },
     "execution_count": 90,
     "metadata": {},
     "output_type": "execute_result"
    },
    {
     "data": {
      "text/plain": [
       "0.8652"
      ]
     },
     "execution_count": 90,
     "metadata": {},
     "output_type": "execute_result"
    }
   ],
   "source": [
    "Y =data_2[\"DEFAULT\"]\n",
    "X = data_2[['CREDIT',\n",
    " 'MONTHS',\n",
    " 'EDUCATION',\n",
    " 'CAR',\n",
    " 'INTEREST',\n",
    " 'MARRY_离异',\n",
    " 'PURPOSE_装修借款',\n",
    " 'HOUSE_L',\n",
    " 'PURPOSE_购车借款']]\n",
    "X_train,X_test,y_train,y_test= train_test_split(X,Y,test_size=0.25,random_state=0)\n",
    "clf = RandomForestClassifier( max_depth=6,random_state=0)\n",
    "clf.fit(X_train,y_train)\n",
    "clf.score(X_train,y_train)\n",
    "clf.score(X_test,y_test)\n",
    "score_train.append(clf.score(X_train,y_train))\n",
    "score_test.append(clf.score(X_test,y_test))"
   ]
  },
  {
   "cell_type": "code",
   "execution_count": 91,
   "id": "8197a17b",
   "metadata": {},
   "outputs": [
    {
     "data": {
      "text/plain": [
       "RandomForestClassifier(max_depth=8, random_state=0)"
      ]
     },
     "execution_count": 91,
     "metadata": {},
     "output_type": "execute_result"
    },
    {
     "data": {
      "text/plain": [
       "0.8733333333333333"
      ]
     },
     "execution_count": 91,
     "metadata": {},
     "output_type": "execute_result"
    },
    {
     "data": {
      "text/plain": [
       "0.862"
      ]
     },
     "execution_count": 91,
     "metadata": {},
     "output_type": "execute_result"
    }
   ],
   "source": [
    "Y =data_2[\"DEFAULT\"]\n",
    "X = data_2[['CREDIT',\n",
    " 'MONTHS',\n",
    " 'EDUCATION',\n",
    " 'CAR',\n",
    " 'INTEREST',\n",
    " 'MARRY_离异',\n",
    " 'PURPOSE_装修借款',\n",
    " 'HOUSE_L',\n",
    " 'PURPOSE_购车借款']]\n",
    "X_train,X_test,y_train,y_test= train_test_split(X,Y,test_size=0.25,random_state=0)\n",
    "clf = RandomForestClassifier( max_depth=8,random_state=0)\n",
    "clf.fit(X_train,y_train)\n",
    "clf.score(X_train,y_train)\n",
    "clf.score(X_test,y_test)\n",
    "score_train.append(clf.score(X_train,y_train))\n",
    "score_test.append(clf.score(X_test,y_test))"
   ]
  },
  {
   "cell_type": "code",
   "execution_count": 92,
   "id": "3a1b836f",
   "metadata": {},
   "outputs": [
    {
     "data": {
      "text/plain": [
       "RandomForestClassifier(max_depth=10, random_state=0)"
      ]
     },
     "execution_count": 92,
     "metadata": {},
     "output_type": "execute_result"
    },
    {
     "data": {
      "text/plain": [
       "0.8805333333333333"
      ]
     },
     "execution_count": 92,
     "metadata": {},
     "output_type": "execute_result"
    },
    {
     "data": {
      "text/plain": [
       "0.8592"
      ]
     },
     "execution_count": 92,
     "metadata": {},
     "output_type": "execute_result"
    }
   ],
   "source": [
    "Y =data_2[\"DEFAULT\"]\n",
    "X = data_2[['CREDIT',\n",
    " 'MONTHS',\n",
    " 'EDUCATION',\n",
    " 'CAR',\n",
    " 'INTEREST',\n",
    " 'MARRY_离异',\n",
    " 'PURPOSE_装修借款',\n",
    " 'HOUSE_L',\n",
    " 'PURPOSE_购车借款']]\n",
    "X_train,X_test,y_train,y_test= train_test_split(X,Y,test_size=0.25,random_state=0)\n",
    "clf = RandomForestClassifier( max_depth=10,random_state=0)\n",
    "clf.fit(X_train,y_train)\n",
    "clf.score(X_train,y_train)\n",
    "clf.score(X_test,y_test)\n",
    "score_train.append(clf.score(X_train,y_train))\n",
    "score_test.append(clf.score(X_test,y_test))"
   ]
  },
  {
   "cell_type": "markdown",
   "id": "26d50bbe",
   "metadata": {},
   "source": [
    "**Draw the result at last socre-different max depth**  \n",
    "Come to a conclusion, max - depth =6 is the best parm. Because, it the test point reaches a local maximizer.  \n",
    "Besides, it is fairly close to figure of trainset leading to no concern of overfitting problem."
   ]
  },
  {
   "cell_type": "code",
   "execution_count": 105,
   "id": "a3335e68",
   "metadata": {},
   "outputs": [
    {
     "data": {
      "text/plain": [
       "<Figure size 504x432 with 0 Axes>"
      ]
     },
     "execution_count": 105,
     "metadata": {},
     "output_type": "execute_result"
    },
    {
     "data": {
      "text/plain": [
       "[<matplotlib.lines.Line2D at 0x227563086a0>]"
      ]
     },
     "execution_count": 105,
     "metadata": {},
     "output_type": "execute_result"
    },
    {
     "data": {
      "text/plain": [
       "[<matplotlib.lines.Line2D at 0x22756308ac0>]"
      ]
     },
     "execution_count": 105,
     "metadata": {},
     "output_type": "execute_result"
    },
    {
     "data": {
      "text/plain": [
       "Text(0.5, 0, 'Max Depth')"
      ]
     },
     "execution_count": 105,
     "metadata": {},
     "output_type": "execute_result"
    },
    {
     "data": {
      "text/plain": [
       "Text(0, 0.5, 'Score')"
      ]
     },
     "execution_count": 105,
     "metadata": {},
     "output_type": "execute_result"
    },
    {
     "data": {
      "text/plain": [
       "Text(0.5, 1.0, 'Score - Max Depth')"
      ]
     },
     "execution_count": 105,
     "metadata": {},
     "output_type": "execute_result"
    },
    {
     "data": {
      "text/plain": [
       "<matplotlib.legend.Legend at 0x22756308d60>"
      ]
     },
     "execution_count": 105,
     "metadata": {},
     "output_type": "execute_result"
    },
    {
     "data": {
      "image/png": "[encoded data removed]",
      "text/plain": [
       "<Figure size 504x432 with 1 Axes>"
      ]
     },
     "metadata": {
      "needs_background": "light"
     },
     "output_type": "display_data"
    }
   ],
   "source": [
    "plt.figure(figsize=[7, 6])\n",
    "x_plot = [0,2,4,6,8,10]\n",
    "plt.plot(x_plot,score_train,\"b--*\",label=\"Train Score\")\n",
    "plt.plot(x_plot,score_test,\"r--.\",label=\"Test Score\")\n",
    "plt.xlabel(\"Max Depth\")\n",
    "plt.ylabel(\"Score\")\n",
    "plt.title(\"Score - Max Depth\")\n",
    "plt.legend()\n",
    "plt.show()"
   ]
  },
  {
   "cell_type": "markdown",
   "id": "3e32ca67",
   "metadata": {},
   "source": [
    "<a id=\"1.3.3.3\"></a>\n",
    "**<font size=4>(3) Comparing logit and randomforest</font>**   \n",
    "From the table we can come to the conclusion that:\n",
    "Randomforest model scores (0.0047) better on the train set\n",
    "Randomforest model scores 0.0085 better on the test set.\n",
    "Obviously logit model has quiet similar performance compared to the random forest model. \n",
    "I assume there are two reasons:    \n",
    "\n",
    "**(1)** The logit model is excellently fitted  \n",
    "**(2)** The data sample is not perfect for randomforest because there are not enough featues and records.\n",
    "\n",
    "Although random forest has better performance, it can not explain how each feature affect the result very well\n",
    "\n",
    "  \n",
    "  [Back to 1.3.3](#1.3.3)"
   ]
  },
  {
   "cell_type": "code",
   "execution_count": 108,
   "id": "bf88ca9e",
   "metadata": {},
   "outputs": [
    {
     "data": {
      "text/html": [
       "<div>\n",
       "<style scoped>\n",
       "    .dataframe tbody tr th:only-of-type {\n",
       "        vertical-align: middle;\n",
       "    }\n",
       "\n",
       "    .dataframe tbody tr th {\n",
       "        vertical-align: top;\n",
       "    }\n",
       "\n",
       "    .dataframe thead th {\n",
       "        text-align: right;\n",
       "    }\n",
       "</style>\n",
       "<table border=\"1\" class=\"dataframe\">\n",
       "  <thead>\n",
       "    <tr style=\"text-align: right;\">\n",
       "      <th></th>\n",
       "      <th>Logit</th>\n",
       "      <th>RandomForest</th>\n",
       "    </tr>\n",
       "  </thead>\n",
       "  <tbody>\n",
       "    <tr>\n",
       "      <th>Train set score</th>\n",
       "      <td>0.8621</td>\n",
       "      <td>0.8668</td>\n",
       "    </tr>\n",
       "    <tr>\n",
       "      <th>Test set score</th>\n",
       "      <td>0.8568</td>\n",
       "      <td>0.8652</td>\n",
       "    </tr>\n",
       "  </tbody>\n",
       "</table>\n",
       "</div>"
      ],
      "text/plain": [
       "                  Logit  RandomForest\n",
       "Train set score  0.8621        0.8668\n",
       "Test set score   0.8568        0.8652"
      ]
     },
     "execution_count": 108,
     "metadata": {},
     "output_type": "execute_result"
    }
   ],
   "source": [
    "pd.DataFrame({\n",
    "    \"Logit\":[0.8621,0.8568],\n",
    "    \"RandomForest\":[0.8668,0.8652]},\n",
    "    index = [\"Train set score\",\"Test set score\"]\n",
    "l\n",
    ")"
   ]
  },
  {
   "cell_type": "code",
   "execution_count": 110,
   "id": "c73c05ad",
   "metadata": {},
   "outputs": [
    {
     "data": {
      "text/plain": [
       "0.0047000000000000375"
      ]
     },
     "execution_count": 110,
     "metadata": {},
     "output_type": "execute_result"
    },
    {
     "data": {
      "text/plain": [
       "0.008399999999999963"
      ]
     },
     "execution_count": 110,
     "metadata": {},
     "output_type": "execute_result"
    }
   ],
   "source": [
    "0.8668 - 0.8621\n",
    "0.8652 - 0.8568"
   ]
  },
  {
   "cell_type": "markdown",
   "id": "3a634c37",
   "metadata": {},
   "source": [
    "<a id=\"1.4\"></a>\n",
    "### 1.4 OLS Regression\n",
    "**(1) First Model**    \n",
    "According to the note 2 in the result, I found there are some series problem in the model leading to an irregular large condition number.   \n",
    "At the same time when we plot the residual graph, the figure is not like a line,but varied among observations   \n",
    "\n",
    "**(2) Second Model**   \n",
    "Based on the tips I assume there is multicollinearity in the model, and based on the correlation test I have done, I have already removed close features. However I keep one feature AMOUNT which is highly related(0.809) to BIDS. I assume it is the reason causing the problem, and it is also rational that there is mullticollinearity between amount and bids from life experience. Since the amount is a result of bids  \n",
    "\n",
    "The result is a little better, but it still involve a large condition number. \n",
    "\n",
    "**(3) Third Model**     \n",
    "Since there is still a same problem, I assume its cause is another issue-numerical problem. When I look up to the data statistc of the features, I found the feature loan Id is make up of significantly large number compared to other features. And it should not be a explainable based on life experience, so I simply drop it.  \n",
    "Finally we get model no longer report a large condition number.   \n",
    "\n",
    "**(4) Fourth and d Fifth Model**   \n",
    "In these two models I drop insignificant feature a.dummy variable _已婚 and b.Intereset.   \n",
    "After that I plot a residual graph of the final model. Compared to the model earlier, the line is much more smooth \n",
    "  \n",
    "   [Back to content](#0.1)"
   ]
  },
  {
   "cell_type": "code",
   "execution_count": 354,
   "id": "ddd80aca",
   "metadata": {},
   "outputs": [],
   "source": [
    "bidsIndex = bidsIndex_0"
   ]
  },
  {
   "cell_type": "markdown",
   "id": "9f4f46a9",
   "metadata": {},
   "source": [
    "**<font size=4>(1) The First Model</font>**  \n",
    "According to the note 2 in the result, I found there are some series problem in the model leading to an irregular large condition number.  \n",
    "At the same time when we plot the residual graph, the figure is not like a line,but varied among observations "
   ]
  },
  {
   "cell_type": "code",
   "execution_count": 355,
   "id": "cd3b15dc",
   "metadata": {},
   "outputs": [
    {
     "data": {
      "text/html": [
       "<table class=\"simpletable\">\n",
       "<caption>OLS Regression Results</caption>\n",
       "<tr>\n",
       "  <th>Dep. Variable:</th>          <td>BIDS</td>       <th>  R-squared:         </th> <td>   0.662</td> \n",
       "</tr>\n",
       "<tr>\n",
       "  <th>Model:</th>                   <td>OLS</td>       <th>  Adj. R-squared:    </th> <td>   0.662</td> \n",
       "</tr>\n",
       "<tr>\n",
       "  <th>Method:</th>             <td>Least Squares</td>  <th>  F-statistic:       </th> <td>   1782.</td> \n",
       "</tr>\n",
       "<tr>\n",
       "  <th>Date:</th>             <td>Fri, 24 Sep 2021</td> <th>  Prob (F-statistic):</th>  <td>  0.00</td>  \n",
       "</tr>\n",
       "<tr>\n",
       "  <th>Time:</th>                 <td>17:36:39</td>     <th>  Log-Likelihood:    </th> <td> -45978.</td> \n",
       "</tr>\n",
       "<tr>\n",
       "  <th>No. Observations:</th>      <td> 10000</td>      <th>  AIC:               </th> <td>9.198e+04</td>\n",
       "</tr>\n",
       "<tr>\n",
       "  <th>Df Residuals:</th>          <td>  9988</td>      <th>  BIC:               </th> <td>9.207e+04</td>\n",
       "</tr>\n",
       "<tr>\n",
       "  <th>Df Model:</th>              <td>    11</td>      <th>                     </th>     <td> </td>    \n",
       "</tr>\n",
       "<tr>\n",
       "  <th>Covariance Type:</th>      <td>nonrobust</td>    <th>                     </th>     <td> </td>    \n",
       "</tr>\n",
       "</table>\n",
       "<table class=\"simpletable\">\n",
       "<tr>\n",
       "        <td></td>          <th>coef</th>     <th>std err</th>      <th>t</th>      <th>P>|t|</th>  <th>[0.025</th>    <th>0.975]</th>  \n",
       "</tr>\n",
       "<tr>\n",
       "  <th>const</th>        <td>    0.2743</td> <td>    2.203</td> <td>    0.124</td> <td> 0.901</td> <td>   -4.044</td> <td>    4.593</td>\n",
       "</tr>\n",
       "<tr>\n",
       "  <th>AMOUNT</th>       <td>    0.0009</td> <td>  7.3e-06</td> <td>  117.345</td> <td> 0.000</td> <td>    0.001</td> <td>    0.001</td>\n",
       "</tr>\n",
       "<tr>\n",
       "  <th>INCOME</th>       <td>   -0.1936</td> <td>    0.212</td> <td>   -0.913</td> <td> 0.361</td> <td>   -0.609</td> <td>    0.222</td>\n",
       "</tr>\n",
       "<tr>\n",
       "  <th>AGE</th>          <td>    0.0829</td> <td>    0.044</td> <td>    1.879</td> <td> 0.060</td> <td>   -0.004</td> <td>    0.169</td>\n",
       "</tr>\n",
       "<tr>\n",
       "  <th>IND_制造业</th>      <td>    1.9705</td> <td>    0.617</td> <td>    3.196</td> <td> 0.001</td> <td>    0.762</td> <td>    3.179</td>\n",
       "</tr>\n",
       "<tr>\n",
       "  <th>CAR</th>          <td>   -0.4390</td> <td>    0.550</td> <td>   -0.798</td> <td> 0.425</td> <td>   -1.517</td> <td>    0.639</td>\n",
       "</tr>\n",
       "<tr>\n",
       "  <th>loanId</th>       <td>-5.279e-06</td> <td> 5.91e-07</td> <td>   -8.929</td> <td> 0.000</td> <td>-6.44e-06</td> <td>-4.12e-06</td>\n",
       "</tr>\n",
       "<tr>\n",
       "  <th>WORKTIME</th>     <td>    0.1738</td> <td>    0.273</td> <td>    0.636</td> <td> 0.524</td> <td>   -0.362</td> <td>    0.709</td>\n",
       "</tr>\n",
       "<tr>\n",
       "  <th>CREDIT</th>       <td>    0.1792</td> <td>    0.167</td> <td>    1.073</td> <td> 0.283</td> <td>   -0.148</td> <td>    0.507</td>\n",
       "</tr>\n",
       "<tr>\n",
       "  <th>MARRY_已婚</th>     <td>    0.3358</td> <td>    0.562</td> <td>    0.597</td> <td> 0.551</td> <td>   -0.767</td> <td>    1.438</td>\n",
       "</tr>\n",
       "<tr>\n",
       "  <th>PURPOSE_其他借款</th> <td>    9.9002</td> <td>    1.149</td> <td>    8.617</td> <td> 0.000</td> <td>    7.648</td> <td>   12.152</td>\n",
       "</tr>\n",
       "<tr>\n",
       "  <th>INTEREST</th>     <td>    0.0981</td> <td>    0.113</td> <td>    0.870</td> <td> 0.384</td> <td>   -0.123</td> <td>    0.319</td>\n",
       "</tr>\n",
       "</table>\n",
       "<table class=\"simpletable\">\n",
       "<tr>\n",
       "  <th>Omnibus:</th>       <td>6829.156</td> <th>  Durbin-Watson:     </th>  <td>   1.652</td> \n",
       "</tr>\n",
       "<tr>\n",
       "  <th>Prob(Omnibus):</th>  <td> 0.000</td>  <th>  Jarque-Bera (JB):  </th> <td>991338.826</td>\n",
       "</tr>\n",
       "<tr>\n",
       "  <th>Skew:</th>           <td> 2.351</td>  <th>  Prob(JB):          </th>  <td>    0.00</td> \n",
       "</tr>\n",
       "<tr>\n",
       "  <th>Kurtosis:</th>       <td>51.550</td>  <th>  Cond. No.          </th>  <td>5.62e+06</td> \n",
       "</tr>\n",
       "</table><br/><br/>Notes:<br/>[1] Standard Errors assume that the covariance matrix of the errors is correctly specified.<br/>[2] The condition number is large, 5.62e+06. This might indicate that there are<br/>strong multicollinearity or other numerical problems."
      ],
      "text/plain": [
       "<class 'statsmodels.iolib.summary.Summary'>\n",
       "\"\"\"\n",
       "                            OLS Regression Results                            \n",
       "==============================================================================\n",
       "Dep. Variable:                   BIDS   R-squared:                       0.662\n",
       "Model:                            OLS   Adj. R-squared:                  0.662\n",
       "Method:                 Least Squares   F-statistic:                     1782.\n",
       "Date:                Fri, 24 Sep 2021   Prob (F-statistic):               0.00\n",
       "Time:                        17:36:39   Log-Likelihood:                -45978.\n",
       "No. Observations:               10000   AIC:                         9.198e+04\n",
       "Df Residuals:                    9988   BIC:                         9.207e+04\n",
       "Df Model:                          11                                         \n",
       "Covariance Type:            nonrobust                                         \n",
       "================================================================================\n",
       "                   coef    std err          t      P>|t|      [0.025      0.975]\n",
       "--------------------------------------------------------------------------------\n",
       "const            0.2743      2.203      0.124      0.901      -4.044       4.593\n",
       "AMOUNT           0.0009    7.3e-06    117.345      0.000       0.001       0.001\n",
       "INCOME          -0.1936      0.212     -0.913      0.361      -0.609       0.222\n",
       "AGE              0.0829      0.044      1.879      0.060      -0.004       0.169\n",
       "IND_制造业          1.9705      0.617      3.196      0.001       0.762       3.179\n",
       "CAR             -0.4390      0.550     -0.798      0.425      -1.517       0.639\n",
       "loanId       -5.279e-06   5.91e-07     -8.929      0.000   -6.44e-06   -4.12e-06\n",
       "WORKTIME         0.1738      0.273      0.636      0.524      -0.362       0.709\n",
       "CREDIT           0.1792      0.167      1.073      0.283      -0.148       0.507\n",
       "MARRY_已婚         0.3358      0.562      0.597      0.551      -0.767       1.438\n",
       "PURPOSE_其他借款     9.9002      1.149      8.617      0.000       7.648      12.152\n",
       "INTEREST         0.0981      0.113      0.870      0.384      -0.123       0.319\n",
       "==============================================================================\n",
       "Omnibus:                     6829.156   Durbin-Watson:                   1.652\n",
       "Prob(Omnibus):                  0.000   Jarque-Bera (JB):           991338.826\n",
       "Skew:                           2.351   Prob(JB):                         0.00\n",
       "Kurtosis:                      51.550   Cond. No.                     5.62e+06\n",
       "==============================================================================\n",
       "\n",
       "Notes:\n",
       "[1] Standard Errors assume that the covariance matrix of the errors is correctly specified.\n",
       "[2] The condition number is large, 5.62e+06. This might indicate that there are\n",
       "strong multicollinearity or other numerical problems.\n",
       "\"\"\""
      ]
     },
     "execution_count": 355,
     "metadata": {},
     "output_type": "execute_result"
    }
   ],
   "source": [
    "X = data_2[bidsIndex]\n",
    "Y = data_2[\"BIDS\"]\n",
    "X = sm.add_constant(X)\n",
    "model = sm.OLS(Y,X)\n",
    "result_ols = model.fit()\n",
    "result_ols.summary()"
   ]
  },
  {
   "cell_type": "code",
   "execution_count": 356,
   "id": "2b6f92af",
   "metadata": {},
   "outputs": [
    {
     "data": {
      "text/plain": [
       "[<matplotlib.lines.Line2D at 0x1de84d0fca0>]"
      ]
     },
     "execution_count": 356,
     "metadata": {},
     "output_type": "execute_result"
    },
    {
     "data": {
      "text/plain": [
       "[<matplotlib.lines.Line2D at 0x1de84d1d100>]"
      ]
     },
     "execution_count": 356,
     "metadata": {},
     "output_type": "execute_result"
    },
    {
     "data": {
      "text/plain": [
       "<matplotlib.legend.Legend at 0x1de84d0fee0>"
      ]
     },
     "execution_count": 356,
     "metadata": {},
     "output_type": "execute_result"
    },
    {
     "data": {
      "image/png": "[encoded data removed]",
      "text/plain": [
       "<Figure size 576x432 with 1 Axes>"
      ]
     },
     "metadata": {
      "needs_background": "light"
     },
     "output_type": "display_data"
    }
   ],
   "source": [
    "x = np.linspace(0,1000,len(Y))\n",
    "y_fitted = result_ols.fittedvalues\n",
    "res = Y - y_fitted\n",
    "res = (res-res.mean())/res.std()\n",
    "fig, ax = plt.subplots(figsize=(8,6))\n",
    "ax.plot(x, Y, 'o', label='data')\n",
    "ax.plot(x, res, 'r--.',label='OLS')\n",
    "ax.legend(loc='best')"
   ]
  },
  {
   "cell_type": "markdown",
   "id": "68f66397",
   "metadata": {},
   "source": [
    "**<font size=4>(2) The Second Model</font>**  \n",
    "Based on the tips I assume there is multicollinearity in the model, and based on the correlation test I have done, I have already removed close features. However I keep one feature AMOUNT which is highly related(0.809) to BIDS. I assume it is the reason causing the problem, and it is also rational that there is mullticollinearity between amount and bids from life experience. Since the amount is a result of bids  \n",
    "\n",
    "The result is a little better, but it still involve a large condition number. "
   ]
  },
  {
   "cell_type": "code",
   "execution_count": 342,
   "id": "4a9ef0cd",
   "metadata": {},
   "outputs": [
    {
     "data": {
      "text/plain": [
       "Index(['INCOME', 'AGE', 'IND_制造业', 'CAR', 'loanId', 'WORKTIME', 'CREDIT',\n",
       "       'MARRY_已婚', 'PURPOSE_其他借款', 'INTEREST'],\n",
       "      dtype='object')"
      ]
     },
     "execution_count": 342,
     "metadata": {},
     "output_type": "execute_result"
    }
   ],
   "source": [
    "bidsIndex = bidsIndex_0\n",
    "bidsIndex = bidsIndex.drop(['AMOUNT'])\n",
    "bidsIndex"
   ]
  },
  {
   "cell_type": "code",
   "execution_count": 343,
   "id": "8ff0295e",
   "metadata": {},
   "outputs": [
    {
     "data": {
      "text/html": [
       "<table class=\"simpletable\">\n",
       "<caption>OLS Regression Results</caption>\n",
       "<tr>\n",
       "  <th>Dep. Variable:</th>          <td>BIDS</td>       <th>  R-squared:         </th> <td>   0.197</td> \n",
       "</tr>\n",
       "<tr>\n",
       "  <th>Model:</th>                   <td>OLS</td>       <th>  Adj. R-squared:    </th> <td>   0.196</td> \n",
       "</tr>\n",
       "<tr>\n",
       "  <th>Method:</th>             <td>Least Squares</td>  <th>  F-statistic:       </th> <td>   245.2</td> \n",
       "</tr>\n",
       "<tr>\n",
       "  <th>Date:</th>             <td>Fri, 24 Sep 2021</td> <th>  Prob (F-statistic):</th>  <td>  0.00</td>  \n",
       "</tr>\n",
       "<tr>\n",
       "  <th>Time:</th>                 <td>17:31:21</td>     <th>  Log-Likelihood:    </th> <td> -50310.</td> \n",
       "</tr>\n",
       "<tr>\n",
       "  <th>No. Observations:</th>      <td> 10000</td>      <th>  AIC:               </th> <td>1.006e+05</td>\n",
       "</tr>\n",
       "<tr>\n",
       "  <th>Df Residuals:</th>          <td>  9989</td>      <th>  BIC:               </th> <td>1.007e+05</td>\n",
       "</tr>\n",
       "<tr>\n",
       "  <th>Df Model:</th>              <td>    10</td>      <th>                     </th>     <td> </td>    \n",
       "</tr>\n",
       "<tr>\n",
       "  <th>Covariance Type:</th>      <td>nonrobust</td>    <th>                     </th>     <td> </td>    \n",
       "</tr>\n",
       "</table>\n",
       "<table class=\"simpletable\">\n",
       "<tr>\n",
       "        <td></td>          <th>coef</th>     <th>std err</th>      <th>t</th>      <th>P>|t|</th>  <th>[0.025</th>    <th>0.975]</th>  \n",
       "</tr>\n",
       "<tr>\n",
       "  <th>const</th>        <td>  -67.3928</td> <td>    3.279</td> <td>  -20.552</td> <td> 0.000</td> <td>  -73.821</td> <td>  -60.965</td>\n",
       "</tr>\n",
       "<tr>\n",
       "  <th>INCOME</th>       <td>    8.7481</td> <td>    0.305</td> <td>   28.667</td> <td> 0.000</td> <td>    8.150</td> <td>    9.346</td>\n",
       "</tr>\n",
       "<tr>\n",
       "  <th>AGE</th>          <td>    0.7695</td> <td>    0.067</td> <td>   11.418</td> <td> 0.000</td> <td>    0.637</td> <td>    0.902</td>\n",
       "</tr>\n",
       "<tr>\n",
       "  <th>IND_制造业</th>      <td>   14.3086</td> <td>    0.937</td> <td>   15.273</td> <td> 0.000</td> <td>   12.472</td> <td>   16.145</td>\n",
       "</tr>\n",
       "<tr>\n",
       "  <th>CAR</th>          <td>    3.1661</td> <td>    0.847</td> <td>    3.738</td> <td> 0.000</td> <td>    1.506</td> <td>    4.826</td>\n",
       "</tr>\n",
       "<tr>\n",
       "  <th>loanId</th>       <td>-3.323e-06</td> <td> 9.11e-07</td> <td>   -3.646</td> <td> 0.000</td> <td>-5.11e-06</td> <td>-1.54e-06</td>\n",
       "</tr>\n",
       "<tr>\n",
       "  <th>WORKTIME</th>     <td>    2.2428</td> <td>    0.420</td> <td>    5.336</td> <td> 0.000</td> <td>    1.419</td> <td>    3.067</td>\n",
       "</tr>\n",
       "<tr>\n",
       "  <th>CREDIT</th>       <td>    1.4875</td> <td>    0.257</td> <td>    5.788</td> <td> 0.000</td> <td>    0.984</td> <td>    1.991</td>\n",
       "</tr>\n",
       "<tr>\n",
       "  <th>MARRY_已婚</th>     <td>   -1.8969</td> <td>    0.867</td> <td>   -2.188</td> <td> 0.029</td> <td>   -3.596</td> <td>   -0.197</td>\n",
       "</tr>\n",
       "<tr>\n",
       "  <th>PURPOSE_其他借款</th> <td>   14.3378</td> <td>    1.771</td> <td>    8.096</td> <td> 0.000</td> <td>   10.866</td> <td>   17.809</td>\n",
       "</tr>\n",
       "<tr>\n",
       "  <th>INTEREST</th>     <td>    1.2182</td> <td>    0.173</td> <td>    7.032</td> <td> 0.000</td> <td>    0.879</td> <td>    1.558</td>\n",
       "</tr>\n",
       "</table>\n",
       "<table class=\"simpletable\">\n",
       "<tr>\n",
       "  <th>Omnibus:</th>       <td>11478.210</td> <th>  Durbin-Watson:     </th>  <td>   1.772</td>  \n",
       "</tr>\n",
       "<tr>\n",
       "  <th>Prob(Omnibus):</th>  <td> 0.000</td>   <th>  Jarque-Bera (JB):  </th> <td>1254822.334</td>\n",
       "</tr>\n",
       "<tr>\n",
       "  <th>Skew:</th>           <td> 6.011</td>   <th>  Prob(JB):          </th>  <td>    0.00</td>  \n",
       "</tr>\n",
       "<tr>\n",
       "  <th>Kurtosis:</th>       <td>56.545</td>   <th>  Cond. No.          </th>  <td>5.43e+06</td>  \n",
       "</tr>\n",
       "</table><br/><br/>Notes:<br/>[1] Standard Errors assume that the covariance matrix of the errors is correctly specified.<br/>[2] The condition number is large, 5.43e+06. This might indicate that there are<br/>strong multicollinearity or other numerical problems."
      ],
      "text/plain": [
       "<class 'statsmodels.iolib.summary.Summary'>\n",
       "\"\"\"\n",
       "                            OLS Regression Results                            \n",
       "==============================================================================\n",
       "Dep. Variable:                   BIDS   R-squared:                       0.197\n",
       "Model:                            OLS   Adj. R-squared:                  0.196\n",
       "Method:                 Least Squares   F-statistic:                     245.2\n",
       "Date:                Fri, 24 Sep 2021   Prob (F-statistic):               0.00\n",
       "Time:                        17:31:21   Log-Likelihood:                -50310.\n",
       "No. Observations:               10000   AIC:                         1.006e+05\n",
       "Df Residuals:                    9989   BIC:                         1.007e+05\n",
       "Df Model:                          10                                         \n",
       "Covariance Type:            nonrobust                                         \n",
       "================================================================================\n",
       "                   coef    std err          t      P>|t|      [0.025      0.975]\n",
       "--------------------------------------------------------------------------------\n",
       "const          -67.3928      3.279    -20.552      0.000     -73.821     -60.965\n",
       "INCOME           8.7481      0.305     28.667      0.000       8.150       9.346\n",
       "AGE              0.7695      0.067     11.418      0.000       0.637       0.902\n",
       "IND_制造业         14.3086      0.937     15.273      0.000      12.472      16.145\n",
       "CAR              3.1661      0.847      3.738      0.000       1.506       4.826\n",
       "loanId       -3.323e-06   9.11e-07     -3.646      0.000   -5.11e-06   -1.54e-06\n",
       "WORKTIME         2.2428      0.420      5.336      0.000       1.419       3.067\n",
       "CREDIT           1.4875      0.257      5.788      0.000       0.984       1.991\n",
       "MARRY_已婚        -1.8969      0.867     -2.188      0.029      -3.596      -0.197\n",
       "PURPOSE_其他借款    14.3378      1.771      8.096      0.000      10.866      17.809\n",
       "INTEREST         1.2182      0.173      7.032      0.000       0.879       1.558\n",
       "==============================================================================\n",
       "Omnibus:                    11478.210   Durbin-Watson:                   1.772\n",
       "Prob(Omnibus):                  0.000   Jarque-Bera (JB):          1254822.334\n",
       "Skew:                           6.011   Prob(JB):                         0.00\n",
       "Kurtosis:                      56.545   Cond. No.                     5.43e+06\n",
       "==============================================================================\n",
       "\n",
       "Notes:\n",
       "[1] Standard Errors assume that the covariance matrix of the errors is correctly specified.\n",
       "[2] The condition number is large, 5.43e+06. This might indicate that there are\n",
       "strong multicollinearity or other numerical problems.\n",
       "\"\"\""
      ]
     },
     "execution_count": 343,
     "metadata": {},
     "output_type": "execute_result"
    }
   ],
   "source": [
    "X = data_2[bidsIndex]\n",
    "Y = data_2[\"BIDS\"]\n",
    "X = sm.add_constant(X)\n",
    "model = sm.OLS(Y,X)\n",
    "result_ols = model.fit()\n",
    "result_ols.summary()"
   ]
  },
  {
   "cell_type": "markdown",
   "id": "242bda19",
   "metadata": {},
   "source": [
    "**<font size=4>(3) The Third Model</font>**  \n",
    "Since there is still a same problem, I assume its cause is another issue-numerical problem. When I look up to the data statistc of the features, I found the feature loan Id is make up of significantly large number compared to other features. And it should not be a explainable based on life experience, so I simply drop it.  \n",
    "Finally we get model no longer report a large condition number.   "
   ]
  },
  {
   "cell_type": "code",
   "execution_count": 344,
   "id": "2a57a478",
   "metadata": {},
   "outputs": [
    {
     "data": {
      "text/plain": [
       "Index(['INCOME', 'AGE', 'IND_制造业', 'CAR', 'WORKTIME', 'CREDIT', 'MARRY_已婚',\n",
       "       'PURPOSE_其他借款', 'INTEREST'],\n",
       "      dtype='object')"
      ]
     },
     "execution_count": 344,
     "metadata": {},
     "output_type": "execute_result"
    }
   ],
   "source": [
    "bidsIndex = bidsIndex_0\n",
    "bidsIndex = bidsIndex.drop(['AMOUNT',\"loanId\"])\n",
    "bidsIndex"
   ]
  },
  {
   "cell_type": "code",
   "execution_count": 345,
   "id": "c515d2cf",
   "metadata": {
    "scrolled": false
   },
   "outputs": [
    {
     "data": {
      "text/html": [
       "<table class=\"simpletable\">\n",
       "<caption>OLS Regression Results</caption>\n",
       "<tr>\n",
       "  <th>Dep. Variable:</th>          <td>BIDS</td>       <th>  R-squared:         </th> <td>   0.196</td> \n",
       "</tr>\n",
       "<tr>\n",
       "  <th>Model:</th>                   <td>OLS</td>       <th>  Adj. R-squared:    </th> <td>   0.195</td> \n",
       "</tr>\n",
       "<tr>\n",
       "  <th>Method:</th>             <td>Least Squares</td>  <th>  F-statistic:       </th> <td>   270.6</td> \n",
       "</tr>\n",
       "<tr>\n",
       "  <th>Date:</th>             <td>Fri, 24 Sep 2021</td> <th>  Prob (F-statistic):</th>  <td>  0.00</td>  \n",
       "</tr>\n",
       "<tr>\n",
       "  <th>Time:</th>                 <td>17:32:29</td>     <th>  Log-Likelihood:    </th> <td> -50317.</td> \n",
       "</tr>\n",
       "<tr>\n",
       "  <th>No. Observations:</th>      <td> 10000</td>      <th>  AIC:               </th> <td>1.007e+05</td>\n",
       "</tr>\n",
       "<tr>\n",
       "  <th>Df Residuals:</th>          <td>  9990</td>      <th>  BIC:               </th> <td>1.007e+05</td>\n",
       "</tr>\n",
       "<tr>\n",
       "  <th>Df Model:</th>              <td>     9</td>      <th>                     </th>     <td> </td>    \n",
       "</tr>\n",
       "<tr>\n",
       "  <th>Covariance Type:</th>      <td>nonrobust</td>    <th>                     </th>     <td> </td>    \n",
       "</tr>\n",
       "</table>\n",
       "<table class=\"simpletable\">\n",
       "<tr>\n",
       "        <td></td>          <th>coef</th>     <th>std err</th>      <th>t</th>      <th>P>|t|</th>  <th>[0.025</th>    <th>0.975]</th>  \n",
       "</tr>\n",
       "<tr>\n",
       "  <th>const</th>        <td>  -72.8437</td> <td>    2.920</td> <td>  -24.945</td> <td> 0.000</td> <td>  -78.568</td> <td>  -67.120</td>\n",
       "</tr>\n",
       "<tr>\n",
       "  <th>INCOME</th>       <td>    8.8799</td> <td>    0.303</td> <td>   29.288</td> <td> 0.000</td> <td>    8.286</td> <td>    9.474</td>\n",
       "</tr>\n",
       "<tr>\n",
       "  <th>AGE</th>          <td>    0.7974</td> <td>    0.067</td> <td>   11.902</td> <td> 0.000</td> <td>    0.666</td> <td>    0.929</td>\n",
       "</tr>\n",
       "<tr>\n",
       "  <th>IND_制造业</th>      <td>   14.3857</td> <td>    0.937</td> <td>   15.350</td> <td> 0.000</td> <td>   12.549</td> <td>   16.223</td>\n",
       "</tr>\n",
       "<tr>\n",
       "  <th>CAR</th>          <td>    3.2746</td> <td>    0.847</td> <td>    3.866</td> <td> 0.000</td> <td>    1.614</td> <td>    4.935</td>\n",
       "</tr>\n",
       "<tr>\n",
       "  <th>WORKTIME</th>     <td>    2.1242</td> <td>    0.419</td> <td>    5.066</td> <td> 0.000</td> <td>    1.302</td> <td>    2.946</td>\n",
       "</tr>\n",
       "<tr>\n",
       "  <th>CREDIT</th>       <td>    1.6431</td> <td>    0.254</td> <td>    6.479</td> <td> 0.000</td> <td>    1.146</td> <td>    2.140</td>\n",
       "</tr>\n",
       "<tr>\n",
       "  <th>MARRY_已婚</th>     <td>   -1.8746</td> <td>    0.867</td> <td>   -2.161</td> <td> 0.031</td> <td>   -3.575</td> <td>   -0.174</td>\n",
       "</tr>\n",
       "<tr>\n",
       "  <th>PURPOSE_其他借款</th> <td>   14.7318</td> <td>    1.769</td> <td>    8.329</td> <td> 0.000</td> <td>   11.265</td> <td>   18.199</td>\n",
       "</tr>\n",
       "<tr>\n",
       "  <th>INTEREST</th>     <td>    1.4109</td> <td>    0.165</td> <td>    8.547</td> <td> 0.000</td> <td>    1.087</td> <td>    1.735</td>\n",
       "</tr>\n",
       "</table>\n",
       "<table class=\"simpletable\">\n",
       "<tr>\n",
       "  <th>Omnibus:</th>       <td>11478.053</td> <th>  Durbin-Watson:     </th>  <td>   1.775</td>  \n",
       "</tr>\n",
       "<tr>\n",
       "  <th>Prob(Omnibus):</th>  <td> 0.000</td>   <th>  Jarque-Bera (JB):  </th> <td>1253172.136</td>\n",
       "</tr>\n",
       "<tr>\n",
       "  <th>Skew:</th>           <td> 6.012</td>   <th>  Prob(JB):          </th>  <td>    0.00</td>  \n",
       "</tr>\n",
       "<tr>\n",
       "  <th>Kurtosis:</th>       <td>56.507</td>   <th>  Cond. No.          </th>  <td>    300.</td>  \n",
       "</tr>\n",
       "</table><br/><br/>Notes:<br/>[1] Standard Errors assume that the covariance matrix of the errors is correctly specified."
      ],
      "text/plain": [
       "<class 'statsmodels.iolib.summary.Summary'>\n",
       "\"\"\"\n",
       "                            OLS Regression Results                            \n",
       "==============================================================================\n",
       "Dep. Variable:                   BIDS   R-squared:                       0.196\n",
       "Model:                            OLS   Adj. R-squared:                  0.195\n",
       "Method:                 Least Squares   F-statistic:                     270.6\n",
       "Date:                Fri, 24 Sep 2021   Prob (F-statistic):               0.00\n",
       "Time:                        17:32:29   Log-Likelihood:                -50317.\n",
       "No. Observations:               10000   AIC:                         1.007e+05\n",
       "Df Residuals:                    9990   BIC:                         1.007e+05\n",
       "Df Model:                           9                                         \n",
       "Covariance Type:            nonrobust                                         \n",
       "================================================================================\n",
       "                   coef    std err          t      P>|t|      [0.025      0.975]\n",
       "--------------------------------------------------------------------------------\n",
       "const          -72.8437      2.920    -24.945      0.000     -78.568     -67.120\n",
       "INCOME           8.8799      0.303     29.288      0.000       8.286       9.474\n",
       "AGE              0.7974      0.067     11.902      0.000       0.666       0.929\n",
       "IND_制造业         14.3857      0.937     15.350      0.000      12.549      16.223\n",
       "CAR              3.2746      0.847      3.866      0.000       1.614       4.935\n",
       "WORKTIME         2.1242      0.419      5.066      0.000       1.302       2.946\n",
       "CREDIT           1.6431      0.254      6.479      0.000       1.146       2.140\n",
       "MARRY_已婚        -1.8746      0.867     -2.161      0.031      -3.575      -0.174\n",
       "PURPOSE_其他借款    14.7318      1.769      8.329      0.000      11.265      18.199\n",
       "INTEREST         1.4109      0.165      8.547      0.000       1.087       1.735\n",
       "==============================================================================\n",
       "Omnibus:                    11478.053   Durbin-Watson:                   1.775\n",
       "Prob(Omnibus):                  0.000   Jarque-Bera (JB):          1253172.136\n",
       "Skew:                           6.012   Prob(JB):                         0.00\n",
       "Kurtosis:                      56.507   Cond. No.                         300.\n",
       "==============================================================================\n",
       "\n",
       "Notes:\n",
       "[1] Standard Errors assume that the covariance matrix of the errors is correctly specified.\n",
       "\"\"\""
      ]
     },
     "execution_count": 345,
     "metadata": {},
     "output_type": "execute_result"
    }
   ],
   "source": [
    "X = data_2[bidsIndex]\n",
    "Y = data_2[\"BIDS\"]\n",
    "X = sm.add_constant(X)\n",
    "model = sm.OLS(Y,X)\n",
    "result_ols = model.fit()\n",
    "result_ols.summary()"
   ]
  },
  {
   "cell_type": "markdown",
   "id": "10782a2c",
   "metadata": {},
   "source": [
    "**<font size=4>(4) The Fourth Model</font>**  \n",
    "In these two models I drop insignificant feature a.dummy variable _已婚"
   ]
  },
  {
   "cell_type": "code",
   "execution_count": 346,
   "id": "3c59d075",
   "metadata": {},
   "outputs": [
    {
     "data": {
      "text/plain": [
       "Index(['INCOME', 'AGE', 'IND_制造业', 'CAR', 'WORKTIME', 'CREDIT', 'PURPOSE_其他借款',\n",
       "       'INTEREST'],\n",
       "      dtype='object')"
      ]
     },
     "execution_count": 346,
     "metadata": {},
     "output_type": "execute_result"
    }
   ],
   "source": [
    "bidsIndex = bidsIndex_0\n",
    "bidsIndex = bidsIndex.drop(['AMOUNT',\"loanId\",\"MARRY_已婚\"])\n",
    "bidsIndex"
   ]
  },
  {
   "cell_type": "code",
   "execution_count": 347,
   "id": "3705f5fa",
   "metadata": {
    "scrolled": false
   },
   "outputs": [
    {
     "data": {
      "text/html": [
       "<table class=\"simpletable\">\n",
       "<caption>OLS Regression Results</caption>\n",
       "<tr>\n",
       "  <th>Dep. Variable:</th>          <td>BIDS</td>       <th>  R-squared:         </th> <td>   0.196</td> \n",
       "</tr>\n",
       "<tr>\n",
       "  <th>Model:</th>                   <td>OLS</td>       <th>  Adj. R-squared:    </th> <td>   0.195</td> \n",
       "</tr>\n",
       "<tr>\n",
       "  <th>Method:</th>             <td>Least Squares</td>  <th>  F-statistic:       </th> <td>   303.7</td> \n",
       "</tr>\n",
       "<tr>\n",
       "  <th>Date:</th>             <td>Fri, 24 Sep 2021</td> <th>  Prob (F-statistic):</th>  <td>  0.00</td>  \n",
       "</tr>\n",
       "<tr>\n",
       "  <th>Time:</th>                 <td>17:33:21</td>     <th>  Log-Likelihood:    </th> <td> -50319.</td> \n",
       "</tr>\n",
       "<tr>\n",
       "  <th>No. Observations:</th>      <td> 10000</td>      <th>  AIC:               </th> <td>1.007e+05</td>\n",
       "</tr>\n",
       "<tr>\n",
       "  <th>Df Residuals:</th>          <td>  9991</td>      <th>  BIC:               </th> <td>1.007e+05</td>\n",
       "</tr>\n",
       "<tr>\n",
       "  <th>Df Model:</th>              <td>     8</td>      <th>                     </th>     <td> </td>    \n",
       "</tr>\n",
       "<tr>\n",
       "  <th>Covariance Type:</th>      <td>nonrobust</td>    <th>                     </th>     <td> </td>    \n",
       "</tr>\n",
       "</table>\n",
       "<table class=\"simpletable\">\n",
       "<tr>\n",
       "        <td></td>          <th>coef</th>     <th>std err</th>      <th>t</th>      <th>P>|t|</th>  <th>[0.025</th>    <th>0.975]</th>  \n",
       "</tr>\n",
       "<tr>\n",
       "  <th>const</th>        <td>  -72.1526</td> <td>    2.903</td> <td>  -24.853</td> <td> 0.000</td> <td>  -77.844</td> <td>  -66.462</td>\n",
       "</tr>\n",
       "<tr>\n",
       "  <th>INCOME</th>       <td>    8.8659</td> <td>    0.303</td> <td>   29.243</td> <td> 0.000</td> <td>    8.272</td> <td>    9.460</td>\n",
       "</tr>\n",
       "<tr>\n",
       "  <th>AGE</th>          <td>    0.7574</td> <td>    0.064</td> <td>   11.761</td> <td> 0.000</td> <td>    0.631</td> <td>    0.884</td>\n",
       "</tr>\n",
       "<tr>\n",
       "  <th>IND_制造业</th>      <td>   14.3604</td> <td>    0.937</td> <td>   15.321</td> <td> 0.000</td> <td>   12.523</td> <td>   16.198</td>\n",
       "</tr>\n",
       "<tr>\n",
       "  <th>CAR</th>          <td>    2.9475</td> <td>    0.834</td> <td>    3.536</td> <td> 0.000</td> <td>    1.314</td> <td>    4.581</td>\n",
       "</tr>\n",
       "<tr>\n",
       "  <th>WORKTIME</th>     <td>    2.0321</td> <td>    0.417</td> <td>    4.871</td> <td> 0.000</td> <td>    1.214</td> <td>    2.850</td>\n",
       "</tr>\n",
       "<tr>\n",
       "  <th>CREDIT</th>       <td>    1.6029</td> <td>    0.253</td> <td>    6.336</td> <td> 0.000</td> <td>    1.107</td> <td>    2.099</td>\n",
       "</tr>\n",
       "<tr>\n",
       "  <th>PURPOSE_其他借款</th> <td>   14.7556</td> <td>    1.769</td> <td>    8.341</td> <td> 0.000</td> <td>   11.288</td> <td>   18.223</td>\n",
       "</tr>\n",
       "<tr>\n",
       "  <th>INTEREST</th>     <td>    1.4143</td> <td>    0.165</td> <td>    8.566</td> <td> 0.000</td> <td>    1.091</td> <td>    1.738</td>\n",
       "</tr>\n",
       "</table>\n",
       "<table class=\"simpletable\">\n",
       "<tr>\n",
       "  <th>Omnibus:</th>       <td>11480.291</td> <th>  Durbin-Watson:     </th>  <td>   1.774</td>  \n",
       "</tr>\n",
       "<tr>\n",
       "  <th>Prob(Omnibus):</th>  <td> 0.000</td>   <th>  Jarque-Bera (JB):  </th> <td>1253186.560</td>\n",
       "</tr>\n",
       "<tr>\n",
       "  <th>Skew:</th>           <td> 6.014</td>   <th>  Prob(JB):          </th>  <td>    0.00</td>  \n",
       "</tr>\n",
       "<tr>\n",
       "  <th>Kurtosis:</th>       <td>56.507</td>   <th>  Cond. No.          </th>  <td>    298.</td>  \n",
       "</tr>\n",
       "</table><br/><br/>Notes:<br/>[1] Standard Errors assume that the covariance matrix of the errors is correctly specified."
      ],
      "text/plain": [
       "<class 'statsmodels.iolib.summary.Summary'>\n",
       "\"\"\"\n",
       "                            OLS Regression Results                            \n",
       "==============================================================================\n",
       "Dep. Variable:                   BIDS   R-squared:                       0.196\n",
       "Model:                            OLS   Adj. R-squared:                  0.195\n",
       "Method:                 Least Squares   F-statistic:                     303.7\n",
       "Date:                Fri, 24 Sep 2021   Prob (F-statistic):               0.00\n",
       "Time:                        17:33:21   Log-Likelihood:                -50319.\n",
       "No. Observations:               10000   AIC:                         1.007e+05\n",
       "Df Residuals:                    9991   BIC:                         1.007e+05\n",
       "Df Model:                           8                                         \n",
       "Covariance Type:            nonrobust                                         \n",
       "================================================================================\n",
       "                   coef    std err          t      P>|t|      [0.025      0.975]\n",
       "--------------------------------------------------------------------------------\n",
       "const          -72.1526      2.903    -24.853      0.000     -77.844     -66.462\n",
       "INCOME           8.8659      0.303     29.243      0.000       8.272       9.460\n",
       "AGE              0.7574      0.064     11.761      0.000       0.631       0.884\n",
       "IND_制造业         14.3604      0.937     15.321      0.000      12.523      16.198\n",
       "CAR              2.9475      0.834      3.536      0.000       1.314       4.581\n",
       "WORKTIME         2.0321      0.417      4.871      0.000       1.214       2.850\n",
       "CREDIT           1.6029      0.253      6.336      0.000       1.107       2.099\n",
       "PURPOSE_其他借款    14.7556      1.769      8.341      0.000      11.288      18.223\n",
       "INTEREST         1.4143      0.165      8.566      0.000       1.091       1.738\n",
       "==============================================================================\n",
       "Omnibus:                    11480.291   Durbin-Watson:                   1.774\n",
       "Prob(Omnibus):                  0.000   Jarque-Bera (JB):          1253186.560\n",
       "Skew:                           6.014   Prob(JB):                         0.00\n",
       "Kurtosis:                      56.507   Cond. No.                         298.\n",
       "==============================================================================\n",
       "\n",
       "Notes:\n",
       "[1] Standard Errors assume that the covariance matrix of the errors is correctly specified.\n",
       "\"\"\""
      ]
     },
     "execution_count": 347,
     "metadata": {},
     "output_type": "execute_result"
    }
   ],
   "source": [
    "X = data_2[bidsIndex]\n",
    "Y = data_2[\"BIDS\"]\n",
    "X = sm.add_constant(X)\n",
    "model = sm.OLS(Y,X)\n",
    "result_ols = model.fit()\n",
    "result_ols.summary()"
   ]
  },
  {
   "cell_type": "code",
   "execution_count": 348,
   "id": "f92308e1",
   "metadata": {},
   "outputs": [
    {
     "data": {
      "text/plain": [
       "[<matplotlib.lines.Line2D at 0x1de84c15400>]"
      ]
     },
     "execution_count": 348,
     "metadata": {},
     "output_type": "execute_result"
    },
    {
     "data": {
      "text/plain": [
       "[<matplotlib.lines.Line2D at 0x1de84c15820>]"
      ]
     },
     "execution_count": 348,
     "metadata": {},
     "output_type": "execute_result"
    },
    {
     "data": {
      "text/plain": [
       "<matplotlib.legend.Legend at 0x1de84c15640>"
      ]
     },
     "execution_count": 348,
     "metadata": {},
     "output_type": "execute_result"
    },
    {
     "data": {
      "image/png": "[encoded data removed]",
      "text/plain": [
       "<Figure size 576x432 with 1 Axes>"
      ]
     },
     "metadata": {
      "needs_background": "light"
     },
     "output_type": "display_data"
    }
   ],
   "source": [
    "x = np.linspace(0,1000,len(Y))\n",
    "y_fitted = result_ols.fittedvalues\n",
    "res = Y - y_fitted\n",
    "res = (res-res.mean())/res.std()\n",
    "fig, ax = plt.subplots(figsize=(8,6))\n",
    "ax.plot(x, Y, 'o', label='data')\n",
    "ax.plot(x, res, 'r--.',label='OLS')\n",
    "ax.legend(loc='best')"
   ]
  },
  {
   "cell_type": "markdown",
   "id": "c7765e37",
   "metadata": {},
   "source": [
    "**<font size=3>(5) The Fifth Model</font>**  \n",
    "\n",
    "In these two models I drop insignificant feature Intereset.   \n",
    "After that I plot a residual graph of the final model. Compared to the model earlier, the line is much more smooth "
   ]
  },
  {
   "cell_type": "code",
   "execution_count": 350,
   "id": "2212363c",
   "metadata": {},
   "outputs": [
    {
     "data": {
      "text/plain": [
       "Index(['INCOME', 'AGE', 'IND_制造业', 'CAR', 'WORKTIME', 'CREDIT',\n",
       "       'PURPOSE_其他借款'],\n",
       "      dtype='object')"
      ]
     },
     "execution_count": 350,
     "metadata": {},
     "output_type": "execute_result"
    }
   ],
   "source": [
    "bidsIndex = bidsIndex_0\n",
    "bidsIndex = bidsIndex.drop(['AMOUNT',\"loanId\",\"MARRY_已婚\",\"INTEREST\"])\n",
    "bidsIndex"
   ]
  },
  {
   "cell_type": "code",
   "execution_count": 351,
   "id": "bed73e15",
   "metadata": {},
   "outputs": [
    {
     "data": {
      "text/html": [
       "<table class=\"simpletable\">\n",
       "<caption>OLS Regression Results</caption>\n",
       "<tr>\n",
       "  <th>Dep. Variable:</th>          <td>BIDS</td>       <th>  R-squared:         </th> <td>   0.190</td> \n",
       "</tr>\n",
       "<tr>\n",
       "  <th>Model:</th>                   <td>OLS</td>       <th>  Adj. R-squared:    </th> <td>   0.189</td> \n",
       "</tr>\n",
       "<tr>\n",
       "  <th>Method:</th>             <td>Least Squares</td>  <th>  F-statistic:       </th> <td>   334.2</td> \n",
       "</tr>\n",
       "<tr>\n",
       "  <th>Date:</th>             <td>Fri, 24 Sep 2021</td> <th>  Prob (F-statistic):</th>  <td>  0.00</td>  \n",
       "</tr>\n",
       "<tr>\n",
       "  <th>Time:</th>                 <td>17:35:44</td>     <th>  Log-Likelihood:    </th> <td> -50356.</td> \n",
       "</tr>\n",
       "<tr>\n",
       "  <th>No. Observations:</th>      <td> 10000</td>      <th>  AIC:               </th> <td>1.007e+05</td>\n",
       "</tr>\n",
       "<tr>\n",
       "  <th>Df Residuals:</th>          <td>  9992</td>      <th>  BIC:               </th> <td>1.008e+05</td>\n",
       "</tr>\n",
       "<tr>\n",
       "  <th>Df Model:</th>              <td>     7</td>      <th>                     </th>     <td> </td>    \n",
       "</tr>\n",
       "<tr>\n",
       "  <th>Covariance Type:</th>      <td>nonrobust</td>    <th>                     </th>     <td> </td>    \n",
       "</tr>\n",
       "</table>\n",
       "<table class=\"simpletable\">\n",
       "<tr>\n",
       "        <td></td>          <th>coef</th>     <th>std err</th>      <th>t</th>      <th>P>|t|</th>  <th>[0.025</th>    <th>0.975]</th>  \n",
       "</tr>\n",
       "<tr>\n",
       "  <th>const</th>        <td>  -55.6554</td> <td>    2.180</td> <td>  -25.527</td> <td> 0.000</td> <td>  -59.929</td> <td>  -51.382</td>\n",
       "</tr>\n",
       "<tr>\n",
       "  <th>INCOME</th>       <td>    8.8782</td> <td>    0.304</td> <td>   29.178</td> <td> 0.000</td> <td>    8.282</td> <td>    9.475</td>\n",
       "</tr>\n",
       "<tr>\n",
       "  <th>AGE</th>          <td>    0.8132</td> <td>    0.064</td> <td>   12.647</td> <td> 0.000</td> <td>    0.687</td> <td>    0.939</td>\n",
       "</tr>\n",
       "<tr>\n",
       "  <th>IND_制造业</th>      <td>   14.8213</td> <td>    0.939</td> <td>   15.782</td> <td> 0.000</td> <td>   12.980</td> <td>   16.662</td>\n",
       "</tr>\n",
       "<tr>\n",
       "  <th>CAR</th>          <td>    2.6880</td> <td>    0.836</td> <td>    3.215</td> <td> 0.001</td> <td>    1.049</td> <td>    4.327</td>\n",
       "</tr>\n",
       "<tr>\n",
       "  <th>WORKTIME</th>     <td>    1.9524</td> <td>    0.419</td> <td>    4.664</td> <td> 0.000</td> <td>    1.132</td> <td>    2.773</td>\n",
       "</tr>\n",
       "<tr>\n",
       "  <th>CREDIT</th>       <td>    1.4124</td> <td>    0.253</td> <td>    5.585</td> <td> 0.000</td> <td>    0.917</td> <td>    1.908</td>\n",
       "</tr>\n",
       "<tr>\n",
       "  <th>PURPOSE_其他借款</th> <td>   14.8417</td> <td>    1.775</td> <td>    8.360</td> <td> 0.000</td> <td>   11.362</td> <td>   18.322</td>\n",
       "</tr>\n",
       "</table>\n",
       "<table class=\"simpletable\">\n",
       "<tr>\n",
       "  <th>Omnibus:</th>       <td>11562.235</td> <th>  Durbin-Watson:     </th>  <td>   1.756</td>  \n",
       "</tr>\n",
       "<tr>\n",
       "  <th>Prob(Omnibus):</th>  <td> 0.000</td>   <th>  Jarque-Bera (JB):  </th> <td>1281987.443</td>\n",
       "</tr>\n",
       "<tr>\n",
       "  <th>Skew:</th>           <td> 6.087</td>   <th>  Prob(JB):          </th>  <td>    0.00</td>  \n",
       "</tr>\n",
       "<tr>\n",
       "  <th>Kurtosis:</th>       <td>57.116</td>   <th>  Cond. No.          </th>  <td>    211.</td>  \n",
       "</tr>\n",
       "</table><br/><br/>Notes:<br/>[1] Standard Errors assume that the covariance matrix of the errors is correctly specified."
      ],
      "text/plain": [
       "<class 'statsmodels.iolib.summary.Summary'>\n",
       "\"\"\"\n",
       "                            OLS Regression Results                            \n",
       "==============================================================================\n",
       "Dep. Variable:                   BIDS   R-squared:                       0.190\n",
       "Model:                            OLS   Adj. R-squared:                  0.189\n",
       "Method:                 Least Squares   F-statistic:                     334.2\n",
       "Date:                Fri, 24 Sep 2021   Prob (F-statistic):               0.00\n",
       "Time:                        17:35:44   Log-Likelihood:                -50356.\n",
       "No. Observations:               10000   AIC:                         1.007e+05\n",
       "Df Residuals:                    9992   BIC:                         1.008e+05\n",
       "Df Model:                           7                                         \n",
       "Covariance Type:            nonrobust                                         \n",
       "================================================================================\n",
       "                   coef    std err          t      P>|t|      [0.025      0.975]\n",
       "--------------------------------------------------------------------------------\n",
       "const          -55.6554      2.180    -25.527      0.000     -59.929     -51.382\n",
       "INCOME           8.8782      0.304     29.178      0.000       8.282       9.475\n",
       "AGE              0.8132      0.064     12.647      0.000       0.687       0.939\n",
       "IND_制造业         14.8213      0.939     15.782      0.000      12.980      16.662\n",
       "CAR              2.6880      0.836      3.215      0.001       1.049       4.327\n",
       "WORKTIME         1.9524      0.419      4.664      0.000       1.132       2.773\n",
       "CREDIT           1.4124      0.253      5.585      0.000       0.917       1.908\n",
       "PURPOSE_其他借款    14.8417      1.775      8.360      0.000      11.362      18.322\n",
       "==============================================================================\n",
       "Omnibus:                    11562.235   Durbin-Watson:                   1.756\n",
       "Prob(Omnibus):                  0.000   Jarque-Bera (JB):          1281987.443\n",
       "Skew:                           6.087   Prob(JB):                         0.00\n",
       "Kurtosis:                      57.116   Cond. No.                         211.\n",
       "==============================================================================\n",
       "\n",
       "Notes:\n",
       "[1] Standard Errors assume that the covariance matrix of the errors is correctly specified.\n",
       "\"\"\""
      ]
     },
     "execution_count": 351,
     "metadata": {},
     "output_type": "execute_result"
    }
   ],
   "source": [
    "X = data_2[bidsIndex]\n",
    "Y = data_2[\"BIDS\"]\n",
    "X = sm.add_constant(X)\n",
    "model = sm.OLS(Y,X)\n",
    "result_ols = model.fit()\n",
    "result_ols.summary()"
   ]
  },
  {
   "cell_type": "code",
   "execution_count": 352,
   "id": "46eafddc",
   "metadata": {},
   "outputs": [
    {
     "data": {
      "text/plain": [
       "[<matplotlib.lines.Line2D at 0x1de84c8fb20>]"
      ]
     },
     "execution_count": 352,
     "metadata": {},
     "output_type": "execute_result"
    },
    {
     "data": {
      "text/plain": [
       "[<matplotlib.lines.Line2D at 0x1de84c8ff40>]"
      ]
     },
     "execution_count": 352,
     "metadata": {},
     "output_type": "execute_result"
    },
    {
     "data": {
      "text/plain": [
       "<matplotlib.legend.Legend at 0x1de84c8fd30>"
      ]
     },
     "execution_count": 352,
     "metadata": {},
     "output_type": "execute_result"
    },
    {
     "data": {
      "image/png": "[encoded data removed]",
      "text/plain": [
       "<Figure size 576x432 with 1 Axes>"
      ]
     },
     "metadata": {
      "needs_background": "light"
     },
     "output_type": "display_data"
    }
   ],
   "source": [
    "x = np.linspace(0,1000,len(Y))\n",
    "y_fitted = result_ols.fittedvalues\n",
    "res = Y - y_fitted\n",
    "res = (res-res.mean())/res.std()\n",
    "fig, ax = plt.subplots(figsize=(8,6))\n",
    "ax.plot(x, Y, 'o', label='data')\n",
    "ax.plot(x, res, 'r--.',label='OLS')\n",
    "ax.legend(loc='best')"
   ]
  },
  {
   "cell_type": "markdown",
   "id": "18f2e5ea",
   "metadata": {},
   "source": [
    "<a id=\"2\"></a>\n",
    "## 2.P2P Lending Platform"
   ]
  },
  {
   "cell_type": "markdown",
   "id": "c34aef14",
   "metadata": {},
   "source": [
    "<a id=\"2.1\"></a>\n",
    "## 2.1 P2P Lending Platform Data Summary\n",
    "Data description: 1000 records X 17 columns\n",
    "\n",
    "### Data operation\n",
    "**(1) Genereate Duation feature**  \n",
    "It is generated based on Open-time and Bankrupt-time, using integer to represent the result.   \n",
    "For example Open time 2014/05/19 - Bankrupt-time Year 2017, we get Duration (20170000 - 201405190)   \n",
    "  \n",
    "**(2) Generate dummy variable**  \n",
    "I generate dummy variable for Background including 4 types of background.  \n",
    "  \n",
    "**(3) Correlation test**  \n",
    "Based on heat map, find if there is high correlation among features and it may lead to multicollinearity.  As a result I just kick one of the backgroud variable out of the table sicne they are highly related.   \n",
    "  \n",
    "**(4)Null value handle**   \n",
    "There are some missing records in the features. In the statistic table I found the missing records exist in label feature, and the number is limited. So I simply fill these null values with its own median value.\n",
    "  \n",
    "   [Back to content](#0.1)"
   ]
  },
  {
   "cell_type": "code",
   "execution_count": 357,
   "id": "db2ad416",
   "metadata": {},
   "outputs": [
    {
     "data": {
      "text/html": [
       "<div>\n",
       "<style scoped>\n",
       "    .dataframe tbody tr th:only-of-type {\n",
       "        vertical-align: middle;\n",
       "    }\n",
       "\n",
       "    .dataframe tbody tr th {\n",
       "        vertical-align: top;\n",
       "    }\n",
       "\n",
       "    .dataframe thead th {\n",
       "        text-align: right;\n",
       "    }\n",
       "</style>\n",
       "<table border=\"1\" class=\"dataframe\">\n",
       "  <thead>\n",
       "    <tr style=\"text-align: right;\">\n",
       "      <th></th>\n",
       "      <th>fullname</th>\n",
       "      <th>OnlineTime_YMD</th>\n",
       "      <th>Bankrupt_WDZJ</th>\n",
       "      <th>Province</th>\n",
       "      <th>City</th>\n",
       "      <th>Collapse</th>\n",
       "      <th>Benign</th>\n",
       "      <th>Fraud</th>\n",
       "      <th>RegCapital</th>\n",
       "      <th>Background</th>\n",
       "      <th>Capitaldeposit</th>\n",
       "      <th>Obtaininvest</th>\n",
       "      <th>Joinasso</th>\n",
       "      <th>Autobid</th>\n",
       "      <th>Transright</th>\n",
       "      <th>Riskdeposit</th>\n",
       "      <th>Thirdguarantee</th>\n",
       "    </tr>\n",
       "  </thead>\n",
       "  <tbody>\n",
       "    <tr>\n",
       "      <th>0</th>\n",
       "      <td>123便利贷</td>\n",
       "      <td>20140519</td>\n",
       "      <td>2.017e+07</td>\n",
       "      <td>上海</td>\n",
       "      <td>上海</td>\n",
       "      <td>1</td>\n",
       "      <td>0.0</td>\n",
       "      <td>0.0</td>\n",
       "      <td>500.0</td>\n",
       "      <td>民营系</td>\n",
       "      <td>0</td>\n",
       "      <td>0.0</td>\n",
       "      <td>1.0</td>\n",
       "      <td>0</td>\n",
       "      <td>0</td>\n",
       "      <td>0.0</td>\n",
       "      <td>0.0</td>\n",
       "    </tr>\n",
       "    <tr>\n",
       "      <th>1</th>\n",
       "      <td>17聚财</td>\n",
       "      <td>20151231</td>\n",
       "      <td>2.017e+07</td>\n",
       "      <td>上海</td>\n",
       "      <td>上海</td>\n",
       "      <td>1</td>\n",
       "      <td>0.0</td>\n",
       "      <td>0.0</td>\n",
       "      <td>500.0</td>\n",
       "      <td>民营系</td>\n",
       "      <td>0</td>\n",
       "      <td>0.0</td>\n",
       "      <td>0.0</td>\n",
       "      <td>0</td>\n",
       "      <td>0</td>\n",
       "      <td>0.0</td>\n",
       "      <td>0.0</td>\n",
       "    </tr>\n",
       "    <tr>\n",
       "      <th>2</th>\n",
       "      <td>360易贷</td>\n",
       "      <td>20150504</td>\n",
       "      <td>2.016e+07</td>\n",
       "      <td>辽宁</td>\n",
       "      <td>沈阳</td>\n",
       "      <td>1</td>\n",
       "      <td>0.0</td>\n",
       "      <td>0.0</td>\n",
       "      <td>500.0</td>\n",
       "      <td>民营系</td>\n",
       "      <td>0</td>\n",
       "      <td>0.0</td>\n",
       "      <td>0.0</td>\n",
       "      <td>1</td>\n",
       "      <td>1</td>\n",
       "      <td>0.0</td>\n",
       "      <td>0.0</td>\n",
       "    </tr>\n",
       "    <tr>\n",
       "      <th>3</th>\n",
       "      <td>365储蓄家</td>\n",
       "      <td>20180310</td>\n",
       "      <td>2.018e+07</td>\n",
       "      <td>浙江</td>\n",
       "      <td>杭州</td>\n",
       "      <td>1</td>\n",
       "      <td>0.0</td>\n",
       "      <td>0.0</td>\n",
       "      <td>500.0</td>\n",
       "      <td>民营系</td>\n",
       "      <td>0</td>\n",
       "      <td>0.0</td>\n",
       "      <td>0.0</td>\n",
       "      <td>0</td>\n",
       "      <td>0</td>\n",
       "      <td>0.0</td>\n",
       "      <td>0.0</td>\n",
       "    </tr>\n",
       "    <tr>\n",
       "      <th>4</th>\n",
       "      <td>51丰收宝</td>\n",
       "      <td>20180320</td>\n",
       "      <td>2.018e+07</td>\n",
       "      <td>广东</td>\n",
       "      <td>深圳</td>\n",
       "      <td>1</td>\n",
       "      <td>0.0</td>\n",
       "      <td>1.0</td>\n",
       "      <td>5.0</td>\n",
       "      <td>民营系</td>\n",
       "      <td>0</td>\n",
       "      <td>0.0</td>\n",
       "      <td>0.0</td>\n",
       "      <td>0</td>\n",
       "      <td>0</td>\n",
       "      <td>0.0</td>\n",
       "      <td>0.0</td>\n",
       "    </tr>\n",
       "  </tbody>\n",
       "</table>\n",
       "</div>"
      ],
      "text/plain": [
       "  fullname  OnlineTime_YMD  Bankrupt_WDZJ Province City  Collapse  Benign  \\\n",
       "0   123便利贷        20140519      2.017e+07       上海   上海         1     0.0   \n",
       "1     17聚财        20151231      2.017e+07       上海   上海         1     0.0   \n",
       "2    360易贷        20150504      2.016e+07       辽宁   沈阳         1     0.0   \n",
       "3   365储蓄家        20180310      2.018e+07       浙江   杭州         1     0.0   \n",
       "4    51丰收宝        20180320      2.018e+07       广东   深圳         1     0.0   \n",
       "\n",
       "   Fraud  RegCapital Background  Capitaldeposit  Obtaininvest  Joinasso  \\\n",
       "0    0.0       500.0        民营系               0           0.0       1.0   \n",
       "1    0.0       500.0        民营系               0           0.0       0.0   \n",
       "2    0.0       500.0        民营系               0           0.0       0.0   \n",
       "3    0.0       500.0        民营系               0           0.0       0.0   \n",
       "4    1.0         5.0        民营系               0           0.0       0.0   \n",
       "\n",
       "   Autobid  Transright  Riskdeposit  Thirdguarantee  \n",
       "0        0           0          0.0             0.0  \n",
       "1        0           0          0.0             0.0  \n",
       "2        1           1          0.0             0.0  \n",
       "3        0           0          0.0             0.0  \n",
       "4        0           0          0.0             0.0  "
      ]
     },
     "execution_count": 357,
     "metadata": {},
     "output_type": "execute_result"
    }
   ],
   "source": [
    "data_p2p = pd.read_csv(r\"..\\Week 2 Assignment\\p2p.csv\",encoding=\"gbk\")\n",
    "data_p2p.head()"
   ]
  },
  {
   "cell_type": "code",
   "execution_count": 358,
   "id": "ef210e1e",
   "metadata": {},
   "outputs": [
    {
     "data": {
      "text/plain": [
       "(1000, 17)"
      ]
     },
     "execution_count": 358,
     "metadata": {},
     "output_type": "execute_result"
    }
   ],
   "source": [
    "data_p2p.shape"
   ]
  },
  {
   "cell_type": "code",
   "execution_count": 360,
   "id": "c6f28277",
   "metadata": {},
   "outputs": [
    {
     "data": {
      "text/html": [
       "<div>\n",
       "<style scoped>\n",
       "    .dataframe tbody tr th:only-of-type {\n",
       "        vertical-align: middle;\n",
       "    }\n",
       "\n",
       "    .dataframe tbody tr th {\n",
       "        vertical-align: top;\n",
       "    }\n",
       "\n",
       "    .dataframe thead th {\n",
       "        text-align: right;\n",
       "    }\n",
       "</style>\n",
       "<table border=\"1\" class=\"dataframe\">\n",
       "  <thead>\n",
       "    <tr style=\"text-align: right;\">\n",
       "      <th></th>\n",
       "      <th>OnlineTime_YMD</th>\n",
       "      <th>Bankrupt_WDZJ</th>\n",
       "      <th>Collapse</th>\n",
       "      <th>Benign</th>\n",
       "      <th>Fraud</th>\n",
       "      <th>RegCapital</th>\n",
       "      <th>Capitaldeposit</th>\n",
       "      <th>Obtaininvest</th>\n",
       "      <th>Joinasso</th>\n",
       "      <th>Autobid</th>\n",
       "      <th>Transright</th>\n",
       "      <th>Riskdeposit</th>\n",
       "      <th>Thirdguarantee</th>\n",
       "    </tr>\n",
       "  </thead>\n",
       "  <tbody>\n",
       "    <tr>\n",
       "      <th>count</th>\n",
       "      <td>1.000e+03</td>\n",
       "      <td>7.820e+02</td>\n",
       "      <td>1000.000</td>\n",
       "      <td>782.000</td>\n",
       "      <td>782.000</td>\n",
       "      <td>1000.000</td>\n",
       "      <td>1000.000</td>\n",
       "      <td>968.000</td>\n",
       "      <td>968.000</td>\n",
       "      <td>1000.000</td>\n",
       "      <td>1000.000</td>\n",
       "      <td>968.000</td>\n",
       "      <td>968.000</td>\n",
       "    </tr>\n",
       "    <tr>\n",
       "      <th>mean</th>\n",
       "      <td>2.015e+07</td>\n",
       "      <td>2.016e+07</td>\n",
       "      <td>0.782</td>\n",
       "      <td>0.098</td>\n",
       "      <td>0.247</td>\n",
       "      <td>596.064</td>\n",
       "      <td>0.191</td>\n",
       "      <td>0.027</td>\n",
       "      <td>0.055</td>\n",
       "      <td>0.244</td>\n",
       "      <td>0.177</td>\n",
       "      <td>0.022</td>\n",
       "      <td>0.034</td>\n",
       "    </tr>\n",
       "    <tr>\n",
       "      <th>std</th>\n",
       "      <td>1.135e+04</td>\n",
       "      <td>1.304e+04</td>\n",
       "      <td>0.413</td>\n",
       "      <td>0.298</td>\n",
       "      <td>0.431</td>\n",
       "      <td>2328.222</td>\n",
       "      <td>0.393</td>\n",
       "      <td>0.162</td>\n",
       "      <td>0.228</td>\n",
       "      <td>0.430</td>\n",
       "      <td>0.382</td>\n",
       "      <td>0.146</td>\n",
       "      <td>0.182</td>\n",
       "    </tr>\n",
       "    <tr>\n",
       "      <th>min</th>\n",
       "      <td>2.009e+07</td>\n",
       "      <td>2.012e+07</td>\n",
       "      <td>0.000</td>\n",
       "      <td>0.000</td>\n",
       "      <td>0.000</td>\n",
       "      <td>2.000</td>\n",
       "      <td>0.000</td>\n",
       "      <td>0.000</td>\n",
       "      <td>0.000</td>\n",
       "      <td>0.000</td>\n",
       "      <td>0.000</td>\n",
       "      <td>0.000</td>\n",
       "      <td>0.000</td>\n",
       "    </tr>\n",
       "    <tr>\n",
       "      <th>25%</th>\n",
       "      <td>2.014e+07</td>\n",
       "      <td>2.015e+07</td>\n",
       "      <td>1.000</td>\n",
       "      <td>0.000</td>\n",
       "      <td>0.000</td>\n",
       "      <td>100.000</td>\n",
       "      <td>0.000</td>\n",
       "      <td>0.000</td>\n",
       "      <td>0.000</td>\n",
       "      <td>0.000</td>\n",
       "      <td>0.000</td>\n",
       "      <td>0.000</td>\n",
       "      <td>0.000</td>\n",
       "    </tr>\n",
       "    <tr>\n",
       "      <th>50%</th>\n",
       "      <td>2.015e+07</td>\n",
       "      <td>2.016e+07</td>\n",
       "      <td>1.000</td>\n",
       "      <td>0.000</td>\n",
       "      <td>0.000</td>\n",
       "      <td>300.000</td>\n",
       "      <td>0.000</td>\n",
       "      <td>0.000</td>\n",
       "      <td>0.000</td>\n",
       "      <td>0.000</td>\n",
       "      <td>0.000</td>\n",
       "      <td>0.000</td>\n",
       "      <td>0.000</td>\n",
       "    </tr>\n",
       "    <tr>\n",
       "      <th>75%</th>\n",
       "      <td>2.015e+07</td>\n",
       "      <td>2.017e+07</td>\n",
       "      <td>1.000</td>\n",
       "      <td>0.000</td>\n",
       "      <td>0.000</td>\n",
       "      <td>500.000</td>\n",
       "      <td>0.000</td>\n",
       "      <td>0.000</td>\n",
       "      <td>0.000</td>\n",
       "      <td>0.000</td>\n",
       "      <td>0.000</td>\n",
       "      <td>0.000</td>\n",
       "      <td>0.000</td>\n",
       "    </tr>\n",
       "    <tr>\n",
       "      <th>max</th>\n",
       "      <td>2.018e+07</td>\n",
       "      <td>2.019e+07</td>\n",
       "      <td>1.000</td>\n",
       "      <td>1.000</td>\n",
       "      <td>1.000</td>\n",
       "      <td>50000.000</td>\n",
       "      <td>1.000</td>\n",
       "      <td>1.000</td>\n",
       "      <td>1.000</td>\n",
       "      <td>1.000</td>\n",
       "      <td>1.000</td>\n",
       "      <td>1.000</td>\n",
       "      <td>1.000</td>\n",
       "    </tr>\n",
       "  </tbody>\n",
       "</table>\n",
       "</div>"
      ],
      "text/plain": [
       "       OnlineTime_YMD  Bankrupt_WDZJ  Collapse   Benign    Fraud  RegCapital  \\\n",
       "count       1.000e+03      7.820e+02  1000.000  782.000  782.000    1000.000   \n",
       "mean        2.015e+07      2.016e+07     0.782    0.098    0.247     596.064   \n",
       "std         1.135e+04      1.304e+04     0.413    0.298    0.431    2328.222   \n",
       "min         2.009e+07      2.012e+07     0.000    0.000    0.000       2.000   \n",
       "25%         2.014e+07      2.015e+07     1.000    0.000    0.000     100.000   \n",
       "50%         2.015e+07      2.016e+07     1.000    0.000    0.000     300.000   \n",
       "75%         2.015e+07      2.017e+07     1.000    0.000    0.000     500.000   \n",
       "max         2.018e+07      2.019e+07     1.000    1.000    1.000   50000.000   \n",
       "\n",
       "       Capitaldeposit  Obtaininvest  Joinasso   Autobid  Transright  \\\n",
       "count        1000.000       968.000   968.000  1000.000    1000.000   \n",
       "mean            0.191         0.027     0.055     0.244       0.177   \n",
       "std             0.393         0.162     0.228     0.430       0.382   \n",
       "min             0.000         0.000     0.000     0.000       0.000   \n",
       "25%             0.000         0.000     0.000     0.000       0.000   \n",
       "50%             0.000         0.000     0.000     0.000       0.000   \n",
       "75%             0.000         0.000     0.000     0.000       0.000   \n",
       "max             1.000         1.000     1.000     1.000       1.000   \n",
       "\n",
       "       Riskdeposit  Thirdguarantee  \n",
       "count      968.000         968.000  \n",
       "mean         0.022           0.034  \n",
       "std          0.146           0.182  \n",
       "min          0.000           0.000  \n",
       "25%          0.000           0.000  \n",
       "50%          0.000           0.000  \n",
       "75%          0.000           0.000  \n",
       "max          1.000           1.000  "
      ]
     },
     "execution_count": 360,
     "metadata": {},
     "output_type": "execute_result"
    }
   ],
   "source": [
    "data_p2p.describe()"
   ]
  },
  {
   "cell_type": "markdown",
   "id": "a2edc541",
   "metadata": {},
   "source": [
    "**Generate Duration feature baed on OnlineTime and bankrupt time**"
   ]
  },
  {
   "cell_type": "code",
   "execution_count": 366,
   "id": "de199cec",
   "metadata": {},
   "outputs": [
    {
     "name": "stderr",
     "output_type": "stream",
     "text": [
      "<ipython-input-366-d566a584de42>:2: SettingWithCopyWarning: \n",
      "A value is trying to be set on a copy of a slice from a DataFrame\n",
      "\n",
      "See the caveats in the documentation: https://pandas.pydata.org/pandas-docs/stable/user_guide/indexing.html#returning-a-view-versus-a-copy\n",
      "  data_p2p[\"endtime\"][data_p2p[\"endtime\"].isnull()] = 20210000\n"
     ]
    },
    {
     "data": {
      "text/plain": [
       "count      1000.000\n",
       "mean      24984.026\n",
       "std       22517.608\n",
       "min           0.000\n",
       "25%        9604.750\n",
       "50%       19517.500\n",
       "75%       39737.250\n",
       "max      108987.000\n",
       "Name: Duration, dtype: float64"
      ]
     },
     "execution_count": 366,
     "metadata": {},
     "output_type": "execute_result"
    }
   ],
   "source": [
    "data_p2p[\"endtime\"] = data_p2p[\"Bankrupt_WDZJ\"]\n",
    "data_p2p[\"endtime\"][data_p2p[\"endtime\"].isnull()] = 20210000\n",
    "data_p2p[\"Duration\"] = data_p2p[\"endtime\"] - data_p2p[\"OnlineTime_YMD\"]\n",
    "data_p2p.describe()[\"Duration\"]"
   ]
  },
  {
   "cell_type": "markdown",
   "id": "4b1a3f0b",
   "metadata": {},
   "source": [
    "**Generate Dummy variabel for Background**"
   ]
  },
  {
   "cell_type": "code",
   "execution_count": 372,
   "id": "03d0f23b",
   "metadata": {},
   "outputs": [],
   "source": [
    "data_p2p = pd.get_dummies(data_p2p,columns=[\"Background\"])"
   ]
  },
  {
   "cell_type": "markdown",
   "id": "439a5c99",
   "metadata": {},
   "source": [
    "**Correlationship test**"
   ]
  },
  {
   "cell_type": "code",
   "execution_count": 376,
   "id": "2095fb6d",
   "metadata": {},
   "outputs": [
    {
     "data": {
      "text/plain": [
       "Collapse           1.000\n",
       "endtime            0.858\n",
       "Duration           0.821\n",
       "Capitaldeposit     0.477\n",
       "Joinasso           0.231\n",
       "Background_民营系     0.214\n",
       "Transright         0.174\n",
       "Background_上市公司    0.164\n",
       "Background_国企背景    0.138\n",
       "Obtaininvest       0.092\n",
       "Autobid            0.078\n",
       "Thirdguarantee     0.077\n",
       "OnlineTime_YMD     0.070\n",
       "Background_风投系     0.061\n",
       "Riskdeposit        0.032\n",
       "RegCapital         0.028\n",
       "Bankrupt_WDZJ        NaN\n",
       "Benign               NaN\n",
       "Fraud                NaN\n",
       "Name: Collapse, dtype: float64"
      ]
     },
     "execution_count": 376,
     "metadata": {},
     "output_type": "execute_result"
    },
    {
     "data": {
      "text/plain": [
       "Index(['Capitaldeposit', 'Joinasso', 'Background_民营系', 'Transright',\n",
       "       'Background_上市公司', 'Background_国企背景', 'Obtaininvest', 'Autobid',\n",
       "       'Thirdguarantee', 'OnlineTime_YMD', 'Background_风投系', 'Riskdeposit',\n",
       "       'RegCapital'],\n",
       "      dtype='object')"
      ]
     },
     "execution_count": 376,
     "metadata": {},
     "output_type": "execute_result"
    }
   ],
   "source": [
    "abs(data_p2p.corr()[\"Collapse\"]).sort_values(ascending=False)\n",
    "collapse_index_0 = abs(data_p2p.corr()[\"Collapse\"]).sort_values(ascending=False).index[3:16]\n",
    "collapse_index_0\n"
   ]
  },
  {
   "cell_type": "markdown",
   "id": "522f082b",
   "metadata": {},
   "source": [
    "**(3) Correlation test**  \n",
    "Based on heat map, find if there is high correlation among features and it may lead to multicollinearity.  As a result I just kick one of the backgroud variable out of the table sicne they are highly related.  "
   ]
  },
  {
   "cell_type": "code",
   "execution_count": 378,
   "id": "f65a72c5",
   "metadata": {},
   "outputs": [
    {
     "data": {
      "text/plain": [
       "<AxesSubplot:>"
      ]
     },
     "execution_count": 378,
     "metadata": {},
     "output_type": "execute_result"
    },
    {
     "data": {
      "image/png": "[encoded data removed]",
      "text/plain": [
       "<Figure size 864x864 with 2 Axes>"
      ]
     },
     "metadata": {
      "needs_background": "light"
     },
     "output_type": "display_data"
    }
   ],
   "source": [
    "fig, ax = plt.subplots(figsize = (12,12))\n",
    "sns.heatmap(data_p2p[collapse_index_0].corr(),annot=True, vmax=1, vmin=-1,square=True,cmap=\"YlGnBu\")"
   ]
  },
  {
   "cell_type": "code",
   "execution_count": 379,
   "id": "0da29108",
   "metadata": {},
   "outputs": [
    {
     "data": {
      "text/plain": [
       "Index(['Capitaldeposit', 'Joinasso', 'Background_民营系', 'Transright',\n",
       "       'Background_国企背景', 'Obtaininvest', 'Autobid', 'Thirdguarantee',\n",
       "       'OnlineTime_YMD', 'Background_风投系', 'Riskdeposit', 'RegCapital'],\n",
       "      dtype='object')"
      ]
     },
     "execution_count": 379,
     "metadata": {},
     "output_type": "execute_result"
    }
   ],
   "source": [
    "collapse_index_0 = collapse_index_0.drop(\"Background_上市公司\")\n",
    "collapse_index_0"
   ]
  },
  {
   "cell_type": "code",
   "execution_count": 380,
   "id": "52702710",
   "metadata": {},
   "outputs": [
    {
     "data": {
      "text/html": [
       "<div>\n",
       "<style scoped>\n",
       "    .dataframe tbody tr th:only-of-type {\n",
       "        vertical-align: middle;\n",
       "    }\n",
       "\n",
       "    .dataframe tbody tr th {\n",
       "        vertical-align: top;\n",
       "    }\n",
       "\n",
       "    .dataframe thead th {\n",
       "        text-align: right;\n",
       "    }\n",
       "</style>\n",
       "<table border=\"1\" class=\"dataframe\">\n",
       "  <thead>\n",
       "    <tr style=\"text-align: right;\">\n",
       "      <th></th>\n",
       "      <th>Capitaldeposit</th>\n",
       "      <th>Joinasso</th>\n",
       "      <th>Background_民营系</th>\n",
       "      <th>Transright</th>\n",
       "      <th>Background_国企背景</th>\n",
       "      <th>Obtaininvest</th>\n",
       "      <th>Autobid</th>\n",
       "      <th>Thirdguarantee</th>\n",
       "      <th>OnlineTime_YMD</th>\n",
       "      <th>Background_风投系</th>\n",
       "      <th>Riskdeposit</th>\n",
       "      <th>RegCapital</th>\n",
       "    </tr>\n",
       "  </thead>\n",
       "  <tbody>\n",
       "    <tr>\n",
       "      <th>count</th>\n",
       "      <td>1000.000</td>\n",
       "      <td>968.000</td>\n",
       "      <td>1000.000</td>\n",
       "      <td>1000.000</td>\n",
       "      <td>1000.000</td>\n",
       "      <td>968.000</td>\n",
       "      <td>1000.000</td>\n",
       "      <td>968.000</td>\n",
       "      <td>1.000e+03</td>\n",
       "      <td>1000.000</td>\n",
       "      <td>968.000</td>\n",
       "      <td>1000.000</td>\n",
       "    </tr>\n",
       "    <tr>\n",
       "      <th>mean</th>\n",
       "      <td>0.191</td>\n",
       "      <td>0.055</td>\n",
       "      <td>0.924</td>\n",
       "      <td>0.177</td>\n",
       "      <td>0.046</td>\n",
       "      <td>0.027</td>\n",
       "      <td>0.244</td>\n",
       "      <td>0.034</td>\n",
       "      <td>2.015e+07</td>\n",
       "      <td>0.014</td>\n",
       "      <td>0.022</td>\n",
       "      <td>596.064</td>\n",
       "    </tr>\n",
       "    <tr>\n",
       "      <th>std</th>\n",
       "      <td>0.393</td>\n",
       "      <td>0.228</td>\n",
       "      <td>0.265</td>\n",
       "      <td>0.382</td>\n",
       "      <td>0.210</td>\n",
       "      <td>0.162</td>\n",
       "      <td>0.430</td>\n",
       "      <td>0.182</td>\n",
       "      <td>1.135e+04</td>\n",
       "      <td>0.118</td>\n",
       "      <td>0.146</td>\n",
       "      <td>2328.222</td>\n",
       "    </tr>\n",
       "    <tr>\n",
       "      <th>min</th>\n",
       "      <td>0.000</td>\n",
       "      <td>0.000</td>\n",
       "      <td>0.000</td>\n",
       "      <td>0.000</td>\n",
       "      <td>0.000</td>\n",
       "      <td>0.000</td>\n",
       "      <td>0.000</td>\n",
       "      <td>0.000</td>\n",
       "      <td>2.009e+07</td>\n",
       "      <td>0.000</td>\n",
       "      <td>0.000</td>\n",
       "      <td>2.000</td>\n",
       "    </tr>\n",
       "    <tr>\n",
       "      <th>25%</th>\n",
       "      <td>0.000</td>\n",
       "      <td>0.000</td>\n",
       "      <td>1.000</td>\n",
       "      <td>0.000</td>\n",
       "      <td>0.000</td>\n",
       "      <td>0.000</td>\n",
       "      <td>0.000</td>\n",
       "      <td>0.000</td>\n",
       "      <td>2.014e+07</td>\n",
       "      <td>0.000</td>\n",
       "      <td>0.000</td>\n",
       "      <td>100.000</td>\n",
       "    </tr>\n",
       "    <tr>\n",
       "      <th>50%</th>\n",
       "      <td>0.000</td>\n",
       "      <td>0.000</td>\n",
       "      <td>1.000</td>\n",
       "      <td>0.000</td>\n",
       "      <td>0.000</td>\n",
       "      <td>0.000</td>\n",
       "      <td>0.000</td>\n",
       "      <td>0.000</td>\n",
       "      <td>2.015e+07</td>\n",
       "      <td>0.000</td>\n",
       "      <td>0.000</td>\n",
       "      <td>300.000</td>\n",
       "    </tr>\n",
       "    <tr>\n",
       "      <th>75%</th>\n",
       "      <td>0.000</td>\n",
       "      <td>0.000</td>\n",
       "      <td>1.000</td>\n",
       "      <td>0.000</td>\n",
       "      <td>0.000</td>\n",
       "      <td>0.000</td>\n",
       "      <td>0.000</td>\n",
       "      <td>0.000</td>\n",
       "      <td>2.015e+07</td>\n",
       "      <td>0.000</td>\n",
       "      <td>0.000</td>\n",
       "      <td>500.000</td>\n",
       "    </tr>\n",
       "    <tr>\n",
       "      <th>max</th>\n",
       "      <td>1.000</td>\n",
       "      <td>1.000</td>\n",
       "      <td>1.000</td>\n",
       "      <td>1.000</td>\n",
       "      <td>1.000</td>\n",
       "      <td>1.000</td>\n",
       "      <td>1.000</td>\n",
       "      <td>1.000</td>\n",
       "      <td>2.018e+07</td>\n",
       "      <td>1.000</td>\n",
       "      <td>1.000</td>\n",
       "      <td>50000.000</td>\n",
       "    </tr>\n",
       "  </tbody>\n",
       "</table>\n",
       "</div>"
      ],
      "text/plain": [
       "       Capitaldeposit  Joinasso  Background_民营系  Transright  Background_国企背景  \\\n",
       "count        1000.000   968.000        1000.000    1000.000         1000.000   \n",
       "mean            0.191     0.055           0.924       0.177            0.046   \n",
       "std             0.393     0.228           0.265       0.382            0.210   \n",
       "min             0.000     0.000           0.000       0.000            0.000   \n",
       "25%             0.000     0.000           1.000       0.000            0.000   \n",
       "50%             0.000     0.000           1.000       0.000            0.000   \n",
       "75%             0.000     0.000           1.000       0.000            0.000   \n",
       "max             1.000     1.000           1.000       1.000            1.000   \n",
       "\n",
       "       Obtaininvest   Autobid  Thirdguarantee  OnlineTime_YMD  Background_风投系  \\\n",
       "count       968.000  1000.000         968.000       1.000e+03        1000.000   \n",
       "mean          0.027     0.244           0.034       2.015e+07           0.014   \n",
       "std           0.162     0.430           0.182       1.135e+04           0.118   \n",
       "min           0.000     0.000           0.000       2.009e+07           0.000   \n",
       "25%           0.000     0.000           0.000       2.014e+07           0.000   \n",
       "50%           0.000     0.000           0.000       2.015e+07           0.000   \n",
       "75%           0.000     0.000           0.000       2.015e+07           0.000   \n",
       "max           1.000     1.000           1.000       2.018e+07           1.000   \n",
       "\n",
       "       Riskdeposit  RegCapital  \n",
       "count      968.000    1000.000  \n",
       "mean         0.022     596.064  \n",
       "std          0.146    2328.222  \n",
       "min          0.000       2.000  \n",
       "25%          0.000     100.000  \n",
       "50%          0.000     300.000  \n",
       "75%          0.000     500.000  \n",
       "max          1.000   50000.000  "
      ]
     },
     "execution_count": 380,
     "metadata": {},
     "output_type": "execute_result"
    }
   ],
   "source": [
    "data_p2p.describe()[collapse_index_0]"
   ]
  },
  {
   "cell_type": "markdown",
   "id": "5a9ae93a",
   "metadata": {},
   "source": [
    "### Fill numm value with median"
   ]
  },
  {
   "cell_type": "code",
   "execution_count": 382,
   "id": "4d76d370",
   "metadata": {
    "scrolled": true
   },
   "outputs": [
    {
     "name": "stderr",
     "output_type": "stream",
     "text": [
      "<ipython-input-382-6be0ba80bab6>:2: SettingWithCopyWarning: \n",
      "A value is trying to be set on a copy of a slice from a DataFrame\n",
      "\n",
      "See the caveats in the documentation: https://pandas.pydata.org/pandas-docs/stable/user_guide/indexing.html#returning-a-view-versus-a-copy\n",
      "  data_p2p[index][data_p2p[index].isnull()] = data_p2p[index].median()\n",
      "<ipython-input-382-6be0ba80bab6>:2: SettingWithCopyWarning: \n",
      "A value is trying to be set on a copy of a slice from a DataFrame\n",
      "\n",
      "See the caveats in the documentation: https://pandas.pydata.org/pandas-docs/stable/user_guide/indexing.html#returning-a-view-versus-a-copy\n",
      "  data_p2p[index][data_p2p[index].isnull()] = data_p2p[index].median()\n",
      "<ipython-input-382-6be0ba80bab6>:2: SettingWithCopyWarning: \n",
      "A value is trying to be set on a copy of a slice from a DataFrame\n",
      "\n",
      "See the caveats in the documentation: https://pandas.pydata.org/pandas-docs/stable/user_guide/indexing.html#returning-a-view-versus-a-copy\n",
      "  data_p2p[index][data_p2p[index].isnull()] = data_p2p[index].median()\n",
      "<ipython-input-382-6be0ba80bab6>:2: SettingWithCopyWarning: \n",
      "A value is trying to be set on a copy of a slice from a DataFrame\n",
      "\n",
      "See the caveats in the documentation: https://pandas.pydata.org/pandas-docs/stable/user_guide/indexing.html#returning-a-view-versus-a-copy\n",
      "  data_p2p[index][data_p2p[index].isnull()] = data_p2p[index].median()\n"
     ]
    },
    {
     "data": {
      "text/html": [
       "<div>\n",
       "<style scoped>\n",
       "    .dataframe tbody tr th:only-of-type {\n",
       "        vertical-align: middle;\n",
       "    }\n",
       "\n",
       "    .dataframe tbody tr th {\n",
       "        vertical-align: top;\n",
       "    }\n",
       "\n",
       "    .dataframe thead th {\n",
       "        text-align: right;\n",
       "    }\n",
       "</style>\n",
       "<table border=\"1\" class=\"dataframe\">\n",
       "  <thead>\n",
       "    <tr style=\"text-align: right;\">\n",
       "      <th></th>\n",
       "      <th>Capitaldeposit</th>\n",
       "      <th>Joinasso</th>\n",
       "      <th>Background_民营系</th>\n",
       "      <th>Transright</th>\n",
       "      <th>Background_国企背景</th>\n",
       "      <th>Obtaininvest</th>\n",
       "      <th>Autobid</th>\n",
       "      <th>Thirdguarantee</th>\n",
       "      <th>OnlineTime_YMD</th>\n",
       "      <th>Background_风投系</th>\n",
       "      <th>Riskdeposit</th>\n",
       "      <th>RegCapital</th>\n",
       "    </tr>\n",
       "  </thead>\n",
       "  <tbody>\n",
       "    <tr>\n",
       "      <th>count</th>\n",
       "      <td>1000.000</td>\n",
       "      <td>1000.000</td>\n",
       "      <td>1000.000</td>\n",
       "      <td>1000.000</td>\n",
       "      <td>1000.000</td>\n",
       "      <td>1000.000</td>\n",
       "      <td>1000.000</td>\n",
       "      <td>1000.000</td>\n",
       "      <td>1.000e+03</td>\n",
       "      <td>1000.000</td>\n",
       "      <td>1000.000</td>\n",
       "      <td>1000.000</td>\n",
       "    </tr>\n",
       "    <tr>\n",
       "      <th>mean</th>\n",
       "      <td>0.191</td>\n",
       "      <td>0.053</td>\n",
       "      <td>0.924</td>\n",
       "      <td>0.177</td>\n",
       "      <td>0.046</td>\n",
       "      <td>0.026</td>\n",
       "      <td>0.244</td>\n",
       "      <td>0.033</td>\n",
       "      <td>2.015e+07</td>\n",
       "      <td>0.014</td>\n",
       "      <td>0.021</td>\n",
       "      <td>596.064</td>\n",
       "    </tr>\n",
       "    <tr>\n",
       "      <th>std</th>\n",
       "      <td>0.393</td>\n",
       "      <td>0.224</td>\n",
       "      <td>0.265</td>\n",
       "      <td>0.382</td>\n",
       "      <td>0.210</td>\n",
       "      <td>0.159</td>\n",
       "      <td>0.430</td>\n",
       "      <td>0.179</td>\n",
       "      <td>1.135e+04</td>\n",
       "      <td>0.118</td>\n",
       "      <td>0.143</td>\n",
       "      <td>2328.222</td>\n",
       "    </tr>\n",
       "    <tr>\n",
       "      <th>min</th>\n",
       "      <td>0.000</td>\n",
       "      <td>0.000</td>\n",
       "      <td>0.000</td>\n",
       "      <td>0.000</td>\n",
       "      <td>0.000</td>\n",
       "      <td>0.000</td>\n",
       "      <td>0.000</td>\n",
       "      <td>0.000</td>\n",
       "      <td>2.009e+07</td>\n",
       "      <td>0.000</td>\n",
       "      <td>0.000</td>\n",
       "      <td>2.000</td>\n",
       "    </tr>\n",
       "    <tr>\n",
       "      <th>25%</th>\n",
       "      <td>0.000</td>\n",
       "      <td>0.000</td>\n",
       "      <td>1.000</td>\n",
       "      <td>0.000</td>\n",
       "      <td>0.000</td>\n",
       "      <td>0.000</td>\n",
       "      <td>0.000</td>\n",
       "      <td>0.000</td>\n",
       "      <td>2.014e+07</td>\n",
       "      <td>0.000</td>\n",
       "      <td>0.000</td>\n",
       "      <td>100.000</td>\n",
       "    </tr>\n",
       "    <tr>\n",
       "      <th>50%</th>\n",
       "      <td>0.000</td>\n",
       "      <td>0.000</td>\n",
       "      <td>1.000</td>\n",
       "      <td>0.000</td>\n",
       "      <td>0.000</td>\n",
       "      <td>0.000</td>\n",
       "      <td>0.000</td>\n",
       "      <td>0.000</td>\n",
       "      <td>2.015e+07</td>\n",
       "      <td>0.000</td>\n",
       "      <td>0.000</td>\n",
       "      <td>300.000</td>\n",
       "    </tr>\n",
       "    <tr>\n",
       "      <th>75%</th>\n",
       "      <td>0.000</td>\n",
       "      <td>0.000</td>\n",
       "      <td>1.000</td>\n",
       "      <td>0.000</td>\n",
       "      <td>0.000</td>\n",
       "      <td>0.000</td>\n",
       "      <td>0.000</td>\n",
       "      <td>0.000</td>\n",
       "      <td>2.015e+07</td>\n",
       "      <td>0.000</td>\n",
       "      <td>0.000</td>\n",
       "      <td>500.000</td>\n",
       "    </tr>\n",
       "    <tr>\n",
       "      <th>max</th>\n",
       "      <td>1.000</td>\n",
       "      <td>1.000</td>\n",
       "      <td>1.000</td>\n",
       "      <td>1.000</td>\n",
       "      <td>1.000</td>\n",
       "      <td>1.000</td>\n",
       "      <td>1.000</td>\n",
       "      <td>1.000</td>\n",
       "      <td>2.018e+07</td>\n",
       "      <td>1.000</td>\n",
       "      <td>1.000</td>\n",
       "      <td>50000.000</td>\n",
       "    </tr>\n",
       "  </tbody>\n",
       "</table>\n",
       "</div>"
      ],
      "text/plain": [
       "       Capitaldeposit  Joinasso  Background_民营系  Transright  Background_国企背景  \\\n",
       "count        1000.000  1000.000        1000.000    1000.000         1000.000   \n",
       "mean            0.191     0.053           0.924       0.177            0.046   \n",
       "std             0.393     0.224           0.265       0.382            0.210   \n",
       "min             0.000     0.000           0.000       0.000            0.000   \n",
       "25%             0.000     0.000           1.000       0.000            0.000   \n",
       "50%             0.000     0.000           1.000       0.000            0.000   \n",
       "75%             0.000     0.000           1.000       0.000            0.000   \n",
       "max             1.000     1.000           1.000       1.000            1.000   \n",
       "\n",
       "       Obtaininvest   Autobid  Thirdguarantee  OnlineTime_YMD  Background_风投系  \\\n",
       "count      1000.000  1000.000        1000.000       1.000e+03        1000.000   \n",
       "mean          0.026     0.244           0.033       2.015e+07           0.014   \n",
       "std           0.159     0.430           0.179       1.135e+04           0.118   \n",
       "min           0.000     0.000           0.000       2.009e+07           0.000   \n",
       "25%           0.000     0.000           0.000       2.014e+07           0.000   \n",
       "50%           0.000     0.000           0.000       2.015e+07           0.000   \n",
       "75%           0.000     0.000           0.000       2.015e+07           0.000   \n",
       "max           1.000     1.000           1.000       2.018e+07           1.000   \n",
       "\n",
       "       Riskdeposit  RegCapital  \n",
       "count     1000.000    1000.000  \n",
       "mean         0.021     596.064  \n",
       "std          0.143    2328.222  \n",
       "min          0.000       2.000  \n",
       "25%          0.000     100.000  \n",
       "50%          0.000     300.000  \n",
       "75%          0.000     500.000  \n",
       "max          1.000   50000.000  "
      ]
     },
     "execution_count": 382,
     "metadata": {},
     "output_type": "execute_result"
    }
   ],
   "source": [
    "for index in collapse_index_0:\n",
    "    data_p2p[index][data_p2p[index].isnull()] = data_p2p[index].median()\n",
    "data_p2p.describe()[collapse_index_0]"
   ]
  },
  {
   "cell_type": "markdown",
   "id": "3de107c0",
   "metadata": {},
   "source": [
    "<a id=\"2.2\"></a>\n",
    "## 2.2 Cox model\n",
    "features are significant(p<=0.5): Joinasso, Background_民营, Transright,Autobid  \n",
    "    (1) When a commpany has joined the associate, it is 0.63 times to collapse  \n",
    "    (2) When a company is private it is 3.08 times more likely to collapse  \n",
    "    (3) If a company provides bonds transfering, it is 0.62 times as same as those not to collapse  \n",
    "    (4) If a firm provides auto-bid it is 0.83 times as same as those not to collapse  \n",
    "   \n",
    "   [Back to content](#0.1)"
   ]
  },
  {
   "cell_type": "code",
   "execution_count": 386,
   "id": "0e3f72a1",
   "metadata": {},
   "outputs": [],
   "source": [
    "from lifelines import CoxPHFitter"
   ]
  },
  {
   "cell_type": "code",
   "execution_count": 392,
   "id": "5ed66ab3",
   "metadata": {},
   "outputs": [
    {
     "data": {
      "text/plain": [
       "Index(['Capitaldeposit', 'Joinasso', 'Background_民营系', 'Transright',\n",
       "       'Background_国企背景', 'Obtaininvest', 'Autobid', 'Thirdguarantee',\n",
       "       'OnlineTime_YMD', 'Background_风投系', 'Riskdeposit', 'RegCapital'],\n",
       "      dtype='object')"
      ]
     },
     "execution_count": 392,
     "metadata": {},
     "output_type": "execute_result"
    }
   ],
   "source": [
    "collapse_index_0"
   ]
  },
  {
   "cell_type": "code",
   "execution_count": 395,
   "id": "a72c5518",
   "metadata": {},
   "outputs": [],
   "source": [
    "data_cox = data_p2p[['Capitaldeposit', 'Joinasso', 'Background_民营系', 'Transright',\n",
    "       'Background_国企背景', 'Obtaininvest', 'Autobid', 'Thirdguarantee',\n",
    "        'Background_风投系', 'Riskdeposit', 'RegCapital',\"Duration\",\"Collapse\"]]"
   ]
  },
  {
   "cell_type": "code",
   "execution_count": 396,
   "id": "0bd2363d",
   "metadata": {},
   "outputs": [
    {
     "data": {
      "text/plain": [
       "<lifelines.CoxPHFitter: fitted with 1000 total observations, 218 right-censored observations>"
      ]
     },
     "execution_count": 396,
     "metadata": {},
     "output_type": "execute_result"
    },
    {
     "data": {
      "text/html": [
       "<div>\n",
       "<style scoped>\n",
       "    .dataframe tbody tr th:only-of-type {\n",
       "        vertical-align: middle;\n",
       "    }\n",
       "\n",
       "    .dataframe tbody tr th {\n",
       "        vertical-align: top;\n",
       "    }\n",
       "\n",
       "    .dataframe thead th {\n",
       "        text-align: right;\n",
       "    }\n",
       "</style>\n",
       "<table border=\"1\" class=\"dataframe\">\n",
       "  <tbody>\n",
       "    <tr>\n",
       "      <th>model</th>\n",
       "      <td>lifelines.CoxPHFitter</td>\n",
       "    </tr>\n",
       "    <tr>\n",
       "      <th>duration col</th>\n",
       "      <td>'Duration'</td>\n",
       "    </tr>\n",
       "    <tr>\n",
       "      <th>event col</th>\n",
       "      <td>'Collapse'</td>\n",
       "    </tr>\n",
       "    <tr>\n",
       "      <th>baseline estimation</th>\n",
       "      <td>breslow</td>\n",
       "    </tr>\n",
       "    <tr>\n",
       "      <th>number of observations</th>\n",
       "      <td>1000</td>\n",
       "    </tr>\n",
       "    <tr>\n",
       "      <th>number of events observed</th>\n",
       "      <td>782</td>\n",
       "    </tr>\n",
       "    <tr>\n",
       "      <th>partial log-likelihood</th>\n",
       "      <td>-4770.93</td>\n",
       "    </tr>\n",
       "    <tr>\n",
       "      <th>time fit was run</th>\n",
       "      <td>2021-09-24 12:14:45 UTC</td>\n",
       "    </tr>\n",
       "  </tbody>\n",
       "</table>\n",
       "</div><table border=\"1\" class=\"dataframe\">\n",
       "  <thead>\n",
       "    <tr style=\"text-align: right;\">\n",
       "      <th style=\"min-width: 12px;\"></th>\n",
       "      <th style=\"min-width: 12px;\">coef</th>\n",
       "      <th style=\"min-width: 12px;\">exp(coef)</th>\n",
       "      <th style=\"min-width: 12px;\">se(coef)</th>\n",
       "      <th style=\"min-width: 12px;\">coef lower 95%</th>\n",
       "      <th style=\"min-width: 12px;\">coef upper 95%</th>\n",
       "      <th style=\"min-width: 12px;\">exp(coef) lower 95%</th>\n",
       "      <th style=\"min-width: 12px;\">exp(coef) upper 95%</th>\n",
       "      <th style=\"min-width: 12px;\">z</th>\n",
       "      <th style=\"min-width: 12px;\">p</th>\n",
       "      <th style=\"min-width: 12px;\">-log2(p)</th>\n",
       "    </tr>\n",
       "  </thead>\n",
       "  <tbody>\n",
       "    <tr>\n",
       "      <th>Capitaldeposit</th>\n",
       "      <td>-1.51</td>\n",
       "      <td>0.22</td>\n",
       "      <td>0.13</td>\n",
       "      <td>-1.76</td>\n",
       "      <td>-1.26</td>\n",
       "      <td>0.17</td>\n",
       "      <td>0.28</td>\n",
       "      <td>-11.77</td>\n",
       "      <td>&lt;0.005</td>\n",
       "      <td>103.82</td>\n",
       "    </tr>\n",
       "    <tr>\n",
       "      <th>Joinasso</th>\n",
       "      <td>-0.46</td>\n",
       "      <td>0.63</td>\n",
       "      <td>0.23</td>\n",
       "      <td>-0.91</td>\n",
       "      <td>-0.01</td>\n",
       "      <td>0.40</td>\n",
       "      <td>0.99</td>\n",
       "      <td>-2.00</td>\n",
       "      <td>0.05</td>\n",
       "      <td>4.45</td>\n",
       "    </tr>\n",
       "    <tr>\n",
       "      <th>Background_民营系</th>\n",
       "      <td>1.12</td>\n",
       "      <td>3.08</td>\n",
       "      <td>0.51</td>\n",
       "      <td>0.13</td>\n",
       "      <td>2.12</td>\n",
       "      <td>1.14</td>\n",
       "      <td>8.32</td>\n",
       "      <td>2.22</td>\n",
       "      <td>0.03</td>\n",
       "      <td>5.23</td>\n",
       "    </tr>\n",
       "    <tr>\n",
       "      <th>Transright</th>\n",
       "      <td>-0.47</td>\n",
       "      <td>0.62</td>\n",
       "      <td>0.11</td>\n",
       "      <td>-0.68</td>\n",
       "      <td>-0.26</td>\n",
       "      <td>0.50</td>\n",
       "      <td>0.77</td>\n",
       "      <td>-4.38</td>\n",
       "      <td>&lt;0.005</td>\n",
       "      <td>16.39</td>\n",
       "    </tr>\n",
       "    <tr>\n",
       "      <th>Background_国企背景</th>\n",
       "      <td>0.59</td>\n",
       "      <td>1.80</td>\n",
       "      <td>0.54</td>\n",
       "      <td>-0.48</td>\n",
       "      <td>1.65</td>\n",
       "      <td>0.62</td>\n",
       "      <td>5.21</td>\n",
       "      <td>1.08</td>\n",
       "      <td>0.28</td>\n",
       "      <td>1.83</td>\n",
       "    </tr>\n",
       "    <tr>\n",
       "      <th>Obtaininvest</th>\n",
       "      <td>0.08</td>\n",
       "      <td>1.09</td>\n",
       "      <td>0.28</td>\n",
       "      <td>-0.47</td>\n",
       "      <td>0.64</td>\n",
       "      <td>0.62</td>\n",
       "      <td>1.90</td>\n",
       "      <td>0.29</td>\n",
       "      <td>0.77</td>\n",
       "      <td>0.38</td>\n",
       "    </tr>\n",
       "    <tr>\n",
       "      <th>Autobid</th>\n",
       "      <td>-0.19</td>\n",
       "      <td>0.83</td>\n",
       "      <td>0.09</td>\n",
       "      <td>-0.37</td>\n",
       "      <td>-0.01</td>\n",
       "      <td>0.69</td>\n",
       "      <td>0.99</td>\n",
       "      <td>-2.09</td>\n",
       "      <td>0.04</td>\n",
       "      <td>4.79</td>\n",
       "    </tr>\n",
       "    <tr>\n",
       "      <th>Thirdguarantee</th>\n",
       "      <td>-0.17</td>\n",
       "      <td>0.85</td>\n",
       "      <td>0.23</td>\n",
       "      <td>-0.61</td>\n",
       "      <td>0.28</td>\n",
       "      <td>0.54</td>\n",
       "      <td>1.32</td>\n",
       "      <td>-0.74</td>\n",
       "      <td>0.46</td>\n",
       "      <td>1.12</td>\n",
       "    </tr>\n",
       "    <tr>\n",
       "      <th>Background_风投系</th>\n",
       "      <td>0.80</td>\n",
       "      <td>2.23</td>\n",
       "      <td>0.62</td>\n",
       "      <td>-0.41</td>\n",
       "      <td>2.02</td>\n",
       "      <td>0.66</td>\n",
       "      <td>7.53</td>\n",
       "      <td>1.29</td>\n",
       "      <td>0.20</td>\n",
       "      <td>2.35</td>\n",
       "    </tr>\n",
       "    <tr>\n",
       "      <th>Riskdeposit</th>\n",
       "      <td>-0.10</td>\n",
       "      <td>0.90</td>\n",
       "      <td>0.27</td>\n",
       "      <td>-0.63</td>\n",
       "      <td>0.42</td>\n",
       "      <td>0.53</td>\n",
       "      <td>1.52</td>\n",
       "      <td>-0.39</td>\n",
       "      <td>0.70</td>\n",
       "      <td>0.52</td>\n",
       "    </tr>\n",
       "    <tr>\n",
       "      <th>RegCapital</th>\n",
       "      <td>0.00</td>\n",
       "      <td>1.00</td>\n",
       "      <td>0.00</td>\n",
       "      <td>-0.00</td>\n",
       "      <td>0.00</td>\n",
       "      <td>1.00</td>\n",
       "      <td>1.00</td>\n",
       "      <td>0.31</td>\n",
       "      <td>0.75</td>\n",
       "      <td>0.41</td>\n",
       "    </tr>\n",
       "  </tbody>\n",
       "</table><br><div>\n",
       "<style scoped>\n",
       "    .dataframe tbody tr th:only-of-type {\n",
       "        vertical-align: middle;\n",
       "    }\n",
       "\n",
       "    .dataframe tbody tr th {\n",
       "        vertical-align: top;\n",
       "    }\n",
       "\n",
       "    .dataframe thead th {\n",
       "        text-align: right;\n",
       "    }\n",
       "</style>\n",
       "<table border=\"1\" class=\"dataframe\">\n",
       "  <tbody>\n",
       "    <tr>\n",
       "      <th>Concordance</th>\n",
       "      <td>0.68</td>\n",
       "    </tr>\n",
       "    <tr>\n",
       "      <th>Partial AIC</th>\n",
       "      <td>9563.85</td>\n",
       "    </tr>\n",
       "    <tr>\n",
       "      <th>log-likelihood ratio test</th>\n",
       "      <td>327.07 on 11 df</td>\n",
       "    </tr>\n",
       "    <tr>\n",
       "      <th>-log2(p) of ll-ratio test</th>\n",
       "      <td>208.51</td>\n",
       "    </tr>\n",
       "  </tbody>\n",
       "</table>\n",
       "</div>"
      ],
      "text/latex": [
       "\\begin{tabular}{lrrrrrrrrrr}\n",
       "\\toprule\n",
       "{} &  coef &  exp(coef) &  se(coef) &  coef lower 95\\% &  coef upper 95\\% &  exp(coef) lower 95\\% &  exp(coef) upper 95\\% &      z &    p &  -log2(p) \\\\\n",
       "covariate       &       &            &           &                 &                 &                      &                      &        &      &           \\\\\n",
       "\\midrule\n",
       "Capitaldeposit  & -1.51 &       0.22 &      0.13 &           -1.76 &           -1.26 &                 0.17 &                 0.28 & -11.77 & 0.00 &    103.82 \\\\\n",
       "Joinasso        & -0.46 &       0.63 &      0.23 &           -0.91 &           -0.01 &                 0.40 &                 0.99 &  -2.00 & 0.05 &      4.45 \\\\\n",
       "Background\\_民营系  &  1.12 &       3.08 &      0.51 &            0.13 &            2.12 &                 1.14 &                 8.32 &   2.22 & 0.03 &      5.23 \\\\\n",
       "Transright      & -0.47 &       0.62 &      0.11 &           -0.68 &           -0.26 &                 0.50 &                 0.77 &  -4.38 & 0.00 &     16.39 \\\\\n",
       "Background\\_国企背景 &  0.59 &       1.80 &      0.54 &           -0.48 &            1.65 &                 0.62 &                 5.21 &   1.08 & 0.28 &      1.83 \\\\\n",
       "Obtaininvest    &  0.08 &       1.09 &      0.28 &           -0.47 &            0.64 &                 0.62 &                 1.90 &   0.29 & 0.77 &      0.38 \\\\\n",
       "Autobid         & -0.19 &       0.83 &      0.09 &           -0.37 &           -0.01 &                 0.69 &                 0.99 &  -2.09 & 0.04 &      4.79 \\\\\n",
       "Thirdguarantee  & -0.17 &       0.85 &      0.23 &           -0.61 &            0.28 &                 0.54 &                 1.32 &  -0.74 & 0.46 &      1.12 \\\\\n",
       "Background\\_风投系  &  0.80 &       2.23 &      0.62 &           -0.41 &            2.02 &                 0.66 &                 7.53 &   1.29 & 0.20 &      2.35 \\\\\n",
       "Riskdeposit     & -0.10 &       0.90 &      0.27 &           -0.63 &            0.42 &                 0.53 &                 1.52 &  -0.39 & 0.70 &      0.52 \\\\\n",
       "RegCapital      &  0.00 &       1.00 &      0.00 &           -0.00 &            0.00 &                 1.00 &                 1.00 &   0.31 & 0.75 &      0.41 \\\\\n",
       "\\bottomrule\n",
       "\\end{tabular}\n"
      ],
      "text/plain": [
       "<lifelines.CoxPHFitter: fitted with 1000 total observations, 218 right-censored observations>\n",
       "             duration col = 'Duration'\n",
       "                event col = 'Collapse'\n",
       "      baseline estimation = breslow\n",
       "   number of observations = 1000\n",
       "number of events observed = 782\n",
       "   partial log-likelihood = -4770.93\n",
       "         time fit was run = 2021-09-24 12:14:45 UTC\n",
       "\n",
       "---\n",
       "                  coef  exp(coef)   se(coef)   coef lower 95%   coef upper 95%  exp(coef) lower 95%  exp(coef) upper 95%\n",
       "covariate                                                                                                               \n",
       "Capitaldeposit   -1.51       0.22       0.13            -1.76            -1.26                 0.17                 0.28\n",
       "Joinasso         -0.46       0.63       0.23            -0.91            -0.01                 0.40                 0.99\n",
       "Background_民营系    1.12       3.08       0.51             0.13             2.12                 1.14                 8.32\n",
       "Transright       -0.47       0.62       0.11            -0.68            -0.26                 0.50                 0.77\n",
       "Background_国企背景   0.59       1.80       0.54            -0.48             1.65                 0.62                 5.21\n",
       "Obtaininvest      0.08       1.09       0.28            -0.47             0.64                 0.62                 1.90\n",
       "Autobid          -0.19       0.83       0.09            -0.37            -0.01                 0.69                 0.99\n",
       "Thirdguarantee   -0.17       0.85       0.23            -0.61             0.28                 0.54                 1.32\n",
       "Background_风投系    0.80       2.23       0.62            -0.41             2.02                 0.66                 7.53\n",
       "Riskdeposit      -0.10       0.90       0.27            -0.63             0.42                 0.53                 1.52\n",
       "RegCapital        0.00       1.00       0.00            -0.00             0.00                 1.00                 1.00\n",
       "\n",
       "                     z      p   -log2(p)\n",
       "covariate                               \n",
       "Capitaldeposit  -11.77 <0.005     103.82\n",
       "Joinasso         -2.00   0.05       4.45\n",
       "Background_民营系    2.22   0.03       5.23\n",
       "Transright       -4.38 <0.005      16.39\n",
       "Background_国企背景   1.08   0.28       1.83\n",
       "Obtaininvest      0.29   0.77       0.38\n",
       "Autobid          -2.09   0.04       4.79\n",
       "Thirdguarantee   -0.74   0.46       1.12\n",
       "Background_风投系    1.29   0.20       2.35\n",
       "Riskdeposit      -0.39   0.70       0.52\n",
       "RegCapital        0.31   0.75       0.41\n",
       "---\n",
       "Concordance = 0.68\n",
       "Partial AIC = 9563.85\n",
       "log-likelihood ratio test = 327.07 on 11 df\n",
       "-log2(p) of ll-ratio test = 208.51"
      ]
     },
     "metadata": {},
     "output_type": "display_data"
    }
   ],
   "source": [
    "cph = CoxPHFitter()\n",
    "cph.fit(data_cox, 'Duration', event_col='Collapse')\n",
    "cph.print_summary()"
   ]
  },
  {
   "cell_type": "code",
   "execution_count": 399,
   "id": "543b532f",
   "metadata": {},
   "outputs": [
    {
     "data": {
      "text/plain": [
       "<AxesSubplot:xlabel='log(HR) (95% CI)'>"
      ]
     },
     "execution_count": 399,
     "metadata": {},
     "output_type": "execute_result"
    },
    {
     "data": {
      "image/png": "[encoded data removed]",
      "text/plain": [
       "<Figure size 432x288 with 1 Axes>"
      ]
     },
     "metadata": {
      "needs_background": "light"
     },
     "output_type": "display_data"
    }
   ],
   "source": [
    "cph.plot()"
   ]
  },
  {
   "cell_type": "code",
   "execution_count": null,
   "id": "6c671817",
   "metadata": {},
   "outputs": [],
   "source": []
  }
 ],
 "metadata": {
  "kernelspec": {
   "display_name": "Python 3",
   "language": "python",
   "name": "python3"
  },
  "language_info": {
   "codemirror_mode": {
    "name": "ipython",
    "version": 3
   },
   "file_extension": ".py",
   "mimetype": "text/x-python",
   "name": "python",
   "nbconvert_exporter": "python",
   "pygments_lexer": "ipython3",
   "version": "3.8.8"
  }
 },
 "nbformat": 4,
 "nbformat_minor": 5
}
