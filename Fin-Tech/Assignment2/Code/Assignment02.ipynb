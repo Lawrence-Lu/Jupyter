{
 "cells": [
  {
   "cell_type": "markdown",
   "id": "ea95f474",
   "metadata": {},
   "source": [
    "# Content\n",
    "* [1. Renrendai loans](#1)\n",
    "   * [1.1 Data Summary](#1.1)\n",
    "   * [1.2 Feature cleanning and engenering](#1.2)\n",
    "       * [1.2.1 On Default regression](#1.2.1)\n",
    "       * [1.2.2 On Bids regression](#1.2.2)\n",
    "   * [1.3 Logit regression](#1.3)\n",
    "   * [1.4 Ols Regression](#1.4)\n",
    "* [2. P2P lending platform](#2)\n",
    "   * [2.1 Datasummary](#2.1)\n",
    "   * [2.2 Cox Model](#2.2)"
   ]
  },
  {
   "cell_type": "markdown",
   "id": "904eb0d8",
   "metadata": {},
   "source": [
    "<a id=\"1\"></a>\n",
    "## 1.Renrendai loans"
   ]
  },
  {
   "cell_type": "markdown",
   "id": "f8530b71",
   "metadata": {},
   "source": [
    "<a id=\"1.1\"></a>\n",
    "##  1.1 Data Summary\n",
    "\n",
    "In this part we overlook all the data in \"Renrendai\".   \n",
    "(1) We found there are total 10k records X 25 features.  \n",
    "Most of the features contained clean data except serval features contain incomplete data  \n",
    " (\n",
    "    EDUCATION    9996 non-null   float64  \n",
    "    WORKTIME     9994 non-null   float64  \n",
    "    INCOME       9998 non-null   float64  \n",
    "    IND          9318 non-null   object  \n",
    "    CITY         9857 non-null   object   \n",
    "    PURPOSE  9994 non -null       object\n",
    " )  \n",
    " \n",
    " (2) There are 10 features are objects including: STATUS, IND-Industry, City, Purpose, Marry, Open time, Readytime, Title  \n",
    " Description, nickname  \n",
    " 2.1) I transform time value from time to integer for further study,only keeping duration(Ready time -Open time)\n",
    " 2.2) Create dummy variables for Lable feature with few types including: Marry, Purpose, IND"
   ]
  },
  {
   "cell_type": "code",
   "execution_count": 134,
   "id": "496a9e6c",
   "metadata": {},
   "outputs": [],
   "source": [
    "import pandas as pd\n",
    "import numpy as np\n",
    "import math\n",
    "import matplotlib.pyplot as plt\n",
    "from sklearn.linear_model import LogisticRegression\n",
    "from sklearn.linear_model import LinearRegression\n",
    "from sklearn.preprocessing import PolynomialFeatures\n",
    "from sklearn.pipeline import Pipeline\n",
    "import statsmodels.api as sm\n",
    "import statsmodels.formula.api as smf\n",
    "from IPython.core.interactiveshell import InteractiveShell\n",
    "InteractiveShell.ast_node_interactivity = \"all\""
   ]
  },
  {
   "cell_type": "code",
   "execution_count": 65,
   "id": "128fcc17",
   "metadata": {},
   "outputs": [
    {
     "data": {
      "text/html": [
       "<div>\n",
       "<style scoped>\n",
       "    .dataframe tbody tr th:only-of-type {\n",
       "        vertical-align: middle;\n",
       "    }\n",
       "\n",
       "    .dataframe tbody tr th {\n",
       "        vertical-align: top;\n",
       "    }\n",
       "\n",
       "    .dataframe thead th {\n",
       "        text-align: right;\n",
       "    }\n",
       "</style>\n",
       "<table border=\"1\" class=\"dataframe\">\n",
       "  <thead>\n",
       "    <tr style=\"text-align: right;\">\n",
       "      <th></th>\n",
       "      <th>loanId</th>\n",
       "      <th>STATUS</th>\n",
       "      <th>BIDS</th>\n",
       "      <th>DEFAULT</th>\n",
       "      <th>AMOUNT</th>\n",
       "      <th>INTEREST</th>\n",
       "      <th>MONTHS</th>\n",
       "      <th>CREDIT</th>\n",
       "      <th>HOUSE</th>\n",
       "      <th>CAR</th>\n",
       "      <th>...</th>\n",
       "      <th>IND</th>\n",
       "      <th>CITY</th>\n",
       "      <th>PURPOSE</th>\n",
       "      <th>MARRY</th>\n",
       "      <th>AGE</th>\n",
       "      <th>opentime</th>\n",
       "      <th>readytime</th>\n",
       "      <th>title</th>\n",
       "      <th>description</th>\n",
       "      <th>nickName</th>\n",
       "    </tr>\n",
       "  </thead>\n",
       "  <tbody>\n",
       "    <tr>\n",
       "      <th>0</th>\n",
       "      <td>2</td>\n",
       "      <td>CLOSED</td>\n",
       "      <td>9</td>\n",
       "      <td>0</td>\n",
       "      <td>3000</td>\n",
       "      <td>5.0</td>\n",
       "      <td>6</td>\n",
       "      <td>7</td>\n",
       "      <td>1</td>\n",
       "      <td>1</td>\n",
       "      <td>...</td>\n",
       "      <td>IT</td>\n",
       "      <td>北京</td>\n",
       "      <td>其他借款</td>\n",
       "      <td>未婚</td>\n",
       "      <td>33</td>\n",
       "      <td>2010/10/12 17:17</td>\n",
       "      <td>2010/10/15 11:00</td>\n",
       "      <td>庆祝上线</td>\n",
       "      <td>看着人人贷经过精心的筹备,和长时间的内测,终于正式和大家见面了.特地来发个标, 希望大家多多...</td>\n",
       "      <td>一夫</td>\n",
       "    </tr>\n",
       "    <tr>\n",
       "      <th>1</th>\n",
       "      <td>11</td>\n",
       "      <td>CLOSED</td>\n",
       "      <td>8</td>\n",
       "      <td>0</td>\n",
       "      <td>3000</td>\n",
       "      <td>18.0</td>\n",
       "      <td>3</td>\n",
       "      <td>3</td>\n",
       "      <td>0</td>\n",
       "      <td>0</td>\n",
       "      <td>...</td>\n",
       "      <td>教育/培训</td>\n",
       "      <td>北京</td>\n",
       "      <td>其他借款</td>\n",
       "      <td>未婚</td>\n",
       "      <td>37</td>\n",
       "      <td>2010/10/18 16:40</td>\n",
       "      <td>2010/10/21 17:07</td>\n",
       "      <td>增加信用，重新发布借款</td>\n",
       "      <td>第一次借款不幸失败，这次特意做了收入审核。希望之前支持的朋友继续支持我，新朋友也可以看看我做...</td>\n",
       "      <td>郭遐</td>\n",
       "    </tr>\n",
       "    <tr>\n",
       "      <th>2</th>\n",
       "      <td>16</td>\n",
       "      <td>CLOSED</td>\n",
       "      <td>8</td>\n",
       "      <td>0</td>\n",
       "      <td>3000</td>\n",
       "      <td>12.0</td>\n",
       "      <td>12</td>\n",
       "      <td>3</td>\n",
       "      <td>0</td>\n",
       "      <td>0</td>\n",
       "      <td>...</td>\n",
       "      <td>教育/培训</td>\n",
       "      <td>北京</td>\n",
       "      <td>其他借款</td>\n",
       "      <td>未婚</td>\n",
       "      <td>37</td>\n",
       "      <td>2010/10/21 17:26</td>\n",
       "      <td>2010/10/28 14:35</td>\n",
       "      <td>积累信用，继续发标</td>\n",
       "      <td>做过收入认证果然不一样，第一次发标失败了，第二次做了收入认证很快就满标了。 这次降低一点利率...</td>\n",
       "      <td>郭遐</td>\n",
       "    </tr>\n",
       "    <tr>\n",
       "      <th>3</th>\n",
       "      <td>19</td>\n",
       "      <td>CLOSED</td>\n",
       "      <td>11</td>\n",
       "      <td>0</td>\n",
       "      <td>3000</td>\n",
       "      <td>8.8</td>\n",
       "      <td>12</td>\n",
       "      <td>7</td>\n",
       "      <td>1</td>\n",
       "      <td>1</td>\n",
       "      <td>...</td>\n",
       "      <td>IT</td>\n",
       "      <td>北京</td>\n",
       "      <td>其他借款</td>\n",
       "      <td>未婚</td>\n",
       "      <td>33</td>\n",
       "      <td>2010/10/25 17:19</td>\n",
       "      <td>2010/10/28 20:58</td>\n",
       "      <td>信用与人人贷一起进步</td>\n",
       "      <td>刚才提前还清了第一笔借款，以证明自己的信用。再次发标只为继续积累信用和人气。希望朋友们投标。...</td>\n",
       "      <td>一夫</td>\n",
       "    </tr>\n",
       "    <tr>\n",
       "      <th>4</th>\n",
       "      <td>20</td>\n",
       "      <td>CLOSED</td>\n",
       "      <td>15</td>\n",
       "      <td>0</td>\n",
       "      <td>5000</td>\n",
       "      <td>15.0</td>\n",
       "      <td>12</td>\n",
       "      <td>7</td>\n",
       "      <td>0</td>\n",
       "      <td>1</td>\n",
       "      <td>...</td>\n",
       "      <td>其它</td>\n",
       "      <td>北京</td>\n",
       "      <td>个人消费</td>\n",
       "      <td>未婚</td>\n",
       "      <td>33</td>\n",
       "      <td>2010/10/26 14:29</td>\n",
       "      <td>2010/10/28 14:34</td>\n",
       "      <td>刚刚搬出来自己住，借钱添置些东西</td>\n",
       "      <td>工作也有两年多了，打算自己搬出来住了. 房子已经租好了，跟一个朋友合住，我一个月出1200....</td>\n",
       "      <td>小猫Mia</td>\n",
       "    </tr>\n",
       "  </tbody>\n",
       "</table>\n",
       "<p>5 rows × 25 columns</p>\n",
       "</div>"
      ],
      "text/plain": [
       "   loanId  STATUS  BIDS  DEFAULT  AMOUNT  INTEREST  MONTHS  CREDIT  HOUSE  \\\n",
       "0       2  CLOSED     9        0    3000       5.0       6       7      1   \n",
       "1      11  CLOSED     8        0    3000      18.0       3       3      0   \n",
       "2      16  CLOSED     8        0    3000      12.0      12       3      0   \n",
       "3      19  CLOSED    11        0    3000       8.8      12       7      1   \n",
       "4      20  CLOSED    15        0    5000      15.0      12       7      0   \n",
       "\n",
       "   CAR  ...    IND  CITY  PURPOSE  MARRY  AGE          opentime  \\\n",
       "0    1  ...     IT    北京     其他借款     未婚   33  2010/10/12 17:17   \n",
       "1    0  ...  教育/培训    北京     其他借款     未婚   37  2010/10/18 16:40   \n",
       "2    0  ...  教育/培训    北京     其他借款     未婚   37  2010/10/21 17:26   \n",
       "3    1  ...     IT    北京     其他借款     未婚   33  2010/10/25 17:19   \n",
       "4    1  ...     其它    北京     个人消费     未婚   33  2010/10/26 14:29   \n",
       "\n",
       "          readytime             title  \\\n",
       "0  2010/10/15 11:00              庆祝上线   \n",
       "1  2010/10/21 17:07       增加信用，重新发布借款   \n",
       "2  2010/10/28 14:35         积累信用，继续发标   \n",
       "3  2010/10/28 20:58        信用与人人贷一起进步   \n",
       "4  2010/10/28 14:34  刚刚搬出来自己住，借钱添置些东西   \n",
       "\n",
       "                                         description  nickName  \n",
       "0  看着人人贷经过精心的筹备,和长时间的内测,终于正式和大家见面了.特地来发个标, 希望大家多多...        一夫  \n",
       "1  第一次借款不幸失败，这次特意做了收入审核。希望之前支持的朋友继续支持我，新朋友也可以看看我做...        郭遐  \n",
       "2  做过收入认证果然不一样，第一次发标失败了，第二次做了收入认证很快就满标了。 这次降低一点利率...        郭遐  \n",
       "3  刚才提前还清了第一笔借款，以证明自己的信用。再次发标只为继续积累信用和人气。希望朋友们投标。...        一夫  \n",
       "4  工作也有两年多了，打算自己搬出来住了. 房子已经租好了，跟一个朋友合住，我一个月出1200....     小猫Mia  \n",
       "\n",
       "[5 rows x 25 columns]"
      ]
     },
     "execution_count": 65,
     "metadata": {},
     "output_type": "execute_result"
    }
   ],
   "source": [
    "data = pd.read_csv(r\"..\\Week 2 Assignment\\loanraw.csv\",encoding=\"gbk\")\n",
    "data.head()"
   ]
  },
  {
   "cell_type": "code",
   "execution_count": 66,
   "id": "1f420fe4",
   "metadata": {},
   "outputs": [
    {
     "data": {
      "text/plain": [
       "(10000, 25)"
      ]
     },
     "execution_count": 66,
     "metadata": {},
     "output_type": "execute_result"
    }
   ],
   "source": [
    "data.shape"
   ]
  },
  {
   "cell_type": "code",
   "execution_count": 67,
   "id": "e1f26b6a",
   "metadata": {},
   "outputs": [
    {
     "name": "stdout",
     "output_type": "stream",
     "text": [
      "<class 'pandas.core.frame.DataFrame'>\n",
      "RangeIndex: 10000 entries, 0 to 9999\n",
      "Data columns (total 25 columns):\n",
      " #   Column       Non-Null Count  Dtype  \n",
      "---  ------       --------------  -----  \n",
      " 0   loanId       10000 non-null  int64  \n",
      " 1   STATUS       10000 non-null  object \n",
      " 2   BIDS         10000 non-null  int64  \n",
      " 3   DEFAULT      10000 non-null  int64  \n",
      " 4   AMOUNT       10000 non-null  int64  \n",
      " 5   INTEREST     10000 non-null  float64\n",
      " 6   MONTHS       10000 non-null  int64  \n",
      " 7   CREDIT       10000 non-null  int64  \n",
      " 8   HOUSE        10000 non-null  int64  \n",
      " 9   CAR          10000 non-null  int64  \n",
      " 10  HOUSE_L      10000 non-null  int64  \n",
      " 11  CAR_L        10000 non-null  int64  \n",
      " 12  EDUCATION    9996 non-null   float64\n",
      " 13  WORKTIME     9994 non-null   float64\n",
      " 14  INCOME       9998 non-null   float64\n",
      " 15  IND          9318 non-null   object \n",
      " 16  CITY         9857 non-null   object \n",
      " 17  PURPOSE      9994 non-null   object \n",
      " 18  MARRY        10000 non-null  object \n",
      " 19  AGE          10000 non-null  int64  \n",
      " 20  opentime     10000 non-null  object \n",
      " 21  readytime    10000 non-null  object \n",
      " 22  title        10000 non-null  object \n",
      " 23  description  10000 non-null  object \n",
      " 24  nickName     10000 non-null  object \n",
      "dtypes: float64(4), int64(11), object(10)\n",
      "memory usage: 1.9+ MB\n"
     ]
    }
   ],
   "source": [
    "data.info()"
   ]
  },
  {
   "cell_type": "markdown",
   "id": "817cd834",
   "metadata": {},
   "source": [
    "### Construct new feature \"duration\" \n",
    "based on the gap between \"readytime\" and \"opentime\" (accurate to hour), using day as unit"
   ]
  },
  {
   "cell_type": "code",
   "execution_count": 68,
   "id": "2dbe5dab",
   "metadata": {},
   "outputs": [
    {
     "data": {
      "text/plain": [
       "count    10000.000000\n",
       "mean         3.769125\n",
       "std          4.548706\n",
       "min         -0.500000\n",
       "25%          0.000000\n",
       "50%          2.625000\n",
       "75%          5.708333\n",
       "max         37.375000\n",
       "Name: duration, dtype: float64"
      ]
     },
     "execution_count": 68,
     "metadata": {},
     "output_type": "execute_result"
    }
   ],
   "source": [
    "data['duration'] = (pd.to_datetime(data[\"readytime\"]) - pd.to_datetime(data[\"opentime\"])).astype('timedelta64[h]').astype(float)/24\n",
    "data.describe()['duration']"
   ]
  },
  {
   "cell_type": "markdown",
   "id": "457049b4",
   "metadata": {},
   "source": [
    "### Construct new dummy variables for label features \n",
    "MARRY: 4 possible status\n",
    "PURPOSE: 10 possible status\n",
    "IND : 20 possible status"
   ]
  },
  {
   "cell_type": "code",
   "execution_count": 69,
   "id": "a1cc6f59",
   "metadata": {},
   "outputs": [],
   "source": [
    "data_2 = pd.get_dummies(data,columns=[\"MARRY\",\"PURPOSE\",\"IND\"])"
   ]
  },
  {
   "cell_type": "code",
   "execution_count": 70,
   "id": "ad95ea52",
   "metadata": {},
   "outputs": [
    {
     "data": {
      "text/plain": [
       "Index(['loanId', 'STATUS', 'BIDS', 'DEFAULT', 'AMOUNT', 'INTEREST', 'MONTHS',\n",
       "       'CREDIT', 'HOUSE', 'CAR', 'HOUSE_L', 'CAR_L', 'EDUCATION', 'WORKTIME',\n",
       "       'INCOME', 'CITY', 'AGE', 'opentime', 'readytime', 'title',\n",
       "       'description', 'nickName', 'duration', 'MARRY_丧偶', 'MARRY_已婚',\n",
       "       'MARRY_未婚', 'MARRY_离异', 'PURPOSE_个人消费', 'PURPOSE_其他借款', 'PURPOSE_医疗支出',\n",
       "       'PURPOSE_婚礼筹备', 'PURPOSE_投资创业', 'PURPOSE_教育培训', 'PURPOSE_短期周转',\n",
       "       'PURPOSE_装修借款', 'PURPOSE_购房借款', 'PURPOSE_购车借款', 'IND_IT', 'IND_交通运输业',\n",
       "       'IND_体育/艺术', 'IND_公共事业', 'IND_公益组织', 'IND_其它', 'IND_农业', 'IND_制造业',\n",
       "       'IND_医疗/卫生/保健', 'IND_娱乐服务业', 'IND_媒体/广告', 'IND_建筑工程', 'IND_房地产业',\n",
       "       'IND_政府机关', 'IND_教育/培训', 'IND_能源业', 'IND_计算机系统', 'IND_金融/法律',\n",
       "       'IND_零售/批发', 'IND_餐饮/旅馆业'],\n",
       "      dtype='object')"
      ]
     },
     "execution_count": 70,
     "metadata": {},
     "output_type": "execute_result"
    }
   ],
   "source": [
    "data_2.columns"
   ]
  },
  {
   "cell_type": "markdown",
   "id": "9309dde2",
   "metadata": {},
   "source": [
    "### Data summary based on experience\n",
    "Bowrrer characteristics: Credit, car, house, education, worktime, Income   \n",
    "Loan characteristics: Amount, interest,MONTHS, duration"
   ]
  },
  {
   "cell_type": "code",
   "execution_count": 144,
   "id": "0ce0f4d0",
   "metadata": {},
   "outputs": [
    {
     "data": {
      "text/html": [
       "<div>\n",
       "<style scoped>\n",
       "    .dataframe tbody tr th:only-of-type {\n",
       "        vertical-align: middle;\n",
       "    }\n",
       "\n",
       "    .dataframe tbody tr th {\n",
       "        vertical-align: top;\n",
       "    }\n",
       "\n",
       "    .dataframe thead th {\n",
       "        text-align: right;\n",
       "    }\n",
       "</style>\n",
       "<table border=\"1\" class=\"dataframe\">\n",
       "  <thead>\n",
       "    <tr style=\"text-align: right;\">\n",
       "      <th></th>\n",
       "      <th>CREDIT</th>\n",
       "      <th>CAR</th>\n",
       "      <th>HOUSE</th>\n",
       "      <th>EDUCATION</th>\n",
       "      <th>INCOME</th>\n",
       "      <th>WORKTIME</th>\n",
       "    </tr>\n",
       "  </thead>\n",
       "  <tbody>\n",
       "    <tr>\n",
       "      <th>count</th>\n",
       "      <td>10000.00000</td>\n",
       "      <td>10000.000000</td>\n",
       "      <td>10000.000000</td>\n",
       "      <td>10000.000000</td>\n",
       "      <td>10000.000000</td>\n",
       "      <td>10000.000000</td>\n",
       "    </tr>\n",
       "    <tr>\n",
       "      <th>mean</th>\n",
       "      <td>2.14630</td>\n",
       "      <td>0.391700</td>\n",
       "      <td>0.564500</td>\n",
       "      <td>2.165900</td>\n",
       "      <td>4.309100</td>\n",
       "      <td>2.838100</td>\n",
       "    </tr>\n",
       "    <tr>\n",
       "      <th>std</th>\n",
       "      <td>1.53099</td>\n",
       "      <td>0.488155</td>\n",
       "      <td>0.495847</td>\n",
       "      <td>0.817951</td>\n",
       "      <td>1.335715</td>\n",
       "      <td>0.992465</td>\n",
       "    </tr>\n",
       "    <tr>\n",
       "      <th>min</th>\n",
       "      <td>1.00000</td>\n",
       "      <td>0.000000</td>\n",
       "      <td>0.000000</td>\n",
       "      <td>1.000000</td>\n",
       "      <td>1.000000</td>\n",
       "      <td>1.000000</td>\n",
       "    </tr>\n",
       "    <tr>\n",
       "      <th>25%</th>\n",
       "      <td>1.00000</td>\n",
       "      <td>0.000000</td>\n",
       "      <td>0.000000</td>\n",
       "      <td>2.000000</td>\n",
       "      <td>3.000000</td>\n",
       "      <td>2.000000</td>\n",
       "    </tr>\n",
       "    <tr>\n",
       "      <th>50%</th>\n",
       "      <td>2.00000</td>\n",
       "      <td>0.000000</td>\n",
       "      <td>1.000000</td>\n",
       "      <td>2.000000</td>\n",
       "      <td>4.000000</td>\n",
       "      <td>3.000000</td>\n",
       "    </tr>\n",
       "    <tr>\n",
       "      <th>75%</th>\n",
       "      <td>3.00000</td>\n",
       "      <td>1.000000</td>\n",
       "      <td>1.000000</td>\n",
       "      <td>3.000000</td>\n",
       "      <td>5.000000</td>\n",
       "      <td>4.000000</td>\n",
       "    </tr>\n",
       "    <tr>\n",
       "      <th>max</th>\n",
       "      <td>7.00000</td>\n",
       "      <td>1.000000</td>\n",
       "      <td>1.000000</td>\n",
       "      <td>4.000000</td>\n",
       "      <td>7.000000</td>\n",
       "      <td>4.000000</td>\n",
       "    </tr>\n",
       "  </tbody>\n",
       "</table>\n",
       "</div>"
      ],
      "text/plain": [
       "            CREDIT           CAR         HOUSE     EDUCATION        INCOME  \\\n",
       "count  10000.00000  10000.000000  10000.000000  10000.000000  10000.000000   \n",
       "mean       2.14630      0.391700      0.564500      2.165900      4.309100   \n",
       "std        1.53099      0.488155      0.495847      0.817951      1.335715   \n",
       "min        1.00000      0.000000      0.000000      1.000000      1.000000   \n",
       "25%        1.00000      0.000000      0.000000      2.000000      3.000000   \n",
       "50%        2.00000      0.000000      1.000000      2.000000      4.000000   \n",
       "75%        3.00000      1.000000      1.000000      3.000000      5.000000   \n",
       "max        7.00000      1.000000      1.000000      4.000000      7.000000   \n",
       "\n",
       "           WORKTIME  \n",
       "count  10000.000000  \n",
       "mean       2.838100  \n",
       "std        0.992465  \n",
       "min        1.000000  \n",
       "25%        2.000000  \n",
       "50%        3.000000  \n",
       "75%        4.000000  \n",
       "max        4.000000  "
      ]
     },
     "execution_count": 144,
     "metadata": {},
     "output_type": "execute_result"
    }
   ],
   "source": [
    "data_2.describe()[[\"CREDIT\",\"CAR\",\"HOUSE\",\"EDUCATION\",\"INCOME\",\"WORKTIME\"]]"
   ]
  },
  {
   "cell_type": "code",
   "execution_count": 72,
   "id": "d4be305e",
   "metadata": {},
   "outputs": [
    {
     "data": {
      "text/html": [
       "<div>\n",
       "<style scoped>\n",
       "    .dataframe tbody tr th:only-of-type {\n",
       "        vertical-align: middle;\n",
       "    }\n",
       "\n",
       "    .dataframe tbody tr th {\n",
       "        vertical-align: top;\n",
       "    }\n",
       "\n",
       "    .dataframe thead th {\n",
       "        text-align: right;\n",
       "    }\n",
       "</style>\n",
       "<table border=\"1\" class=\"dataframe\">\n",
       "  <thead>\n",
       "    <tr style=\"text-align: right;\">\n",
       "      <th></th>\n",
       "      <th>AMOUNT</th>\n",
       "      <th>INTEREST</th>\n",
       "      <th>MONTHS</th>\n",
       "      <th>duration</th>\n",
       "    </tr>\n",
       "  </thead>\n",
       "  <tbody>\n",
       "    <tr>\n",
       "      <th>count</th>\n",
       "      <td>10000.000000</td>\n",
       "      <td>10000.000000</td>\n",
       "      <td>10000.00000</td>\n",
       "      <td>10000.000000</td>\n",
       "    </tr>\n",
       "    <tr>\n",
       "      <th>mean</th>\n",
       "      <td>24545.835000</td>\n",
       "      <td>12.621900</td>\n",
       "      <td>12.23730</td>\n",
       "      <td>3.769125</td>\n",
       "    </tr>\n",
       "    <tr>\n",
       "      <th>std</th>\n",
       "      <td>38280.756524</td>\n",
       "      <td>2.273689</td>\n",
       "      <td>8.09109</td>\n",
       "      <td>4.548706</td>\n",
       "    </tr>\n",
       "    <tr>\n",
       "      <th>min</th>\n",
       "      <td>3000.000000</td>\n",
       "      <td>5.000000</td>\n",
       "      <td>3.00000</td>\n",
       "      <td>-0.500000</td>\n",
       "    </tr>\n",
       "    <tr>\n",
       "      <th>25%</th>\n",
       "      <td>8000.000000</td>\n",
       "      <td>11.000000</td>\n",
       "      <td>6.00000</td>\n",
       "      <td>0.000000</td>\n",
       "    </tr>\n",
       "    <tr>\n",
       "      <th>50%</th>\n",
       "      <td>14400.000000</td>\n",
       "      <td>12.000000</td>\n",
       "      <td>12.00000</td>\n",
       "      <td>2.625000</td>\n",
       "    </tr>\n",
       "    <tr>\n",
       "      <th>75%</th>\n",
       "      <td>26000.000000</td>\n",
       "      <td>13.000000</td>\n",
       "      <td>12.00000</td>\n",
       "      <td>5.708333</td>\n",
       "    </tr>\n",
       "    <tr>\n",
       "      <th>max</th>\n",
       "      <td>500000.000000</td>\n",
       "      <td>24.400000</td>\n",
       "      <td>36.00000</td>\n",
       "      <td>37.375000</td>\n",
       "    </tr>\n",
       "  </tbody>\n",
       "</table>\n",
       "</div>"
      ],
      "text/plain": [
       "              AMOUNT      INTEREST       MONTHS      duration\n",
       "count   10000.000000  10000.000000  10000.00000  10000.000000\n",
       "mean    24545.835000     12.621900     12.23730      3.769125\n",
       "std     38280.756524      2.273689      8.09109      4.548706\n",
       "min      3000.000000      5.000000      3.00000     -0.500000\n",
       "25%      8000.000000     11.000000      6.00000      0.000000\n",
       "50%     14400.000000     12.000000     12.00000      2.625000\n",
       "75%     26000.000000     13.000000     12.00000      5.708333\n",
       "max    500000.000000     24.400000     36.00000     37.375000"
      ]
     },
     "execution_count": 72,
     "metadata": {},
     "output_type": "execute_result"
    }
   ],
   "source": [
    "data_2.describe()[[\"AMOUNT\",\"INTEREST\",\"MONTHS\",\"duration\"]]"
   ]
  },
  {
   "cell_type": "markdown",
   "id": "a4db700b",
   "metadata": {},
   "source": [
    "<a id=\"1.2\"></a>\n",
    "## 1.2 Feature cleaning and engineering\n",
    "1. Key Variables for Default regression\n",
    "2. Key variables for Bids regression"
   ]
  },
  {
   "cell_type": "markdown",
   "id": "3e235456",
   "metadata": {},
   "source": [
    "<a id=\"1.2.1\"></a>\n",
    "### 1.2.1 On Default regression\n",
    "(1) Based on the result, I just take the four features ahead of loanId.  \n",
    "(EDUCATION feature needs to be clean up: Because the number of missing records is small and variance is small and it belongs to discrete feature. I simply use median to fill the null value)  "
   ]
  },
  {
   "cell_type": "markdown",
   "id": "83fba510",
   "metadata": {},
   "source": [
    "There are no missing records in BIDS"
   ]
  },
  {
   "cell_type": "code",
   "execution_count": 73,
   "id": "d87bf97e",
   "metadata": {},
   "outputs": [
    {
     "data": {
      "text/plain": [
       "0    8487\n",
       "1    1513\n",
       "Name: DEFAULT, dtype: int64"
      ]
     },
     "execution_count": 73,
     "metadata": {},
     "output_type": "execute_result"
    }
   ],
   "source": [
    "data_2[\"DEFAULT\"].value_counts()"
   ]
  },
  {
   "cell_type": "markdown",
   "id": "54ba477e",
   "metadata": {},
   "source": [
    "### Correlatin test\n",
    "Based on the result, I pick "
   ]
  },
  {
   "cell_type": "code",
   "execution_count": 74,
   "id": "12f56f76",
   "metadata": {},
   "outputs": [
    {
     "data": {
      "text/plain": [
       "DEFAULT         1.000000\n",
       "CREDIT          0.292815\n",
       "MONTHS          0.274555\n",
       "EDUCATION       0.154944\n",
       "CAR             0.095841\n",
       "loanId          0.094200\n",
       "INTEREST        0.082417\n",
       "MARRY_离异        0.080191\n",
       "PURPOSE_装修借款    0.072103\n",
       "HOUSE_L         0.070177\n",
       "PURPOSE_购车借款    0.059450\n",
       "Name: DEFAULT, dtype: float64"
      ]
     },
     "execution_count": 74,
     "metadata": {},
     "output_type": "execute_result"
    }
   ],
   "source": [
    "abs(data_2.corr()[\"DEFAULT\"]).sort_values(ascending=False)[0:11]"
   ]
  },
  {
   "cell_type": "code",
   "execution_count": 75,
   "id": "8a594c98",
   "metadata": {},
   "outputs": [
    {
     "data": {
      "text/html": [
       "<div>\n",
       "<style scoped>\n",
       "    .dataframe tbody tr th:only-of-type {\n",
       "        vertical-align: middle;\n",
       "    }\n",
       "\n",
       "    .dataframe tbody tr th {\n",
       "        vertical-align: top;\n",
       "    }\n",
       "\n",
       "    .dataframe thead th {\n",
       "        text-align: right;\n",
       "    }\n",
       "</style>\n",
       "<table border=\"1\" class=\"dataframe\">\n",
       "  <thead>\n",
       "    <tr style=\"text-align: right;\">\n",
       "      <th></th>\n",
       "      <th>CREDIT</th>\n",
       "      <th>MONTHS</th>\n",
       "      <th>EDUCATION</th>\n",
       "      <th>CAR</th>\n",
       "    </tr>\n",
       "  </thead>\n",
       "  <tbody>\n",
       "    <tr>\n",
       "      <th>count</th>\n",
       "      <td>10000.00000</td>\n",
       "      <td>10000.00000</td>\n",
       "      <td>9996.000000</td>\n",
       "      <td>10000.000000</td>\n",
       "    </tr>\n",
       "    <tr>\n",
       "      <th>mean</th>\n",
       "      <td>2.14630</td>\n",
       "      <td>12.23730</td>\n",
       "      <td>2.165966</td>\n",
       "      <td>0.391700</td>\n",
       "    </tr>\n",
       "    <tr>\n",
       "      <th>std</th>\n",
       "      <td>1.53099</td>\n",
       "      <td>8.09109</td>\n",
       "      <td>0.818108</td>\n",
       "      <td>0.488155</td>\n",
       "    </tr>\n",
       "    <tr>\n",
       "      <th>min</th>\n",
       "      <td>1.00000</td>\n",
       "      <td>3.00000</td>\n",
       "      <td>1.000000</td>\n",
       "      <td>0.000000</td>\n",
       "    </tr>\n",
       "    <tr>\n",
       "      <th>25%</th>\n",
       "      <td>1.00000</td>\n",
       "      <td>6.00000</td>\n",
       "      <td>2.000000</td>\n",
       "      <td>0.000000</td>\n",
       "    </tr>\n",
       "    <tr>\n",
       "      <th>50%</th>\n",
       "      <td>2.00000</td>\n",
       "      <td>12.00000</td>\n",
       "      <td>2.000000</td>\n",
       "      <td>0.000000</td>\n",
       "    </tr>\n",
       "    <tr>\n",
       "      <th>75%</th>\n",
       "      <td>3.00000</td>\n",
       "      <td>12.00000</td>\n",
       "      <td>3.000000</td>\n",
       "      <td>1.000000</td>\n",
       "    </tr>\n",
       "    <tr>\n",
       "      <th>max</th>\n",
       "      <td>7.00000</td>\n",
       "      <td>36.00000</td>\n",
       "      <td>4.000000</td>\n",
       "      <td>1.000000</td>\n",
       "    </tr>\n",
       "  </tbody>\n",
       "</table>\n",
       "</div>"
      ],
      "text/plain": [
       "            CREDIT       MONTHS    EDUCATION           CAR\n",
       "count  10000.00000  10000.00000  9996.000000  10000.000000\n",
       "mean       2.14630     12.23730     2.165966      0.391700\n",
       "std        1.53099      8.09109     0.818108      0.488155\n",
       "min        1.00000      3.00000     1.000000      0.000000\n",
       "25%        1.00000      6.00000     2.000000      0.000000\n",
       "50%        2.00000     12.00000     2.000000      0.000000\n",
       "75%        3.00000     12.00000     3.000000      1.000000\n",
       "max        7.00000     36.00000     4.000000      1.000000"
      ]
     },
     "execution_count": 75,
     "metadata": {},
     "output_type": "execute_result"
    }
   ],
   "source": [
    "data_2.describe()[[\"CREDIT\",\"MONTHS\",\"EDUCATION\",\"CAR\"]]"
   ]
  },
  {
   "cell_type": "markdown",
   "id": "9f9c968b",
   "metadata": {},
   "source": [
    "#### Filling null value in EDUCATION feature "
   ]
  },
  {
   "cell_type": "code",
   "execution_count": 76,
   "id": "e62cc8ef",
   "metadata": {},
   "outputs": [
    {
     "name": "stderr",
     "output_type": "stream",
     "text": [
      "<ipython-input-76-2bafad20e43f>:1: SettingWithCopyWarning: \n",
      "A value is trying to be set on a copy of a slice from a DataFrame\n",
      "\n",
      "See the caveats in the documentation: https://pandas.pydata.org/pandas-docs/stable/user_guide/indexing.html#returning-a-view-versus-a-copy\n",
      "  data_2[\"EDUCATION\"][data_2[\"EDUCATION\"].isnull()] = data_2[\"EDUCATION\"].median()\n"
     ]
    }
   ],
   "source": [
    "data_2[\"EDUCATION\"][data_2[\"EDUCATION\"].isnull()] = data_2[\"EDUCATION\"].median()"
   ]
  },
  {
   "cell_type": "code",
   "execution_count": 77,
   "id": "189071ac",
   "metadata": {},
   "outputs": [
    {
     "data": {
      "text/html": [
       "<div>\n",
       "<style scoped>\n",
       "    .dataframe tbody tr th:only-of-type {\n",
       "        vertical-align: middle;\n",
       "    }\n",
       "\n",
       "    .dataframe tbody tr th {\n",
       "        vertical-align: top;\n",
       "    }\n",
       "\n",
       "    .dataframe thead th {\n",
       "        text-align: right;\n",
       "    }\n",
       "</style>\n",
       "<table border=\"1\" class=\"dataframe\">\n",
       "  <thead>\n",
       "    <tr style=\"text-align: right;\">\n",
       "      <th></th>\n",
       "      <th>CREDIT</th>\n",
       "      <th>MONTHS</th>\n",
       "      <th>EDUCATION</th>\n",
       "      <th>CAR</th>\n",
       "    </tr>\n",
       "  </thead>\n",
       "  <tbody>\n",
       "    <tr>\n",
       "      <th>count</th>\n",
       "      <td>10000.00000</td>\n",
       "      <td>10000.00000</td>\n",
       "      <td>10000.000000</td>\n",
       "      <td>10000.000000</td>\n",
       "    </tr>\n",
       "    <tr>\n",
       "      <th>mean</th>\n",
       "      <td>2.14630</td>\n",
       "      <td>12.23730</td>\n",
       "      <td>2.165900</td>\n",
       "      <td>0.391700</td>\n",
       "    </tr>\n",
       "    <tr>\n",
       "      <th>std</th>\n",
       "      <td>1.53099</td>\n",
       "      <td>8.09109</td>\n",
       "      <td>0.817951</td>\n",
       "      <td>0.488155</td>\n",
       "    </tr>\n",
       "    <tr>\n",
       "      <th>min</th>\n",
       "      <td>1.00000</td>\n",
       "      <td>3.00000</td>\n",
       "      <td>1.000000</td>\n",
       "      <td>0.000000</td>\n",
       "    </tr>\n",
       "    <tr>\n",
       "      <th>25%</th>\n",
       "      <td>1.00000</td>\n",
       "      <td>6.00000</td>\n",
       "      <td>2.000000</td>\n",
       "      <td>0.000000</td>\n",
       "    </tr>\n",
       "    <tr>\n",
       "      <th>50%</th>\n",
       "      <td>2.00000</td>\n",
       "      <td>12.00000</td>\n",
       "      <td>2.000000</td>\n",
       "      <td>0.000000</td>\n",
       "    </tr>\n",
       "    <tr>\n",
       "      <th>75%</th>\n",
       "      <td>3.00000</td>\n",
       "      <td>12.00000</td>\n",
       "      <td>3.000000</td>\n",
       "      <td>1.000000</td>\n",
       "    </tr>\n",
       "    <tr>\n",
       "      <th>max</th>\n",
       "      <td>7.00000</td>\n",
       "      <td>36.00000</td>\n",
       "      <td>4.000000</td>\n",
       "      <td>1.000000</td>\n",
       "    </tr>\n",
       "  </tbody>\n",
       "</table>\n",
       "</div>"
      ],
      "text/plain": [
       "            CREDIT       MONTHS     EDUCATION           CAR\n",
       "count  10000.00000  10000.00000  10000.000000  10000.000000\n",
       "mean       2.14630     12.23730      2.165900      0.391700\n",
       "std        1.53099      8.09109      0.817951      0.488155\n",
       "min        1.00000      3.00000      1.000000      0.000000\n",
       "25%        1.00000      6.00000      2.000000      0.000000\n",
       "50%        2.00000     12.00000      2.000000      0.000000\n",
       "75%        3.00000     12.00000      3.000000      1.000000\n",
       "max        7.00000     36.00000      4.000000      1.000000"
      ]
     },
     "execution_count": 77,
     "metadata": {},
     "output_type": "execute_result"
    }
   ],
   "source": [
    "data_2.describe()[[\"CREDIT\",\"MONTHS\",\"EDUCATION\",\"CAR\"]]"
   ]
  },
  {
   "cell_type": "markdown",
   "id": "ce3fbd84",
   "metadata": {},
   "source": [
    "<a id=\"1.2.2\"></a>\n",
    "### 1.2.2 On Bids regression\n",
    "1.Based on the correlation test result, I found there are far more features are highly relevant to BIDS  \n",
    "I select features ranking high from highest AMOUNT to INTEREST  \n",
    "There are few missing records in INCOME and WORKTIME. Similar to CAR, I simply use median value to fill the records."
   ]
  },
  {
   "cell_type": "markdown",
   "id": "7760bb42",
   "metadata": {},
   "source": [
    "There are no missing records in BIDS"
   ]
  },
  {
   "cell_type": "code",
   "execution_count": 82,
   "id": "824258ef",
   "metadata": {},
   "outputs": [
    {
     "data": {
      "text/plain": [
       "count    10000.000000\n",
       "mean        24.150600\n",
       "std         41.342608\n",
       "min          1.000000\n",
       "25%          9.000000\n",
       "50%         15.000000\n",
       "75%         24.000000\n",
       "max        592.000000\n",
       "Name: BIDS, dtype: float64"
      ]
     },
     "execution_count": 82,
     "metadata": {},
     "output_type": "execute_result"
    }
   ],
   "source": [
    "data_2.describe()['BIDS']"
   ]
  },
  {
   "cell_type": "code",
   "execution_count": 79,
   "id": "51598169",
   "metadata": {},
   "outputs": [
    {
     "data": {
      "text/plain": [
       "AMOUNT          0.809234\n",
       "INCOME          0.357055\n",
       "AGE             0.257725\n",
       "IND_制造业         0.188173\n",
       "CAR             0.183072\n",
       "loanId          0.159011\n",
       "WORKTIME        0.139645\n",
       "CREDIT          0.122454\n",
       "MARRY_已婚        0.122299\n",
       "MARRY_未婚        0.117044\n",
       "PURPOSE_其他借款    0.105537\n",
       "INTEREST        0.097306\n",
       "Name: BIDS, dtype: float64"
      ]
     },
     "execution_count": 79,
     "metadata": {},
     "output_type": "execute_result"
    }
   ],
   "source": [
    "abs(data_2.corr()[\"BIDS\"]).sort_values(ascending=False)[1:13]"
   ]
  },
  {
   "cell_type": "code",
   "execution_count": 80,
   "id": "4c718501",
   "metadata": {},
   "outputs": [
    {
     "data": {
      "text/html": [
       "<div>\n",
       "<style scoped>\n",
       "    .dataframe tbody tr th:only-of-type {\n",
       "        vertical-align: middle;\n",
       "    }\n",
       "\n",
       "    .dataframe tbody tr th {\n",
       "        vertical-align: top;\n",
       "    }\n",
       "\n",
       "    .dataframe thead th {\n",
       "        text-align: right;\n",
       "    }\n",
       "</style>\n",
       "<table border=\"1\" class=\"dataframe\">\n",
       "  <thead>\n",
       "    <tr style=\"text-align: right;\">\n",
       "      <th></th>\n",
       "      <th>AMOUNT</th>\n",
       "      <th>INCOME</th>\n",
       "      <th>AGE</th>\n",
       "      <th>IND_制造业</th>\n",
       "      <th>CAR</th>\n",
       "      <th>loanId</th>\n",
       "      <th>WORKTIME</th>\n",
       "      <th>CREDIT</th>\n",
       "      <th>MARRY_已婚</th>\n",
       "      <th>MARRY_未婚</th>\n",
       "      <th>PURPOSE_其他借款</th>\n",
       "      <th>INTEREST</th>\n",
       "    </tr>\n",
       "  </thead>\n",
       "  <tbody>\n",
       "    <tr>\n",
       "      <th>count</th>\n",
       "      <td>10000.000000</td>\n",
       "      <td>9998.000000</td>\n",
       "      <td>10000.000000</td>\n",
       "      <td>10000.000000</td>\n",
       "      <td>10000.000000</td>\n",
       "      <td>1.000000e+04</td>\n",
       "      <td>9994.000000</td>\n",
       "      <td>10000.00000</td>\n",
       "      <td>10000.000000</td>\n",
       "      <td>10000.000000</td>\n",
       "      <td>10000.000000</td>\n",
       "      <td>10000.000000</td>\n",
       "    </tr>\n",
       "    <tr>\n",
       "      <th>mean</th>\n",
       "      <td>24545.835000</td>\n",
       "      <td>4.309162</td>\n",
       "      <td>34.755500</td>\n",
       "      <td>0.199700</td>\n",
       "      <td>0.391700</td>\n",
       "      <td>4.188469e+05</td>\n",
       "      <td>2.838003</td>\n",
       "      <td>2.14630</td>\n",
       "      <td>0.638500</td>\n",
       "      <td>0.325200</td>\n",
       "      <td>0.047100</td>\n",
       "      <td>12.621900</td>\n",
       "    </tr>\n",
       "    <tr>\n",
       "      <th>std</th>\n",
       "      <td>38280.756524</td>\n",
       "      <td>1.335842</td>\n",
       "      <td>6.682708</td>\n",
       "      <td>0.399795</td>\n",
       "      <td>0.488155</td>\n",
       "      <td>4.464326e+05</td>\n",
       "      <td>0.992755</td>\n",
       "      <td>1.53099</td>\n",
       "      <td>0.480459</td>\n",
       "      <td>0.468473</td>\n",
       "      <td>0.211863</td>\n",
       "      <td>2.273689</td>\n",
       "    </tr>\n",
       "    <tr>\n",
       "      <th>min</th>\n",
       "      <td>3000.000000</td>\n",
       "      <td>1.000000</td>\n",
       "      <td>24.000000</td>\n",
       "      <td>0.000000</td>\n",
       "      <td>0.000000</td>\n",
       "      <td>2.000000e+00</td>\n",
       "      <td>1.000000</td>\n",
       "      <td>1.00000</td>\n",
       "      <td>0.000000</td>\n",
       "      <td>0.000000</td>\n",
       "      <td>0.000000</td>\n",
       "      <td>5.000000</td>\n",
       "    </tr>\n",
       "    <tr>\n",
       "      <th>25%</th>\n",
       "      <td>8000.000000</td>\n",
       "      <td>3.000000</td>\n",
       "      <td>30.000000</td>\n",
       "      <td>0.000000</td>\n",
       "      <td>0.000000</td>\n",
       "      <td>8.463525e+04</td>\n",
       "      <td>2.000000</td>\n",
       "      <td>1.00000</td>\n",
       "      <td>0.000000</td>\n",
       "      <td>0.000000</td>\n",
       "      <td>0.000000</td>\n",
       "      <td>11.000000</td>\n",
       "    </tr>\n",
       "    <tr>\n",
       "      <th>50%</th>\n",
       "      <td>14400.000000</td>\n",
       "      <td>4.000000</td>\n",
       "      <td>33.000000</td>\n",
       "      <td>0.000000</td>\n",
       "      <td>0.000000</td>\n",
       "      <td>3.219450e+05</td>\n",
       "      <td>3.000000</td>\n",
       "      <td>2.00000</td>\n",
       "      <td>1.000000</td>\n",
       "      <td>0.000000</td>\n",
       "      <td>0.000000</td>\n",
       "      <td>12.000000</td>\n",
       "    </tr>\n",
       "    <tr>\n",
       "      <th>75%</th>\n",
       "      <td>26000.000000</td>\n",
       "      <td>5.000000</td>\n",
       "      <td>38.000000</td>\n",
       "      <td>0.000000</td>\n",
       "      <td>1.000000</td>\n",
       "      <td>5.829305e+05</td>\n",
       "      <td>4.000000</td>\n",
       "      <td>3.00000</td>\n",
       "      <td>1.000000</td>\n",
       "      <td>1.000000</td>\n",
       "      <td>0.000000</td>\n",
       "      <td>13.000000</td>\n",
       "    </tr>\n",
       "    <tr>\n",
       "      <th>max</th>\n",
       "      <td>500000.000000</td>\n",
       "      <td>7.000000</td>\n",
       "      <td>53.000000</td>\n",
       "      <td>1.000000</td>\n",
       "      <td>1.000000</td>\n",
       "      <td>2.086049e+06</td>\n",
       "      <td>4.000000</td>\n",
       "      <td>7.00000</td>\n",
       "      <td>1.000000</td>\n",
       "      <td>1.000000</td>\n",
       "      <td>1.000000</td>\n",
       "      <td>24.400000</td>\n",
       "    </tr>\n",
       "  </tbody>\n",
       "</table>\n",
       "</div>"
      ],
      "text/plain": [
       "              AMOUNT       INCOME           AGE       IND_制造业           CAR  \\\n",
       "count   10000.000000  9998.000000  10000.000000  10000.000000  10000.000000   \n",
       "mean    24545.835000     4.309162     34.755500      0.199700      0.391700   \n",
       "std     38280.756524     1.335842      6.682708      0.399795      0.488155   \n",
       "min      3000.000000     1.000000     24.000000      0.000000      0.000000   \n",
       "25%      8000.000000     3.000000     30.000000      0.000000      0.000000   \n",
       "50%     14400.000000     4.000000     33.000000      0.000000      0.000000   \n",
       "75%     26000.000000     5.000000     38.000000      0.000000      1.000000   \n",
       "max    500000.000000     7.000000     53.000000      1.000000      1.000000   \n",
       "\n",
       "             loanId     WORKTIME       CREDIT      MARRY_已婚      MARRY_未婚  \\\n",
       "count  1.000000e+04  9994.000000  10000.00000  10000.000000  10000.000000   \n",
       "mean   4.188469e+05     2.838003      2.14630      0.638500      0.325200   \n",
       "std    4.464326e+05     0.992755      1.53099      0.480459      0.468473   \n",
       "min    2.000000e+00     1.000000      1.00000      0.000000      0.000000   \n",
       "25%    8.463525e+04     2.000000      1.00000      0.000000      0.000000   \n",
       "50%    3.219450e+05     3.000000      2.00000      1.000000      0.000000   \n",
       "75%    5.829305e+05     4.000000      3.00000      1.000000      1.000000   \n",
       "max    2.086049e+06     4.000000      7.00000      1.000000      1.000000   \n",
       "\n",
       "       PURPOSE_其他借款      INTEREST  \n",
       "count  10000.000000  10000.000000  \n",
       "mean       0.047100     12.621900  \n",
       "std        0.211863      2.273689  \n",
       "min        0.000000      5.000000  \n",
       "25%        0.000000     11.000000  \n",
       "50%        0.000000     12.000000  \n",
       "75%        0.000000     13.000000  \n",
       "max        1.000000     24.400000  "
      ]
     },
     "execution_count": 80,
     "metadata": {},
     "output_type": "execute_result"
    }
   ],
   "source": [
    "bidsIndex = abs(data_2.corr()[\"BIDS\"]).sort_values(ascending=False)[1:13].index\n",
    "data_2.describe()[bidsIndex]"
   ]
  },
  {
   "cell_type": "markdown",
   "id": "b1b4d32d",
   "metadata": {},
   "source": [
    "#### Filling missing records for INCOME and WORKTIME"
   ]
  },
  {
   "cell_type": "code",
   "execution_count": 81,
   "id": "ec00290a",
   "metadata": {
    "scrolled": true
   },
   "outputs": [
    {
     "name": "stderr",
     "output_type": "stream",
     "text": [
      "<ipython-input-81-244c4f75e698>:1: SettingWithCopyWarning: \n",
      "A value is trying to be set on a copy of a slice from a DataFrame\n",
      "\n",
      "See the caveats in the documentation: https://pandas.pydata.org/pandas-docs/stable/user_guide/indexing.html#returning-a-view-versus-a-copy\n",
      "  data_2[\"INCOME\"][data_2[\"INCOME\"].isnull()] = data_2[\"INCOME\"].median()\n",
      "<ipython-input-81-244c4f75e698>:2: SettingWithCopyWarning: \n",
      "A value is trying to be set on a copy of a slice from a DataFrame\n",
      "\n",
      "See the caveats in the documentation: https://pandas.pydata.org/pandas-docs/stable/user_guide/indexing.html#returning-a-view-versus-a-copy\n",
      "  data_2[\"WORKTIME\"][data_2[\"WORKTIME\"].isnull()] = data_2[\"WORKTIME\"].median()\n"
     ]
    },
    {
     "data": {
      "text/html": [
       "<div>\n",
       "<style scoped>\n",
       "    .dataframe tbody tr th:only-of-type {\n",
       "        vertical-align: middle;\n",
       "    }\n",
       "\n",
       "    .dataframe tbody tr th {\n",
       "        vertical-align: top;\n",
       "    }\n",
       "\n",
       "    .dataframe thead th {\n",
       "        text-align: right;\n",
       "    }\n",
       "</style>\n",
       "<table border=\"1\" class=\"dataframe\">\n",
       "  <thead>\n",
       "    <tr style=\"text-align: right;\">\n",
       "      <th></th>\n",
       "      <th>AMOUNT</th>\n",
       "      <th>INCOME</th>\n",
       "      <th>AGE</th>\n",
       "      <th>IND_制造业</th>\n",
       "      <th>CAR</th>\n",
       "      <th>loanId</th>\n",
       "      <th>WORKTIME</th>\n",
       "      <th>CREDIT</th>\n",
       "      <th>MARRY_已婚</th>\n",
       "      <th>MARRY_未婚</th>\n",
       "      <th>PURPOSE_其他借款</th>\n",
       "      <th>INTEREST</th>\n",
       "    </tr>\n",
       "  </thead>\n",
       "  <tbody>\n",
       "    <tr>\n",
       "      <th>count</th>\n",
       "      <td>10000.000000</td>\n",
       "      <td>10000.000000</td>\n",
       "      <td>10000.000000</td>\n",
       "      <td>10000.000000</td>\n",
       "      <td>10000.000000</td>\n",
       "      <td>1.000000e+04</td>\n",
       "      <td>10000.000000</td>\n",
       "      <td>10000.00000</td>\n",
       "      <td>10000.000000</td>\n",
       "      <td>10000.000000</td>\n",
       "      <td>10000.000000</td>\n",
       "      <td>10000.000000</td>\n",
       "    </tr>\n",
       "    <tr>\n",
       "      <th>mean</th>\n",
       "      <td>24545.835000</td>\n",
       "      <td>4.309100</td>\n",
       "      <td>34.755500</td>\n",
       "      <td>0.199700</td>\n",
       "      <td>0.391700</td>\n",
       "      <td>4.188469e+05</td>\n",
       "      <td>2.838100</td>\n",
       "      <td>2.14630</td>\n",
       "      <td>0.638500</td>\n",
       "      <td>0.325200</td>\n",
       "      <td>0.047100</td>\n",
       "      <td>12.621900</td>\n",
       "    </tr>\n",
       "    <tr>\n",
       "      <th>std</th>\n",
       "      <td>38280.756524</td>\n",
       "      <td>1.335715</td>\n",
       "      <td>6.682708</td>\n",
       "      <td>0.399795</td>\n",
       "      <td>0.488155</td>\n",
       "      <td>4.464326e+05</td>\n",
       "      <td>0.992465</td>\n",
       "      <td>1.53099</td>\n",
       "      <td>0.480459</td>\n",
       "      <td>0.468473</td>\n",
       "      <td>0.211863</td>\n",
       "      <td>2.273689</td>\n",
       "    </tr>\n",
       "    <tr>\n",
       "      <th>min</th>\n",
       "      <td>3000.000000</td>\n",
       "      <td>1.000000</td>\n",
       "      <td>24.000000</td>\n",
       "      <td>0.000000</td>\n",
       "      <td>0.000000</td>\n",
       "      <td>2.000000e+00</td>\n",
       "      <td>1.000000</td>\n",
       "      <td>1.00000</td>\n",
       "      <td>0.000000</td>\n",
       "      <td>0.000000</td>\n",
       "      <td>0.000000</td>\n",
       "      <td>5.000000</td>\n",
       "    </tr>\n",
       "    <tr>\n",
       "      <th>25%</th>\n",
       "      <td>8000.000000</td>\n",
       "      <td>3.000000</td>\n",
       "      <td>30.000000</td>\n",
       "      <td>0.000000</td>\n",
       "      <td>0.000000</td>\n",
       "      <td>8.463525e+04</td>\n",
       "      <td>2.000000</td>\n",
       "      <td>1.00000</td>\n",
       "      <td>0.000000</td>\n",
       "      <td>0.000000</td>\n",
       "      <td>0.000000</td>\n",
       "      <td>11.000000</td>\n",
       "    </tr>\n",
       "    <tr>\n",
       "      <th>50%</th>\n",
       "      <td>14400.000000</td>\n",
       "      <td>4.000000</td>\n",
       "      <td>33.000000</td>\n",
       "      <td>0.000000</td>\n",
       "      <td>0.000000</td>\n",
       "      <td>3.219450e+05</td>\n",
       "      <td>3.000000</td>\n",
       "      <td>2.00000</td>\n",
       "      <td>1.000000</td>\n",
       "      <td>0.000000</td>\n",
       "      <td>0.000000</td>\n",
       "      <td>12.000000</td>\n",
       "    </tr>\n",
       "    <tr>\n",
       "      <th>75%</th>\n",
       "      <td>26000.000000</td>\n",
       "      <td>5.000000</td>\n",
       "      <td>38.000000</td>\n",
       "      <td>0.000000</td>\n",
       "      <td>1.000000</td>\n",
       "      <td>5.829305e+05</td>\n",
       "      <td>4.000000</td>\n",
       "      <td>3.00000</td>\n",
       "      <td>1.000000</td>\n",
       "      <td>1.000000</td>\n",
       "      <td>0.000000</td>\n",
       "      <td>13.000000</td>\n",
       "    </tr>\n",
       "    <tr>\n",
       "      <th>max</th>\n",
       "      <td>500000.000000</td>\n",
       "      <td>7.000000</td>\n",
       "      <td>53.000000</td>\n",
       "      <td>1.000000</td>\n",
       "      <td>1.000000</td>\n",
       "      <td>2.086049e+06</td>\n",
       "      <td>4.000000</td>\n",
       "      <td>7.00000</td>\n",
       "      <td>1.000000</td>\n",
       "      <td>1.000000</td>\n",
       "      <td>1.000000</td>\n",
       "      <td>24.400000</td>\n",
       "    </tr>\n",
       "  </tbody>\n",
       "</table>\n",
       "</div>"
      ],
      "text/plain": [
       "              AMOUNT        INCOME           AGE       IND_制造业           CAR  \\\n",
       "count   10000.000000  10000.000000  10000.000000  10000.000000  10000.000000   \n",
       "mean    24545.835000      4.309100     34.755500      0.199700      0.391700   \n",
       "std     38280.756524      1.335715      6.682708      0.399795      0.488155   \n",
       "min      3000.000000      1.000000     24.000000      0.000000      0.000000   \n",
       "25%      8000.000000      3.000000     30.000000      0.000000      0.000000   \n",
       "50%     14400.000000      4.000000     33.000000      0.000000      0.000000   \n",
       "75%     26000.000000      5.000000     38.000000      0.000000      1.000000   \n",
       "max    500000.000000      7.000000     53.000000      1.000000      1.000000   \n",
       "\n",
       "             loanId      WORKTIME       CREDIT      MARRY_已婚      MARRY_未婚  \\\n",
       "count  1.000000e+04  10000.000000  10000.00000  10000.000000  10000.000000   \n",
       "mean   4.188469e+05      2.838100      2.14630      0.638500      0.325200   \n",
       "std    4.464326e+05      0.992465      1.53099      0.480459      0.468473   \n",
       "min    2.000000e+00      1.000000      1.00000      0.000000      0.000000   \n",
       "25%    8.463525e+04      2.000000      1.00000      0.000000      0.000000   \n",
       "50%    3.219450e+05      3.000000      2.00000      1.000000      0.000000   \n",
       "75%    5.829305e+05      4.000000      3.00000      1.000000      1.000000   \n",
       "max    2.086049e+06      4.000000      7.00000      1.000000      1.000000   \n",
       "\n",
       "       PURPOSE_其他借款      INTEREST  \n",
       "count  10000.000000  10000.000000  \n",
       "mean       0.047100     12.621900  \n",
       "std        0.211863      2.273689  \n",
       "min        0.000000      5.000000  \n",
       "25%        0.000000     11.000000  \n",
       "50%        0.000000     12.000000  \n",
       "75%        0.000000     13.000000  \n",
       "max        1.000000     24.400000  "
      ]
     },
     "execution_count": 81,
     "metadata": {},
     "output_type": "execute_result"
    }
   ],
   "source": [
    "data_2[\"INCOME\"][data_2[\"INCOME\"].isnull()] = data_2[\"INCOME\"].median()\n",
    "data_2[\"WORKTIME\"][data_2[\"WORKTIME\"].isnull()] = data_2[\"WORKTIME\"].median()\n",
    "data_2.describe()[bidsIndex]"
   ]
  },
  {
   "cell_type": "markdown",
   "id": "e95a7867",
   "metadata": {},
   "source": [
    "#### To illustrate the relationship better we plot the figure\n",
    "Relationship between BIDS and threee most significant features"
   ]
  },
  {
   "cell_type": "markdown",
   "id": "3d44fd0b",
   "metadata": {},
   "source": [
    "Cutting data "
   ]
  },
  {
   "cell_type": "code",
   "execution_count": 133,
   "id": "abd21917",
   "metadata": {},
   "outputs": [],
   "source": [
    "data_2.loc[:,\"AMOUNTLABEL\"] = pd.cut(data[\"AMOUNT\"],5)\n",
    "data_2.loc[:,\"AGELABEL\"] = pd.cut(data[\"AGE\"],3)"
   ]
  },
  {
   "cell_type": "code",
   "execution_count": 135,
   "id": "fbff5acd",
   "metadata": {},
   "outputs": [
    {
     "data": {
      "text/plain": [
       "(2503.0, 102400.0]      9732\n",
       "(102400.0, 201800.0]     186\n",
       "(201800.0, 301200.0]      63\n",
       "(400600.0, 500000.0]      11\n",
       "(301200.0, 400600.0]       8\n",
       "Name: AMOUNTLABEL, dtype: int64"
      ]
     },
     "execution_count": 135,
     "metadata": {},
     "output_type": "execute_result"
    },
    {
     "data": {
      "text/plain": [
       "(23.971, 33.667]    5053\n",
       "(33.667, 43.333]    3702\n",
       "(43.333, 53.0]      1245\n",
       "Name: AGELABEL, dtype: int64"
      ]
     },
     "execution_count": 135,
     "metadata": {},
     "output_type": "execute_result"
    }
   ],
   "source": [
    "data_2[\"AMOUNTLABEL\"].value_counts()\n",
    "data_2[\"AGELABEL\"].value_counts()"
   ]
  },
  {
   "cell_type": "code",
   "execution_count": 137,
   "id": "a5bd6023",
   "metadata": {},
   "outputs": [],
   "source": [
    "amountLabels = []\n",
    "for label in data_2[\"AMOUNTLABEL\"].value_counts().index:\n",
    "    amountLabels.append(str(label))\n",
    "\n",
    "incomeLabels = [1,2,3,4,5,6,7]\n",
    "ageLabels = [\"23-33\",\"33-43\",\"43-53\"]\n"
   ]
  },
  {
   "cell_type": "code",
   "execution_count": 143,
   "id": "50dea936",
   "metadata": {},
   "outputs": [
    {
     "data": {
      "text/plain": [
       "<Figure size 1008x576 with 0 Axes>"
      ]
     },
     "execution_count": 143,
     "metadata": {},
     "output_type": "execute_result"
    },
    {
     "data": {
      "text/plain": [
       "<AxesSubplot:>"
      ]
     },
     "execution_count": 143,
     "metadata": {},
     "output_type": "execute_result"
    },
    {
     "data": {
      "text/plain": [
       "[<matplotlib.lines.Line2D at 0x1e6401f3b80>]"
      ]
     },
     "execution_count": 143,
     "metadata": {},
     "output_type": "execute_result"
    },
    {
     "data": {
      "text/plain": [
       "Text(0.5, 0, 'AMOUNT')"
      ]
     },
     "execution_count": 143,
     "metadata": {},
     "output_type": "execute_result"
    },
    {
     "data": {
      "text/plain": [
       "Text(0, 0.5, 'BIDS')"
      ]
     },
     "execution_count": 143,
     "metadata": {},
     "output_type": "execute_result"
    },
    {
     "data": {
      "text/plain": [
       "<AxesSubplot:>"
      ]
     },
     "execution_count": 143,
     "metadata": {},
     "output_type": "execute_result"
    },
    {
     "data": {
      "text/plain": [
       "[<matplotlib.lines.Line2D at 0x1e64032c370>]"
      ]
     },
     "execution_count": 143,
     "metadata": {},
     "output_type": "execute_result"
    },
    {
     "data": {
      "text/plain": [
       "Text(0.5, 0, 'INCOME')"
      ]
     },
     "execution_count": 143,
     "metadata": {},
     "output_type": "execute_result"
    },
    {
     "data": {
      "text/plain": [
       "<AxesSubplot:>"
      ]
     },
     "execution_count": 143,
     "metadata": {},
     "output_type": "execute_result"
    },
    {
     "data": {
      "text/plain": [
       "[<matplotlib.lines.Line2D at 0x1e6402ada90>]"
      ]
     },
     "execution_count": 143,
     "metadata": {},
     "output_type": "execute_result"
    },
    {
     "data": {
      "text/plain": [
       "Text(0.5, 0, 'AGE')"
      ]
     },
     "execution_count": 143,
     "metadata": {},
     "output_type": "execute_result"
    },
    {
     "data": {
      "text/plain": [
       "<function matplotlib.pyplot.show(close=None, block=None)>"
      ]
     },
     "execution_count": 143,
     "metadata": {},
     "output_type": "execute_result"
    },
    {
     "data": {
      "image/png": "[encoded data removed]",
      "text/plain": [
       "<Figure size 1008x576 with 3 Axes>"
      ]
     },
     "metadata": {
      "needs_background": "light"
     },
     "output_type": "display_data"
    }
   ],
   "source": [
    "plt.figure(figsize=[14, 8])\n",
    "grid = plt.GridSpec(12, 8, wspace=0.5, hspace=0.5)\n",
    "plt.subplot(grid[0:6,0:5])\n",
    "\n",
    "plt.plot(amountLabels,data_2.groupby([\"AMOUNTLABEL\"])[\"BIDS\"].mean(),\"b--.\")\n",
    "\n",
    "plt.xlabel(\"AMOUNT\")\n",
    "plt.ylabel(\"BIDS\")\n",
    "\n",
    "plt.subplot(grid[7:12,0:5])\n",
    "\n",
    "plt.plot(incomeLabels,data_2.groupby([\"INCOME\"])[\"BIDS\"].mean(),\"r--*\")\n",
    "plt.xlabel(\"INCOME\")\n",
    "\n",
    "\n",
    "plt.subplot(grid[0:12,5:8])\n",
    "\n",
    "plt.plot(ageLabels,data_2.groupby([\"AGELABEL\"])[\"BIDS\"].mean(),\"g--*\")\n",
    "plt.xlabel(\"AGE\")\n",
    "plt.show"
   ]
  },
  {
   "cell_type": "code",
   "execution_count": null,
   "id": "e51da5d8",
   "metadata": {},
   "outputs": [],
   "source": []
  }
 ],
 "metadata": {
  "kernelspec": {
   "display_name": "Python 3",
   "language": "python",
   "name": "python3"
  },
  "language_info": {
   "codemirror_mode": {
    "name": "ipython",
    "version": 3
   },
   "file_extension": ".py",
   "mimetype": "text/x-python",
   "name": "python",
   "nbconvert_exporter": "python",
   "pygments_lexer": "ipython3",
   "version": "3.8.8"
  }
 },
 "nbformat": 4,
 "nbformat_minor": 5
}
