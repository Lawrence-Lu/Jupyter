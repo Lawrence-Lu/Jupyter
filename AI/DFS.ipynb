{
 "cells": [
  {
   "cell_type": "code",
   "execution_count": 63,
   "metadata": {},
   "outputs": [],
   "source": [
    "# edges = [[1,2],[1,4],[2,3],[2,5],[3,6],[4,5],[5,6],[7,8],[8,9]]\n",
    "# nodes = [1,2,3,4,5,6,7,8,9]\n",
    "# edges = [[1,2],[1,3],[2,4],[2,5],[3,6]]\n",
    "# nodes = [1,2,3,4,5,6]\n",
    "# visited = []"
   ]
  },
  {
   "cell_type": "code",
   "execution_count": 64,
   "metadata": {},
   "outputs": [],
   "source": [
    "def visit(node):\n",
    "    visited.append(node)\n",
    "    neighbours = find_nei(node)\n",
    "    for u in neighbours:\n",
    "        if u not in visited:\n",
    "            visit(u)\n",
    "            \n",
    "def find_nei(node):\n",
    "    res = []\n",
    "    for edge in edges:\n",
    "        if edge[0] == node:\n",
    "            res.append(edge[1])\n",
    "        if edge[1] == node:\n",
    "            res.append(edge[0])\n",
    "    return res\n",
    " \n",
    "    \n",
    "    \n",
    "        "
   ]
  },
  {
   "cell_type": "code",
   "execution_count": 65,
   "metadata": {},
   "outputs": [
    {
     "name": "stdout",
     "output_type": "stream",
     "text": [
      "[1, 2, 3, 6, 5, 4, 7, 8, 9]\n"
     ]
    }
   ],
   "source": [
    "if __name__ == \"__main__\":\n",
    "    edges = [[1,2],[1,4],[2,3],[2,5],[3,6],[4,5],[5,6],[7,8],[8,9]]\n",
    "    nodes = [1,2,3,4,5,6,7,8,9]\n",
    "    visited = []\n",
    "    for node in nodes:\n",
    "        if node not in visited:\n",
    "            visit(node)\n",
    "    print(visited)"
   ]
  },
  {
   "cell_type": "code",
   "execution_count": null,
   "metadata": {},
   "outputs": [],
   "source": []
  }
 ],
 "metadata": {
  "kernelspec": {
   "display_name": "Python 3",
   "language": "python",
   "name": "python3"
  },
  "language_info": {
   "codemirror_mode": {
    "name": "ipython",
    "version": 3
   },
   "file_extension": ".py",
   "mimetype": "text/x-python",
   "name": "python",
   "nbconvert_exporter": "python",
   "pygments_lexer": "ipython3",
   "version": "3.7.0"
  }
 },
 "nbformat": 4,
 "nbformat_minor": 2
}
